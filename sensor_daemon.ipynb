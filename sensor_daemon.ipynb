{
 "cells": [
  {
   "cell_type": "code",
   "execution_count": null,
   "metadata": {
    "collapsed": false
   },
   "outputs": [],
   "source": [
    "import numpy as np\n",
    "import serial\n",
    "from queue import Queue\n",
    "import time\n",
    "import sys\n",
    "from IPython.display import clear_output"
   ]
  },
  {
   "cell_type": "code",
   "execution_count": null,
   "metadata": {
    "collapsed": false
   },
   "outputs": [],
   "source": [
    "COM = '/dev/cu.wchusbserial1420'# /dev/ttyACM0 (Linux)\n",
    "BAUD = 115200\n",
    "LENGTH = 50\n",
    "\n",
    "class SensorDaemon:\n",
    "    def __init__(self, length = 10, is_notebook=True, print_values=False):\n",
    "        self.ser = serial.Serial(COM, BAUD, timeout = .1)\n",
    "        self.keys = ['G', 'M', \"A\"]\n",
    "        self.length = length\n",
    "        self.g_display = []\n",
    "        self.m_display = []\n",
    "        self.a_display = []\n",
    "        self.g = np.empty([1,3])\n",
    "        self.m = np.empty([1,3])\n",
    "        self.a = np.empty([1,3])\n",
    "        self.vibration = 0\n",
    "        self.on = False\n",
    "        self.light = 0\n",
    "        self.start_time = None\n",
    "        self.end_time = None\n",
    "        self.is_notebook = is_notebook\n",
    "        self.print_values = print_values\n",
    "\n",
    "    def run(self, seconds = 60):\n",
    "        try:\n",
    "            while True:\n",
    "                out = str(self.ser.readline().decode())\n",
    "                if out and out[0] in self.keys:\n",
    "                    key = out[0]\n",
    "                    try:\n",
    "                        vals =[int(_) for _ in out[:-2].replace(\" \",\"\").split(',')[1:]]\n",
    "                        self.add_vals(key,vals)\n",
    "                        if not self.start_time:\n",
    "                            self.start_time = time.time()\n",
    "                        else:\n",
    "                            t = time.time()\n",
    "                            if t >= (self.start_time+seconds):\n",
    "                                self.stop()\n",
    "                                break\n",
    "                    except ValueError:\n",
    "                        pass\n",
    "                    finally:\n",
    "                        if self.display:\n",
    "                            self.display()\n",
    "        except KeyboardInterrupt:\n",
    "            self.stop()\n",
    "            \n",
    "    def stop(self):\n",
    "        self.end_time = t\n",
    "        self.ser.write(\"v \\n\".encode())\n",
    "        self.ser.write(\"r \\n\".encode())\n",
    "        print(\"\\nDaemon stopped\")\n",
    "            \n",
    "    def write(self, string):\n",
    "        self.ser.write((string+\"\\n\").encode())\n",
    "        \n",
    "        \n",
    "    def add_vals(self, key, value):\n",
    "        if key == \"G\":\n",
    "            self.g = np.vstack([self.g, value])\n",
    "            self.g_display = value\n",
    "        elif key == \"M\":\n",
    "            self.m = np.vstack([self.m, value])\n",
    "            self.m_display = value\n",
    "        elif key == \"A\":\n",
    "            self.a = np.vstack([self.a, value])\n",
    "            self.a_display = value\n",
    "    \n",
    "    def display(self):\n",
    "        g = self.g_display\n",
    "        m = self.m_display\n",
    "        a = self.a_display\n",
    "        t = time.time()-self.start_time\n",
    "        if self.is_notebook:\n",
    "            clear_output(wait=True)\n",
    "            sys.stdout.write('G: {} \\nM: {}\\nA: {} \\ntime: {}'.format(g,m,a,t))\n",
    "            sys.stdout.flush()\n",
    "        else:\n",
    "            print('\\r G: {} \\nM: {}\\nA: {} \\ntime: {}'.format(g,m,a,t), end=\"\")\n",
    "    \n",
    "    def save_csv(self, filename=\"output.csv\"):\n",
    "        timestamp = [self.start_time, self.end_time, self.end_time-self.start_time]\n",
    "        self.g[0] = timestamp\n",
    "        self.m[0] = timestamp\n",
    "        self.a[0] = timestamp\n",
    "        np.savetxt(\"g_\"+filename, self.g, delimiter=',')\n",
    "        np.savetxt(\"m_\"+filename, self.m, delimiter=',')\n",
    "        np.savetxt(\"a_\"+filename, self.a, delimiter=',')\n",
    "        print(\"Saved\")"
   ]
  },
  {
   "cell_type": "code",
   "execution_count": null,
   "metadata": {
    "collapsed": false
   },
   "outputs": [],
   "source": [
    "d = SensorDaemon(print_values = True)\n",
    "d.run(seconds = 5)"
   ]
  },
  {
   "cell_type": "code",
   "execution_count": null,
   "metadata": {
    "collapsed": false
   },
   "outputs": [],
   "source": [
    "print(\"Start time:\", d.start_time)\n",
    "print(\"End time:\", d.end_time)\n",
    "print(\"Elapsed time:\", d.end_time - d.start_time)"
   ]
  },
  {
   "cell_type": "code",
   "execution_count": null,
   "metadata": {
    "collapsed": false
   },
   "outputs": [],
   "source": [
    "user = \"114\"\n",
    "d.save_csv(filename=\"{}.csv\".format(user))"
   ]
  },
  {
   "cell_type": "code",
   "execution_count": null,
   "metadata": {
    "collapsed": false
   },
   "outputs": [],
   "source": []
  }
 ],
 "metadata": {
  "anaconda-cloud": {},
  "kernelspec": {
   "display_name": "Python [conda root]",
   "language": "python",
   "name": "conda-root-py"
  },
  "language_info": {
   "codemirror_mode": {
    "name": "ipython",
    "version": 3
   },
   "file_extension": ".py",
   "mimetype": "text/x-python",
   "name": "python",
   "nbconvert_exporter": "python",
   "pygments_lexer": "ipython3",
   "version": "3.5.2"
  }
 },
 "nbformat": 4,
 "nbformat_minor": 1
}
