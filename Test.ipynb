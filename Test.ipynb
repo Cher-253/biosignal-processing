{
 "cells": [
  {
   "cell_type": "code",
   "execution_count": null,
   "metadata": {},
   "outputs": [],
   "source": []
  },
  {
   "cell_type": "markdown",
   "metadata": {},
   "source": [
    "## Welcome! Please solve the questions below:\n",
    "\n",
    "Feel free to consult any online resources, but no googling the answer directly.\n",
    "\n",
    "If you have any clarifying questions, please raise you hand and I will come to you.\n",
    "\n",
    "If you finish before time is called, press \"save and checkpoint\" icon in the upper left hand corner, and notify us.\n",
    "\n",
    "Good luck!"
   ]
  },
  {
   "cell_type": "markdown",
   "metadata": {},
   "source": [
    "### Question 1\n",
    "Please print numbers 1 to 10 (inclusively) one number per line."
   ]
  },
  {
   "cell_type": "code",
   "execution_count": 2,
   "metadata": {},
   "outputs": [],
   "source": []
  },
  {
   "cell_type": "markdown",
   "metadata": {},
   "source": [
    "### Feel free to add test cases below. Or not."
   ]
  },
  {
   "cell_type": "code",
   "execution_count": null,
   "metadata": {},
   "outputs": [],
   "source": []
  },
  {
   "cell_type": "markdown",
   "metadata": {},
   "source": [
    "### Question 2\n",
    "\n",
    "Say you have an array for which the ith element is the price of a given stock on day i.\n",
    "\n",
    "\n",
    "If you were only permitted to complete at most one transaction (i.e., buy one and sell one share of the stock), design an algorithm to find the maximum profit.\n",
    "\n",
    "\n",
    "Note that you cannot sell a stock before you buy one.\n",
    "\n",
    "\n",
    "\n",
    "**Example 1:**\n",
    "\n",
    "\n",
    "Input: [7,1,5,3,6,4]\n",
    "\n",
    "\n",
    "Output: 5\n",
    "\n",
    "\n",
    "Explanation: Buy on day 2 (price = 1) and sell on day 5 (price = 6), profit = 6-1 = 5.\n",
    "             Not 7-1 = 6, as selling price needs to be larger than buying price.\n",
    "\n",
    "\n",
    "**Example 2:**\n",
    "\n",
    "\n",
    "Input: [7,6,4,3,1]\n",
    "\n",
    "\n",
    "Output: 0\n",
    "\n",
    "\n",
    "Explanation: In this case, no transaction is done, i.e. max profit = 0.\n"
   ]
  },
  {
   "cell_type": "code",
   "execution_count": 8,
   "metadata": {},
   "outputs": [],
   "source": [
    "def max_profit(array):\n",
    "    \n",
    "    # YOUR CODE HERE\n",
    "    \n",
    "    return\n",
    "    "
   ]
  },
  {
   "cell_type": "markdown",
   "metadata": {},
   "source": [
    "### Feel free to add test cases below. Or not."
   ]
  },
  {
   "cell_type": "code",
   "execution_count": null,
   "metadata": {},
   "outputs": [],
   "source": []
  },
  {
   "cell_type": "markdown",
   "metadata": {},
   "source": [
    "### Question 3\n",
    "Given an array nums, write a function to move all 0's to the end of it while maintaining the relative order of the non-zero elements.\n",
    "\n",
    "\n",
    "**Example:**\n",
    "\n",
    "\n",
    "Input: [0,1,0,3,12]\n",
    "\n",
    "\n",
    "Output: [1,3,12,0,0]\n",
    "\n",
    "\n",
    "**Note:**\n",
    "\n",
    "\n",
    "1) You must do this in-place without making a copy of the array.\n",
    "\n",
    "\n",
    "2) Minimize the total number of operations.\n"
   ]
  },
  {
   "cell_type": "code",
   "execution_count": null,
   "metadata": {},
   "outputs": [],
   "source": [
    "def move_zero(nums):\n",
    "    \n",
    "    # YOUR CODE HERE\n",
    "    \n",
    "    return\n"
   ]
  },
  {
   "cell_type": "markdown",
   "metadata": {},
   "source": [
    "### Feel free to add test cases below. Or not."
   ]
  },
  {
   "cell_type": "code",
   "execution_count": null,
   "metadata": {},
   "outputs": [],
   "source": []
  },
  {
   "cell_type": "markdown",
   "metadata": {},
   "source": [
    "### Question 4"
   ]
  },
  {
   "cell_type": "markdown",
   "metadata": {},
   "source": [
    "Given a binary tree, find its maximum depth.\n",
    "\n",
    "\n",
    "The maximum depth is the number of nodes along the longest path from the root node down to the farthest leaf node.\n",
    "\n",
    "\n",
    "Note: A leaf is a node with no children.\n",
    "\n",
    "\n",
    "**Example:**\n",
    "\n",
    "\n",
    "Given binary tree [3,9,20,null,null,15,7],\n",
    "\n",
    "\n",
    "   \n",
    "\n"
   ]
  },
  {
   "cell_type": "raw",
   "metadata": {},
   "source": [
    "    3\n",
    "   / \\\n",
    "  9  20\n",
    "    /  \\\n",
    "   15   7"
   ]
  },
  {
   "cell_type": "markdown",
   "metadata": {},
   "source": [
    "return its depth = 3."
   ]
  },
  {
   "cell_type": "code",
   "execution_count": null,
   "metadata": {},
   "outputs": [],
   "source": [
    "#Definition for a binary tree node.\n",
    "class TreeNode:\n",
    "    def __init__(self, x):\n",
    "        self.val = x\n",
    "        self.left = None\n",
    "        self.right = None\n",
    "        \n",
    "class Solution:\n",
    "    def maxDepth(self, root):\n",
    "        \"\"\"\n",
    "        :type root: TreeNode\n",
    "        :rtype: int\n",
    "        \"\"\"\n",
    "\n",
    "\n",
    " "
   ]
  },
  {
   "cell_type": "markdown",
   "metadata": {},
   "source": [
    "### Feel free to add test cases below. Or not."
   ]
  },
  {
   "cell_type": "code",
   "execution_count": null,
   "metadata": {},
   "outputs": [],
   "source": []
  }
 ],
 "metadata": {
  "kernelspec": {
   "display_name": "Python 3",
   "language": "python",
   "name": "python3"
  },
  "language_info": {
   "codemirror_mode": {
    "name": "ipython",
    "version": 3
   },
   "file_extension": ".py",
   "mimetype": "text/x-python",
   "name": "python",
   "nbconvert_exporter": "python",
   "pygments_lexer": "ipython3",
   "version": "3.6.4"
  }
 },
 "nbformat": 4,
 "nbformat_minor": 2
}
