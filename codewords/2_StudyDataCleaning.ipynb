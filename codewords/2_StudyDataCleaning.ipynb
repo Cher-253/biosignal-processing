{
 "cells": [
  {
   "cell_type": "markdown",
   "metadata": {},
   "source": [
    "# Overview\n",
    "\n",
    "Specify a data folder. Run all the cleaning functions. \n",
    "Using the cleaning routine, you need to determine the start and end of activity manually.\n",
    "Once clean, we can process the EDA data and extract phasic and SMNA data. "
   ]
  },
  {
   "cell_type": "code",
   "execution_count": 439,
   "metadata": {
    "ExecuteTime": {
     "end_time": "2018-09-08T14:54:57.620084Z",
     "start_time": "2018-09-08T14:54:57.617083Z"
    },
    "collapsed": true
   },
   "outputs": [],
   "source": [
    "folder = \"irb/411\"\n",
    "SESSION_ID = \"CHI2019\""
   ]
  },
  {
   "cell_type": "markdown",
   "metadata": {},
   "source": [
    "# Cleaning Functions\n",
    "Run all these cells."
   ]
  },
  {
   "cell_type": "code",
   "execution_count": 449,
   "metadata": {
    "ExecuteTime": {
     "end_time": "2018-09-11T09:37:57.920041Z",
     "start_time": "2018-09-11T09:37:54.979012Z"
    },
    "collapsed": false
   },
   "outputs": [],
   "source": [
    "import json, os, csv, platform, datetime, time\n",
    "from glob import glob\n",
    "import numpy as np\n",
    "import pandas as pd\n",
    "from pprint import pprint\n",
    "# from matplotlib import pyplot as pl\n",
    "\n",
    "DATA_ROOT = \"irb\"\n",
    "\n",
    "E4_MANIFEST = {\n",
    "    'phasic': {\n",
    "        'name': \"Phasic GSR\",\n",
    "        'description': \"Event-specific EDA\"\n",
    "    },\n",
    "    'smna':{\n",
    "        'name': \"SMNA\",\n",
    "        'description': \"sparse SMNA driver of phasic component\"\n",
    "    },\n",
    "    'textchunk': {\n",
    "        'name': \"Text Chunk\",\n",
    "        'description': \"Values correspond to typing behaviors.  # of consecutive characters typed.\"\n",
    "    },\n",
    "    'temp': {\n",
    "        'name': \"Temperature\",\n",
    "        'description': \"Data from temperature sensor expressed degrees on the Celsius (°C) scale.\",\n",
    "        'unit': \"celsius\"\n",
    "    },\n",
    "    'tags':{\n",
    "        'name': \"Tags\",\n",
    "        'description': \"Event mark times. Each row corresponds to a physical button press on the device; the same time as the status LED is first illuminated. The time is expressed as a unix timestamp in UTC and it is synchronized with initial time of the session indicated in the related data files from the corresponding session.\"\n",
    "    },\n",
    "    'acc':{\n",
    "        'description': \"Data from 3-axis accelerometer sensor. The accelerometer is configured to measure acceleration in the range [-2g, 2g]. Therefore the unit in this file is 1/64g. Data from x, y, and z axis are respectively in first, second, and third column.\",\n",
    "        'name': \"3-Axis Accelerometer\",\n",
    "        'unit': \"1/64g\"\n",
    "    }, \n",
    "    'eda':{\n",
    "        'description': \"Data from the electrodermal activity sensor expressed as microsiemens (μS).\", \n",
    "        'name':\"Electrodermal Activity\",\n",
    "        'unit': \"μS\"\n",
    "    }, \n",
    "    'bvp':{\n",
    "        'name': \"Blood Volume Pulse (BVP) from PPG\",\n",
    "        'description': \"Data from photoplethysmograph.\",\n",
    "    }, \n",
    "    'ibi':{\n",
    "        'name': \"IBI\", \n",
    "        'description': \"Time between individuals heart beats extracted from the BVP signal. No sample rate is needed for this file. The first column is the time (respect to the initial time) of the detected inter-beat interval expressed in seconds (s). The second column is the duration in seconds (s) of the detected inter-beat interval (i.e., the distance in seconds from the previous beat).\"\n",
    "    },\n",
    "    'hr':{\n",
    "        'name': \"Heart rate\", \n",
    "        'description': \"Average heart rate extracted from the BVP signal.The first row is the initial time of the session expressed as unix timestamp in UTC. The second row is the sample rate expressed in Hz.\"\n",
    "    }, \n",
    "    'kinnunen'{\n",
    "        'name': \"Kinnunen codes\", \n",
    "        'description': \"From Kinnunen et al.; self-efficacy assessments x emotions; used as a closed-coding system. Addition of a failure stage.\"\n",
    "    }\n",
    "    \n",
    "}\n",
    "\n",
    "def save_jsonfile(name, data):\n",
    "    with open(name, 'w') as outfile:\n",
    "        json.dump(data, outfile)\n",
    "    print(\"File saved!\", name)\n",
    "def gen_save_file(folder, feature):\n",
    "    user = os.path.basename(folder)\n",
    "    return os.path.join(folder, feature + \"_\" + user + \".json\")\n",
    "def get_file(folder, prefix):\n",
    "    user = os.path.basename(folder)\n",
    "    files = glob(folder + \"/\"+prefix+\"*.json\")\n",
    "    if len(files) == 0:\n",
    "        print(\"File not found\", prefix, 'in', folder)\n",
    "        return None\n",
    "    else: \n",
    "        with open(files[0], 'r+') as f: \n",
    "            contents = json.load(f)\n",
    "            return contents, files[0]\n",
    "def adjust_data(data, t, Fs):\n",
    "    metadata,f = get_file(folder, \"sessionmetadata\")\n",
    "    # ADJUST Y AND T RANGE    \n",
    "    start = metadata[\"session_start\"] - t\n",
    "    end = metadata[\"session_end\"] - t    \n",
    "    t0 = start * Fs \n",
    "    t0 = start * Fs  if start > 0 else 0\n",
    "    tf = end * Fs - 1 if end < len(data) else len(data)\n",
    "    data = data[t0:tf]\n",
    "    return data"
   ]
  },
  {
   "cell_type": "code",
   "execution_count": 450,
   "metadata": {
    "ExecuteTime": {
     "end_time": "2018-09-11T09:37:57.935033Z",
     "start_time": "2018-09-11T09:37:57.926914Z"
    },
    "collapsed": false
   },
   "outputs": [],
   "source": [
    "# MAKING A SESSION METADATA JSON\n",
    "def session_metadata(folder):\n",
    "    data = {}\n",
    "    data['session_start'] = session_start\n",
    "    data['session_end'] = session_end\n",
    "    data['elapsed_time'] = session_end - session_start\n",
    "    \n",
    "    log = [\"ACC_START\", time.ctime(eda_start), \"SESSION_START\", time.ctime(session_start), \"SESSION_END\", time.ctime(session_end), \"ELAPSED\", str(end-start)]\n",
    "    data['description'] =  \"\\n\".join(log)\n",
    "    savefile = gen_save_file(folder, \"sessionmetadata\")\n",
    "    save_jsonfile(savefile, data)"
   ]
  },
  {
   "cell_type": "code",
   "execution_count": 451,
   "metadata": {
    "ExecuteTime": {
     "end_time": "2018-09-11T09:37:58.020297Z",
     "start_time": "2018-09-11T09:37:57.977607Z"
    },
    "collapsed": false
   },
   "outputs": [],
   "source": [
    "def find_session(folder, start):\n",
    "    contents, filename = get_file(folder, \"acc\")\n",
    "    fig, ax = pl.subplots()\n",
    "    \n",
    "    eda_start = None\n",
    "    eda_Fs = None\n",
    "    \n",
    "    data = contents[\"data\"]\n",
    "\n",
    "    eda_start = contents[\"timestamp\"]\n",
    "    eda_Fs = contents[\"sampling_rate\"]\n",
    "\n",
    "    # PLOTTING ACCELERATION VALUES       \n",
    "    data = np.array(data, dtype='f')\n",
    "    ax.plot(data[:, 0], 'r')\n",
    "    ax.plot(data[:, 1], 'g')\n",
    "    ax.plot(data[:, 2], 'b')\n",
    "\n",
    "    # ADDING TAG EVENTS\n",
    "    contents, f = get_file(folder, \"tags\")\n",
    "    data = contents[\"data\"]\n",
    "    for tag in data:\n",
    "        elapsed_time = tag - eda_start\n",
    "        x = elapsed_time * eda_Fs                \n",
    "        ax.axvline(x=x)\n",
    "\n",
    "    # ADD LOG EVENTS\n",
    "    contents, f = get_file(folder, \"log\") \n",
    "    data = contents[\"data\"]\n",
    "\n",
    "    timestamps = [d['time'] for d in data]\n",
    "    for tag in timestamps:\n",
    "        elapsed_time = tag - eda_start\n",
    "        x = elapsed_time * eda_Fs    \n",
    "        ax.axvline(x=x, color='y')\n",
    "\n",
    "\n",
    "    def onclick(event):\n",
    "        global edaFs, eda_start\n",
    "        ix, iy = event.xdata, event.ydata\n",
    "        if start:\n",
    "            global session_start\n",
    "            session_start = eda_start + (ix/eda_Fs)\n",
    "        else:\n",
    "            global session_end\n",
    "            session_end = eda_start + (ix/eda_Fs)\n",
    "        return False\n",
    "    def handle_close(evt):\n",
    "        print('Closed Figure!')\n",
    "        print(\"START\", time.ctime(eda_start))\n",
    "\n",
    "    cid = fig.canvas.mpl_connect('close_event', handle_close)\n",
    "    cid = fig.canvas.mpl_connect('button_press_event', onclick)\n",
    "    return eda_start, eda_Fs"
   ]
  },
  {
   "cell_type": "markdown",
   "metadata": {},
   "source": [
    "# Cleaning Routine\n",
    "\n",
    "1. Run session_start and click on the start of the activity. \n",
    "2. Run session_end and click on the start of the activity. \n",
    "3. Verify start/end\n",
    "4. Generate sessionmetadata file.\n",
    "5. Run EDA analysis."
   ]
  },
  {
   "cell_type": "code",
   "execution_count": 452,
   "metadata": {
    "ExecuteTime": {
     "end_time": "2018-09-11T09:38:00.364905Z",
     "start_time": "2018-09-11T09:37:58.026479Z"
    },
    "collapsed": false
   },
   "outputs": [
    {
     "name": "stdout",
     "output_type": "stream",
     "text": [
      "Warning: Cannot change to a different GUI toolkit: qt. Using osx instead.\n",
      "Populating the interactive namespace from numpy and matplotlib\n",
      "Closed Figure!\n",
      "START Fri Aug 31 10:46:05 2018\n"
     ]
    }
   ],
   "source": [
    "%pylab qt\n",
    "#FIND SESSION START\n",
    "session_start = None\n",
    "eda_start, edaFs = find_session(folder, True)"
   ]
  },
  {
   "cell_type": "code",
   "execution_count": 444,
   "metadata": {
    "ExecuteTime": {
     "end_time": "2018-09-08T14:55:21.936025Z",
     "start_time": "2018-09-08T14:55:19.964895Z"
    },
    "collapsed": false
   },
   "outputs": [
    {
     "name": "stdout",
     "output_type": "stream",
     "text": [
      "Closed Figure!\n",
      "START Fri Aug 31 10:46:05 2018\n"
     ]
    }
   ],
   "source": [
    "# FIND SESSION END\n",
    "session_end = None\n",
    "eda_start, edaFs = find_session(folder, False)"
   ]
  },
  {
   "cell_type": "code",
   "execution_count": 445,
   "metadata": {
    "ExecuteTime": {
     "end_time": "2018-09-08T14:55:35.973842Z",
     "start_time": "2018-09-08T14:55:35.966442Z"
    },
    "collapsed": false
   },
   "outputs": [
    {
     "name": "stdout",
     "output_type": "stream",
     "text": [
      "Fri Aug 31 10:46:05 2018\n",
      "Fri Aug 31 10:49:14 2018\n",
      "Fri Aug 31 11:11:11 2018\n",
      "ELAPSED 0:21:56.417672\n"
     ]
    }
   ],
   "source": [
    "# REVIEW INFORMATION\n",
    "end = datetime.datetime.fromtimestamp(session_end)\n",
    "start = datetime.datetime.fromtimestamp(session_start)\n",
    "\n",
    "print(time.ctime(eda_start))\n",
    "print(time.ctime(session_start))\n",
    "print(time.ctime(session_end))\n",
    "print(\"ELAPSED\", str(end-start))"
   ]
  },
  {
   "cell_type": "code",
   "execution_count": 446,
   "metadata": {
    "ExecuteTime": {
     "end_time": "2018-09-08T14:55:38.019850Z",
     "start_time": "2018-09-08T14:55:38.015244Z"
    },
    "collapsed": false
   },
   "outputs": [
    {
     "name": "stdout",
     "output_type": "stream",
     "text": [
      "File saved! irb/411/sessionmetadata_411.json\n"
     ]
    }
   ],
   "source": [
    "# HAPPY?\n",
    "session_metadata(folder)"
   ]
  },
  {
   "cell_type": "code",
   "execution_count": null,
   "metadata": {
    "collapsed": true
   },
   "outputs": [],
   "source": []
  }
 ],
 "metadata": {
  "kernelspec": {
   "display_name": "Python 3",
   "language": "python",
   "name": "python3"
  },
  "language_info": {
   "codemirror_mode": {
    "name": "ipython",
    "version": 3
   },
   "file_extension": ".py",
   "mimetype": "text/x-python",
   "name": "python",
   "nbconvert_exporter": "python",
   "pygments_lexer": "ipython3",
   "version": "3.6.0"
  },
  "toc": {
   "base_numbering": 1,
   "nav_menu": {},
   "number_sections": true,
   "sideBar": true,
   "skip_h1_title": false,
   "title_cell": "Table of Contents",
   "title_sidebar": "Contents",
   "toc_cell": false,
   "toc_position": {},
   "toc_section_display": true,
   "toc_window_display": false
  }
 },
 "nbformat": 4,
 "nbformat_minor": 2
}
