{
 "cells": [
  {
   "cell_type": "code",
   "execution_count": 74,
   "metadata": {},
   "outputs": [
    {
     "name": "stdout",
     "output_type": "stream",
     "text": [
      "The autoreload extension is already loaded. To reload it, use:\n",
      "  %reload_ext autoreload\n"
     ]
    }
   ],
   "source": [
    "%load_ext autoreload\n",
    "%autoreload 1"
   ]
  },
  {
   "cell_type": "code",
   "execution_count": 75,
   "metadata": {},
   "outputs": [],
   "source": [
    "import numpy as np\n",
    "from chromatogram import dataset, codebook\n",
    "%aimport chromatogram.dataset\n",
    "%aimport chromatogram.codebook"
   ]
  },
  {
   "cell_type": "code",
   "execution_count": 76,
   "metadata": {},
   "outputs": [],
   "source": [
    "all_users = [111,112,113,211,212,214,411,412,413,414,512,613,614,711,713,811,813]\n",
    "# all_features = mts.compile_features([\"motion\", \"emotion\", \"jupyter\", \"bio\"])\n",
    "# full_mts, tsum, users, maxmin = mts.constructMTS(all_users, all_features, scale=True)"
   ]
  },
  {
   "cell_type": "code",
   "execution_count": 77,
   "metadata": {},
   "outputs": [
    {
     "name": "stdout",
     "output_type": "stream",
     "text": [
      "Adjusting feature bounds\n",
      "User: 111 \tFeats:  3 \tDatapoints:  37658\n",
      "User: 112 \tFeats:  3 \tDatapoints:  46972\n",
      "User: 113 \tFeats:  3 \tDatapoints:  36104\n",
      "User: 211 \tFeats:  3 \tDatapoints:  37905\n",
      "User: 212 \tFeats:  3 \tDatapoints:  35937\n",
      "User: 214 \tFeats:  3 \tDatapoints:  50189\n",
      "User: 411 \tFeats:  3 \tDatapoints:  42125\n",
      "User: 412 \tFeats:  3 \tDatapoints:  39754\n",
      "User: 413 \tFeats:  3 \tDatapoints:  44982\n",
      "User: 414 \tFeats:  3 \tDatapoints:  41171\n",
      "User: 512 \tFeats:  3 \tDatapoints:  47422\n",
      "User: 613 \tFeats:  3 \tDatapoints:  51639\n",
      "User: 614 \tFeats:  3 \tDatapoints:  51535\n",
      "User: 711 \tFeats:  3 \tDatapoints:  47701\n",
      "User: 713 \tFeats:  3 \tDatapoints:  32296\n",
      "User: 811 \tFeats:  3 \tDatapoints:  40272\n",
      "User: 813 \tFeats:  3 \tDatapoints:  43663\n"
     ]
    }
   ],
   "source": [
    "motion_feats = dataset.compile_features(['motion'])\n",
    "motion_mts, tsum, users, maxmin = dataset.constructMTS(all_users, motion_feats, scale=True)"
   ]
  },
  {
   "cell_type": "code",
   "execution_count": 83,
   "metadata": {},
   "outputs": [
    {
     "name": "stdout",
     "output_type": "stream",
     "text": [
      "Extracted N=9117 sequences with shape (3, 159)\n",
      "------------------------------------------\n",
      "Sampled M=495 codewords, 5.43%% of original N=9117 sequences\n",
      "------------------------------------------\n",
      "Extracted 5 codewords\n"
     ]
    }
   ],
   "source": [
    "L = codebook.time2L(users, motion_mts, 5)\n",
    "# sss, bounds, word_shape = codebook.subsequenceMTS(motion_mts, L)\n",
    "samples, linkage_matrix, motion_codebook = codebook.distill(motion_mts, L=159, cull_threshold=1.2, K=5)"
   ]
  },
  {
   "cell_type": "code",
   "execution_count": null,
   "metadata": {},
   "outputs": [],
   "source": []
  }
 ],
 "metadata": {
  "kernelspec": {
   "display_name": "Python 3",
   "language": "python",
   "name": "python3"
  },
  "language_info": {
   "codemirror_mode": {
    "name": "ipython",
    "version": 3
   },
   "file_extension": ".py",
   "mimetype": "text/x-python",
   "name": "python",
   "nbconvert_exporter": "python",
   "pygments_lexer": "ipython3",
   "version": "3.6.4"
  }
 },
 "nbformat": 4,
 "nbformat_minor": 2
}
