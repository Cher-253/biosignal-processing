{
 "cells": [
  {
   "cell_type": "code",
   "execution_count": 4,
   "metadata": {},
   "outputs": [
    {
     "ename": "ImportError",
     "evalue": "cannot import name 'utils'",
     "output_type": "error",
     "traceback": [
      "\u001b[0;31m---------------------------------------------------------------------------\u001b[0m",
      "\u001b[0;31mImportError\u001b[0m                               Traceback (most recent call last)",
      "\u001b[0;32m<ipython-input-4-1e9d111fe620>\u001b[0m in \u001b[0;36m<module>\u001b[0;34m()\u001b[0m\n\u001b[1;32m      1\u001b[0m \u001b[0;32mimport\u001b[0m \u001b[0mnumpy\u001b[0m \u001b[0;32mas\u001b[0m \u001b[0mnp\u001b[0m\u001b[0;34m\u001b[0m\u001b[0m\n\u001b[0;32m----> 2\u001b[0;31m \u001b[0;32mfrom\u001b[0m \u001b[0mchromatogram\u001b[0m \u001b[0;32mimport\u001b[0m \u001b[0mutils\u001b[0m\u001b[0;34m\u001b[0m\u001b[0m\n\u001b[0m",
      "\u001b[0;31mImportError\u001b[0m: cannot import name 'utils'"
     ]
    }
   ],
   "source": [
    "import numpy as np\n",
    "from chromatogram import utils"
   ]
  },
  {
   "cell_type": "code",
   "execution_count": 2,
   "metadata": {},
   "outputs": [],
   "source": [
    "all_users = [111,112,113,211,212,214,411,412,413,414,512,613,614,711,713,811,813]\n",
    "# all_features = mts.compile_features([\"motion\", \"emotion\", \"jupyter\", \"bio\"])\n",
    "# full_mts, tsum, users, maxmin = mts.constructMTS(all_users, all_features, scale=True)"
   ]
  },
  {
   "cell_type": "code",
   "execution_count": 3,
   "metadata": {},
   "outputs": [
    {
     "name": "stdout",
     "output_type": "stream",
     "text": [
      "Adjusting feature bounds\n",
      "User: 111 \tFeats:  3 \tDatapoints:  37658\n",
      "User: 112 \tFeats:  3 \tDatapoints:  46972\n",
      "User: 113 \tFeats:  3 \tDatapoints:  36104\n",
      "User: 211 \tFeats:  3 \tDatapoints:  37905\n",
      "User: 212 \tFeats:  3 \tDatapoints:  35937\n",
      "User: 214 \tFeats:  3 \tDatapoints:  50189\n",
      "User: 411 \tFeats:  3 \tDatapoints:  42125\n",
      "User: 412 \tFeats:  3 \tDatapoints:  39754\n",
      "User: 413 \tFeats:  3 \tDatapoints:  44982\n",
      "User: 414 \tFeats:  3 \tDatapoints:  41171\n",
      "User: 512 \tFeats:  3 \tDatapoints:  47422\n",
      "User: 613 \tFeats:  3 \tDatapoints:  51639\n",
      "User: 614 \tFeats:  3 \tDatapoints:  51535\n",
      "User: 711 \tFeats:  3 \tDatapoints:  47701\n",
      "User: 713 \tFeats:  3 \tDatapoints:  32296\n",
      "User: 811 \tFeats:  3 \tDatapoints:  40272\n",
      "User: 813 \tFeats:  3 \tDatapoints:  43663\n"
     ]
    }
   ],
   "source": [
    "motion_feats = mts.compile_features(['motion'])\n",
    "motion_mts, tsum, users, maxmin = mts.constructMTS(all_users, motion_feats, scale=True)"
   ]
  },
  {
   "cell_type": "code",
   "execution_count": 4,
   "metadata": {},
   "outputs": [
    {
     "name": "stdout",
     "output_type": "stream",
     "text": [
      "sequences 111 (471, 3, 159)\n",
      "sequences 112 (589, 3, 159)\n",
      "sequences 113 (453, 3, 159)\n",
      "sequences 211 (475, 3, 159)\n",
      "sequences 212 (451, 3, 159)\n",
      "sequences 214 (629, 3, 159)\n",
      "sequences 411 (527, 3, 159)\n",
      "sequences 412 (499, 3, 159)\n",
      "sequences 413 (563, 3, 159)\n",
      "sequences 414 (515, 3, 159)\n",
      "sequences 512 (595, 3, 159)\n",
      "sequences 613 (647, 3, 159)\n",
      "sequences 614 (647, 3, 159)\n",
      "sequences 711 (599, 3, 159)\n",
      "sequences 713 (405, 3, 159)\n",
      "sequences 811 (505, 3, 159)\n",
      "sequences 813 (547, 3, 159)\n"
     ]
    }
   ],
   "source": [
    "L = sampling.time2L(users, motion_mts, 5)\n",
    "sss, bounds, word_shape = sampling.subsequenceMTS(motion_mts, L)"
   ]
  },
  {
   "cell_type": "code",
   "execution_count": null,
   "metadata": {},
   "outputs": [],
   "source": []
  }
 ],
 "metadata": {
  "kernelspec": {
   "display_name": "Python 3",
   "language": "python",
   "name": "python3"
  },
  "language_info": {
   "codemirror_mode": {
    "name": "ipython",
    "version": 3
   },
   "file_extension": ".py",
   "mimetype": "text/x-python",
   "name": "python",
   "nbconvert_exporter": "python",
   "pygments_lexer": "ipython3",
   "version": "3.6.4"
  }
 },
 "nbformat": 4,
 "nbformat_minor": 2
}
