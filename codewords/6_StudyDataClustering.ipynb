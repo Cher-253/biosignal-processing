{
 "cells": [
  {
   "cell_type": "code",
   "execution_count": 28,
   "metadata": {
    "ExecuteTime": {
     "end_time": "2018-09-12T21:08:35.055000Z",
     "start_time": "2018-09-12T21:08:35.042000Z"
    }
   },
   "outputs": [],
   "source": [
    "from glob import glob\n",
    "import json, datetime, time, os, random\n",
    "\n",
    "%matplotlib inline\n",
    "from matplotlib import pyplot as plt\n",
    "\n",
    "import scipy\n",
    "from tslearn import metrics as tsm\n",
    "\n",
    "from scipy import ndimage, signal\n",
    "import scipy.spatial.distance as distance\n",
    "from scipy.spatial.distance import euclidean,pdist, squareform, cdist\n",
    "from scipy.cluster.hierarchy import dendrogram, linkage, fcluster\n",
    "\n",
    "import numpy as np\n",
    "from numpy.lib.stride_tricks import as_strided\n",
    "np.set_printoptions(precision=3, suppress=True)  # suppress scientific float notation\n",
    "\n",
    "import pandas as pd\n",
    "import os, json, platform\n",
    "import pylab as pl\n",
    "from pprint import pprint"
   ]
  },
  {
   "cell_type": "code",
   "execution_count": 76,
   "metadata": {
    "ExecuteTime": {
     "end_time": "2018-09-12T21:20:36.211000Z",
     "start_time": "2018-09-12T21:20:36.112000Z"
    }
   },
   "outputs": [],
   "source": [
    "def get_file(folder, prefix):\n",
    "    user = os.path.basename(folder)\n",
    "    files = glob(folder + \"/\"+prefix+\"*.json\")\n",
    "    if len(files) == 0:\n",
    "        print(\"File not found\", prefix, 'in', folder)\n",
    "        return None\n",
    "    else: \n",
    "        with open(files[0], 'r') as f: \n",
    "            contents = json.load(f)\n",
    "            return contents, files[0]\n",
    "        \n",
    "def fancy_dendrogram(*args, **kwargs):\n",
    "    max_d = kwargs.pop('max_d', None)\n",
    "    if max_d and 'color_threshold' not in kwargs:\n",
    "        kwargs['color_threshold'] = max_d\n",
    "    annotate_above = kwargs.pop('annotate_above', 0)\n",
    "\n",
    "    ddata = dendrogram(*args, **kwargs)\n",
    "\n",
    "    if not kwargs.get('no_plot', False):\n",
    "        plt.title('Hierarchical Clustering Dendrogram (truncated)')\n",
    "        plt.xlabel('sample index or (cluster size)')\n",
    "        plt.ylabel('distance')\n",
    "        for i, d, c in zip(ddata['icoord'], ddata['dcoord'], ddata['color_list']):\n",
    "            x = 0.5 * sum(i[1:3])\n",
    "            y = d[1]\n",
    "            if y > annotate_above:\n",
    "                plt.plot(x, y, 'o', c=c)\n",
    "                plt.annotate(\"%.3g\" % y, (x, y), xytext=(0, -5),\n",
    "                             textcoords='offset points',\n",
    "                             va='top', ha='center')\n",
    "        if max_d:\n",
    "            plt.axhline(y=max_d, c='k')\n",
    "    return ddata\n",
    "\n",
    "\n",
    "def visualize_codeword(ss, ax):\n",
    "    N = WORD_SHAPE[0]\n",
    "    ss = ss.reshape(WORD_SHAPE)\n",
    "    cm = plt.get_cmap(\"Set3\")\n",
    "    colors = [cm(i) for i in np.linspace(0, 0.9, N)]\n",
    "    for i in range(0, N):\n",
    "        ax.plot(ss[i], color=colors[i])\n",
    "        \n",
    "def visualize_codebook(sss, subplot=False):\n",
    "    if subplot: \n",
    "        pl.rcParams['figure.figsize'] = [8, 7]\n",
    "        fig, axs = pl.subplots(len(sss), 1, sharex=True)        \n",
    "        for i, ss in enumerate(sss):\n",
    "            visualize_codeword(ss, axs[i])\n",
    "    else:\n",
    "        for ss in sss:\n",
    "            visualize_codeword(ss, pl)\n",
    "    pl.show()\n",
    "\n",
    "    \n",
    "    \n",
    "# DISTANCE METRICS\n",
    "# Similarity Distance\n",
    "def EuclideanDistance(t1, t2):\n",
    "    return np.sqrt(np.sum((t1-t2)**2))\n",
    "\n",
    "# Dynamic Time Warping Distance\n",
    "def DTWDistance(s1, s2):\n",
    "    # Initialize distance matrix (nxn), pad filling with inf  \n",
    "    DTW= {}\n",
    "    n1 = range(len(s1))\n",
    "    n2 = range(len(s2))\n",
    "    for i in n1:\n",
    "        DTW[(i, -1)] = float('inf')\n",
    "    for i in n2:\n",
    "        DTW[(-1, i)] = float('inf')\n",
    "    DTW[(-1, -1)] = 0\n",
    "    \n",
    "    # Compute the distances (O(nm) time)\n",
    "    for i in n1:\n",
    "        for j in n2:\n",
    "            dist = (s1[i]-s2[j])**2\n",
    "            DTW[(i, j)] = dist + min(DTW[(i-1, j)], DTW[(i, j-1)], DTW[(i-1, j-1)])\n",
    "    return np.sqrt(DTW[len(s1)-1, len(s2)-1])\n",
    "def DTWDistanceD(t1, t2):\n",
    "    arr = []\n",
    "    for i in range(0, t1.shape[0]):\n",
    "        arr.append(DTWDistance(t1[i], t2[i]))\n",
    "    return sum(arr)\n",
    "\n",
    "def DTWDistance2D(t1, t2):\n",
    "    t1 = t1.reshape(WORD_SHAPE)\n",
    "    t2 = t2.reshape(WORD_SHAPE)\n",
    "    arr = []\n",
    "    for i in range(0, t1.shape[0]):\n",
    "        arr.append(DTWDistance(t1[i], t2[i]))\n",
    "    return sum(arr)\n",
    "\n",
    "def sample_sss(A, n):\n",
    "    return A[np.random.choice(A.shape[0], n, replace=False), :]\n",
    "\n",
    "def dtw2(a, b):\n",
    "    a = a.reshape(WORD_SHAPE)\n",
    "    b = b.reshape(WORD_SHAPE)\n",
    "    return tsm.dtw(a, b)"
   ]
  },
  {
   "cell_type": "markdown",
   "metadata": {},
   "source": [
    "# LOAD DATA INTO MEMORY\n",
    "\n",
    "`\n",
    "meta = {\n",
    "    \"L\": L,\n",
    "    \"word_shape\": word_shape,\n",
    "    \"description\": \"Accelerometer data for 2 users.\",\n",
    "    \"users\": users, \n",
    "    \"features\": features, \n",
    "    \"subsequences\": sss.tolist()\n",
    "}\n",
    "`"
   ]
  },
  {
   "cell_type": "code",
   "execution_count": 101,
   "metadata": {
    "ExecuteTime": {
     "end_time": "2018-09-12T21:28:00.232000Z",
     "start_time": "2018-09-12T21:28:00.140000Z"
    }
   },
   "outputs": [
    {
     "ename": "KeyError",
     "evalue": "'bounds'",
     "output_type": "error",
     "traceback": [
      "\u001b[1;31m---------------------------------------------------------------------------\u001b[0m",
      "\u001b[1;31mKeyError\u001b[0m                                  Traceback (most recent call last)",
      "\u001b[1;32m<ipython-input-101-abe792bbc434>\u001b[0m in \u001b[0;36m<module>\u001b[1;34m()\u001b[0m\n\u001b[0;32m      5\u001b[0m \u001b[0muser\u001b[0m \u001b[1;33m=\u001b[0m \u001b[0mnp\u001b[0m\u001b[1;33m.\u001b[0m\u001b[0marray\u001b[0m\u001b[1;33m(\u001b[0m\u001b[0mcontents\u001b[0m\u001b[1;33m[\u001b[0m\u001b[1;34m\"users\"\u001b[0m\u001b[1;33m]\u001b[0m\u001b[1;33m)\u001b[0m\u001b[1;33m\u001b[0m\u001b[0m\n\u001b[0;32m      6\u001b[0m \u001b[0mfeat\u001b[0m \u001b[1;33m=\u001b[0m \u001b[0mnp\u001b[0m\u001b[1;33m.\u001b[0m\u001b[0marray\u001b[0m\u001b[1;33m(\u001b[0m\u001b[0mcontents\u001b[0m\u001b[1;33m[\u001b[0m\u001b[1;34m\"features\"\u001b[0m\u001b[1;33m]\u001b[0m\u001b[1;33m)\u001b[0m\u001b[1;33m\u001b[0m\u001b[0m\n\u001b[1;32m----> 7\u001b[1;33m \u001b[0mBOUNDS\u001b[0m \u001b[1;33m=\u001b[0m \u001b[0mcontents\u001b[0m\u001b[1;33m[\u001b[0m\u001b[1;34m\"bounds\"\u001b[0m\u001b[1;33m]\u001b[0m\u001b[1;33m\u001b[0m\u001b[0m\n\u001b[0m\u001b[0;32m      8\u001b[0m \u001b[1;33m\u001b[0m\u001b[0m\n\u001b[0;32m      9\u001b[0m \u001b[1;32mprint\u001b[0m\u001b[1;33m(\u001b[0m\u001b[0mos\u001b[0m\u001b[1;33m.\u001b[0m\u001b[0mpath\u001b[0m\u001b[1;33m.\u001b[0m\u001b[0mbasename\u001b[0m\u001b[1;33m(\u001b[0m\u001b[0mf\u001b[0m\u001b[1;33m)\u001b[0m\u001b[1;33m,\u001b[0m \u001b[1;34m\",\"\u001b[0m\u001b[1;33m.\u001b[0m\u001b[0mjoin\u001b[0m\u001b[1;33m(\u001b[0m\u001b[0mfeat\u001b[0m\u001b[1;33m)\u001b[0m\u001b[1;33m,\u001b[0m \u001b[0muser\u001b[0m\u001b[1;33m)\u001b[0m\u001b[1;33m\u001b[0m\u001b[0m\n",
      "\u001b[1;31mKeyError\u001b[0m: 'bounds'"
     ]
    }
   ],
   "source": [
    "DATASET_ROOT = \"irb/datasets\"\n",
    "contents, f = get_file(DATASET_ROOT, \"acc_for_2\")\n",
    "WORD_SHAPE = tuple(contents[\"word_shape\"])\n",
    "sss = np.array(contents[\"subsequences\"])\n",
    "user = np.array(contents[\"users\"])\n",
    "feat = np.array(contents[\"features\"])\n",
    "BOUNDS = contents[\"bounds\"]\n",
    "\n",
    "print(os.path.basename(f), \",\".join(feat), user)\n",
    "print(\"(n=%s, %s)\" % (sss.shape))\n",
    "print(\"word_shape --> features=%s, L=%s)\" % (WORD_SHAPE))"
   ]
  },
  {
   "cell_type": "markdown",
   "metadata": {},
   "source": [
    "# GREEDY K-CENTER SAMPLING"
   ]
  },
  {
   "cell_type": "code",
   "execution_count": 78,
   "metadata": {
    "ExecuteTime": {
     "end_time": "2018-09-12T21:20:43.821000Z",
     "start_time": "2018-09-12T21:20:43.666000Z"
    }
   },
   "outputs": [
    {
     "data": {
      "image/png": "[encoded data removed]",
      "text/plain": [
       "<Figure size 432x288 with 1 Axes>"
      ]
     },
     "metadata": {},
     "output_type": "display_data"
    }
   ],
   "source": [
    "a = sss[0]\n",
    "b = sss[10]\n",
    "d2 = DTWDistance2D(a, b)\n",
    "visualize_codebook([a, b], subplot=False)\n",
    "\n"
   ]
  },
  {
   "cell_type": "code",
   "execution_count": 79,
   "metadata": {
    "ExecuteTime": {
     "end_time": "2018-09-12T21:20:45.121000Z",
     "start_time": "2018-09-12T21:20:45.108000Z"
    }
   },
   "outputs": [],
   "source": [
    "def sample_kcenters_pdist(words, kcenters, cull_threshold=100):\n",
    "#     print(\"WORDS\", words.shape[0], \"CENTERS\", len(kcenters))\n",
    "    if len(words) <= 1: \n",
    "        return np.array(kcenters)\n",
    "    \n",
    "    dtw_along_axis = np.vectorize(dtw2, signature='(n),(m)->()')\n",
    "    dists = dtw_along_axis(words, kcenters[-1])\n",
    "    \n",
    "    idx = np.argsort(dists)\n",
    "#     print(idx)\n",
    "#     print(dists)\n",
    "#     print(dists[idx[0]], dists[idx[-1]])\n",
    "    kcenters.append(words[idx[-1]])    \n",
    "    dists = np.sort(dists)\n",
    "    cull_at = np.argmax(dists>cull_threshold)\n",
    "    cull_indices = idx[:cull_at]\n",
    "    cull_indices = np.append(cull_indices, idx[-1])\n",
    "    words = np.delete(words, cull_indices, 0)\n",
    "    return np.array(sample_kcenters(words, kcenters))\n",
    "    "
   ]
  },
  {
   "cell_type": "code",
   "execution_count": 81,
   "metadata": {
    "ExecuteTime": {
     "end_time": "2018-09-12T21:20:52.701000Z",
     "start_time": "2018-09-12T21:20:52.669000Z"
    }
   },
   "outputs": [
    {
     "name": "stdout",
     "output_type": "stream",
     "text": [
      "((1562, 300), 781)\n"
     ]
    }
   ],
   "source": [
    "CULL_THRESHOLD = 100\n",
    "SAMPLE_PROP = 0.5 # Sample X% of the subsequence dataset\n",
    "SAMPLE_SIZE = int(sss.shape[0] * SAMPLE_PROP)\n",
    "FIRST_CENTER = random.randint(0,SAMPLE_SIZE)\n",
    "print(sss.shape, SAMPLE_SIZE)\n",
    "code_sample = sample_sss(sss, SAMPLE_SIZE)\n",
    "seed = code_sample[FIRST_CENTER]\n",
    "code_sample = np.delete(code_sample, FIRST_CENTER, 0)"
   ]
  },
  {
   "cell_type": "code",
   "execution_count": 82,
   "metadata": {
    "ExecuteTime": {
     "end_time": "2018-09-12T21:20:58.239000Z",
     "start_time": "2018-09-12T21:20:53.653000Z"
    }
   },
   "outputs": [],
   "source": [
    "centers = sample_kcenters_pdist(code_sample, [seed], CULL_THRESHOLD)\n",
    "print(centers.shape)"
   ]
  },
  {
   "cell_type": "markdown",
   "metadata": {},
   "source": [
    "# HIEARCHICAL CLUSTERING"
   ]
  },
  {
   "cell_type": "code",
   "execution_count": 84,
   "metadata": {
    "ExecuteTime": {
     "end_time": "2018-09-12T21:22:02.702000Z",
     "start_time": "2018-09-12T21:22:01.004000Z"
    }
   },
   "outputs": [],
   "source": [
    "# generate the linkage matrix\n",
    "Z = linkage(centers, method='single', metric=dtw2)"
   ]
  },
  {
   "cell_type": "code",
   "execution_count": 87,
   "metadata": {
    "ExecuteTime": {
     "end_time": "2018-09-12T21:22:36.686000Z",
     "start_time": "2018-09-12T21:22:36.680000Z"
    }
   },
   "outputs": [
    {
     "name": "stdout",
     "output_type": "stream",
     "text": [
      "(297, 300)\n"
     ]
    }
   ],
   "source": [
    "# set cut-off to 50\n",
    "max_d = 400  # max_d as in max_distance\n",
    "print(centers.shape)"
   ]
  },
  {
   "cell_type": "code",
   "execution_count": 88,
   "metadata": {
    "ExecuteTime": {
     "end_time": "2018-09-12T21:22:38.139000Z",
     "start_time": "2018-09-12T21:22:37.830000Z"
    }
   },
   "outputs": [
    {
     "data": {
      "image/png": "[encoded data removed]",
      "text/plain": [
       "<Figure size 432x288 with 1 Axes>"
      ]
     },
     "metadata": {},
     "output_type": "display_data"
    }
   ],
   "source": [
    "fancy_dendrogram(\n",
    "    Z,\n",
    "    truncate_mode='lastp',\n",
    "    p=12,\n",
    "    leaf_rotation=90.,\n",
    "    leaf_font_size=12.,\n",
    "    show_contracted=True,\n",
    "    annotate_above= 0.4,  # useful in small plots so annotations don't overlap\n",
    "    max_d=max_d,\n",
    ")\n",
    "plt.show()"
   ]
  },
  {
   "cell_type": "markdown",
   "metadata": {},
   "source": [
    "# Assembling the codebook"
   ]
  },
  {
   "cell_type": "code",
   "execution_count": 93,
   "metadata": {
    "ExecuteTime": {
     "end_time": "2018-09-12T21:24:35.198000Z",
     "start_time": "2018-09-12T21:24:35.032000Z"
    }
   },
   "outputs": [
    {
     "name": "stdout",
     "output_type": "stream",
     "text": [
      "('Samples ', 297)\n",
      "('Clusters found', 3)\n",
      "(1, (300,))\n",
      "(2, (300,))\n",
      "(3, (300,))\n"
     ]
    },
    {
     "data": {
      "image/png": "[encoded data removed]",
      "text/plain": [
       "<Figure size 576x504 with 3 Axes>"
      ]
     },
     "metadata": {},
     "output_type": "display_data"
    }
   ],
   "source": [
    "clusters = fcluster(Z, max_d, criterion='distance')\n",
    "print(\"Samples \", len(centers))\n",
    "n_clusters = np.max(clusters)\n",
    "print(\"Clusters found\", n_clusters)\n",
    "\n",
    "\n",
    "\n",
    "codebook = {}\n",
    "for i in range(0, len(clusters)):\n",
    "    cluster_id = clusters[i]\n",
    "    if not cluster_id in codebook:\n",
    "        codebook[cluster_id] = []\n",
    "    codebook[cluster_id].append(centers[i])\n",
    "codebook\n",
    "for k in codebook:\n",
    "    codeset = np.array(codebook[k])\n",
    "    codeset = np.average(codeset, 0)\n",
    "    codebook[k] = codeset\n",
    "\n",
    "for k in codebook:\n",
    "    print(k, codebook[k].shape)\n",
    "    \n",
    "codebook = codebook.values()\n",
    "visualize_codebook(codebook, subplot=True)\n"
   ]
  },
  {
   "cell_type": "markdown",
   "metadata": {},
   "source": [
    "# Applying the codebook"
   ]
  },
  {
   "cell_type": "code",
   "execution_count": 98,
   "metadata": {
    "ExecuteTime": {
     "end_time": "2018-09-12T21:26:36.990000Z",
     "start_time": "2018-09-12T21:26:36.790000Z"
    }
   },
   "outputs": [
    {
     "name": "stdout",
     "output_type": "stream",
     "text": [
      "(3, 300)\n"
     ]
    }
   ],
   "source": [
    "\n",
    "# activity = sss.reshape(1562, 300)[15:]\n",
    "activity = sss\n",
    "cb = np.array(list(codebook))#.reshape(3, 300)\n",
    "print(cb.shape)\n",
    "\n",
    "result = []\n",
    "for i, window in enumerate(activity):\n",
    "#     print(i, \"out of\", activity.shape[0])\n",
    "    codeword = np.argmin([dtw2(codeword, window) for codeword in cb])\n",
    "    result.append(codeword)          "
   ]
  },
  {
   "cell_type": "code",
   "execution_count": 100,
   "metadata": {
    "ExecuteTime": {
     "end_time": "2018-09-12T21:27:23.828000Z",
     "start_time": "2018-09-12T21:27:23.797000Z"
    }
   },
   "outputs": [
    {
     "ename": "NameError",
     "evalue": "name 'bounds' is not defined",
     "output_type": "error",
     "traceback": [
      "\u001b[1;31m---------------------------------------------------------------------------\u001b[0m",
      "\u001b[1;31mNameError\u001b[0m                                 Traceback (most recent call last)",
      "\u001b[1;32m<ipython-input-100-f66da25c83a3>\u001b[0m in \u001b[0;36m<module>\u001b[1;34m()\u001b[0m\n\u001b[0;32m      1\u001b[0m \u001b[0marr\u001b[0m \u001b[1;33m=\u001b[0m \u001b[0mnp\u001b[0m\u001b[1;33m.\u001b[0m\u001b[0marray\u001b[0m\u001b[1;33m(\u001b[0m\u001b[0mresult\u001b[0m\u001b[1;33m)\u001b[0m\u001b[1;33m\u001b[0m\u001b[0m\n\u001b[1;32m----> 2\u001b[1;33m \u001b[1;32mprint\u001b[0m\u001b[1;33m(\u001b[0m\u001b[0marr\u001b[0m\u001b[1;33m,\u001b[0m \u001b[0mbounds\u001b[0m\u001b[1;33m)\u001b[0m\u001b[1;33m\u001b[0m\u001b[0m\n\u001b[0m\u001b[0;32m      3\u001b[0m \u001b[1;31m# test = np.zeros((2, 841))\u001b[0m\u001b[1;33m\u001b[0m\u001b[1;33m\u001b[0m\u001b[0m\n\u001b[0;32m      4\u001b[0m \u001b[1;31m# test[0] = arr[0:841]\u001b[0m\u001b[1;33m\u001b[0m\u001b[1;33m\u001b[0m\u001b[0m\n\u001b[0;32m      5\u001b[0m \u001b[1;31m# test[1] = np.pad(arr[841:], (0, 841-706), 'constant')\u001b[0m\u001b[1;33m\u001b[0m\u001b[1;33m\u001b[0m\u001b[0m\n",
      "\u001b[1;31mNameError\u001b[0m: name 'bounds' is not defined"
     ]
    }
   ],
   "source": [
    "arr = np.array(result)\n",
    "print(arr, bounds)\n",
    "# test = np.zeros((2, 841))\n",
    "# test[0] = arr[0:841]\n",
    "# test[1] = np.pad(arr[841:], (0, 841-706), 'constant')\n",
    "# print(test)"
   ]
  },
  {
   "cell_type": "code",
   "execution_count": null,
   "metadata": {
    "ExecuteTime": {
     "end_time": "2018-09-11T19:24:50.627702Z",
     "start_time": "2018-09-11T19:24:50.424563Z"
    }
   },
   "outputs": [],
   "source": [
    "# pl.plot(result)\n",
    "# (841, 721)\n",
    "# user = users[0]\n",
    "\n",
    "\n",
    "# print(arr.shape)\n",
    "pl.imshow(test, cmap='Set3', interpolation='nearest', aspect='auto')\n",
    "# pl.title(\"User %i: %s\" % (user, \",\".join(features)))\n",
    "# pl.ylabel(\"Acceleration(1/64g)\")\n",
    "# pl.xlabel(\"Sample\")\n",
    "pl.show()"
   ]
  },
  {
   "cell_type": "code",
   "execution_count": null,
   "metadata": {
    "ExecuteTime": {
     "end_time": "2018-09-11T19:29:10.306891Z",
     "start_time": "2018-09-11T19:29:09.918854Z"
    }
   },
   "outputs": [],
   "source": [
    "cb = np.array(list(codebook))\n",
    "visualize_codebook(cb, subplot=True)"
   ]
  },
  {
   "cell_type": "markdown",
   "metadata": {},
   "source": [
    "# Characterizing the codebook"
   ]
  },
  {
   "cell_type": "code",
   "execution_count": null,
   "metadata": {
    "ExecuteTime": {
     "end_time": "2018-09-11T18:08:37.118775Z",
     "start_time": "2018-09-11T18:08:37.112219Z"
    }
   },
   "outputs": [],
   "source": [
    "n = sss.shape[0]\n",
    "m = 6000/sample * n / 1000/60\n",
    "print(m,'min;','n=', sample, 'out of', n)"
   ]
  },
  {
   "cell_type": "markdown",
   "metadata": {},
   "source": [
    "## K-center clustering"
   ]
  },
  {
   "cell_type": "code",
   "execution_count": null,
   "metadata": {
    "ExecuteTime": {
     "end_time": "2018-05-28T17:00:37.035935Z",
     "start_time": "2018-05-28T17:00:37.026891Z"
    }
   },
   "outputs": [],
   "source": [
    "L = 16\n",
    "ss = subsequences(np.array(y_gauss), L)\n",
    "print(\"Total subsequences\", len(ss))\n",
    "\n",
    "sample_proportion = 0.02\n",
    "sample_n = int(sample_proportion * len(ss))\n",
    "sample_idxs = np.random.choice(ss.shape[0], sample_n, replace=False)\n",
    "sample = ss[sample_idxs]\n",
    "print(\"Total sampled n=\", len(sample), sample_n/len(ss) * 100, \"%\")"
   ]
  },
  {
   "cell_type": "code",
   "execution_count": null,
   "metadata": {
    "ExecuteTime": {
     "end_time": "2018-05-28T15:50:13.556762Z",
     "start_time": "2018-05-28T15:50:10.312650Z"
    }
   },
   "outputs": [],
   "source": [
    "Y = squareform(distance.pdist(sample, DTWDistance))\n",
    "plt.imshow(Y,interpolation='none',cmap='Blues')"
   ]
  },
  {
   "cell_type": "code",
   "execution_count": null,
   "metadata": {
    "ExecuteTime": {
     "end_time": "2018-05-28T17:00:38.375967Z",
     "start_time": "2018-05-28T17:00:38.026116Z"
    }
   },
   "outputs": [],
   "source": [
    "# generate the linkage matrix\n",
    "Z = linkage(sample, method='single', metric=DTWDistance)"
   ]
  },
  {
   "cell_type": "code",
   "execution_count": null,
   "metadata": {
    "ExecuteTime": {
     "end_time": "2018-05-28T17:00:47.360148Z",
     "start_time": "2018-05-28T17:00:47.022295Z"
    }
   },
   "outputs": [],
   "source": [
    "plt.title('Hierarchical Clustering Dendrogram (truncated)')\n",
    "plt.xlabel('sample index or (cluster size)')\n",
    "plt.ylabel('distance')\n",
    "dendrogram(\n",
    "    Z,\n",
    "    truncate_mode='lastp',  # show only the last p merged clusters\n",
    "    p=12,  # show only the last p merged clusters\n",
    "    leaf_rotation=90.,\n",
    "    leaf_font_size=12.,\n",
    "    show_contracted=True,  # to get a distribution impression in truncated branches\n",
    ")\n",
    "plt.show()"
   ]
  },
  {
   "cell_type": "code",
   "execution_count": null,
   "metadata": {
    "ExecuteTime": {
     "end_time": "2018-05-28T15:51:15.839221Z",
     "start_time": "2018-05-28T22:51:14.184Z"
    }
   },
   "outputs": [],
   "source": [
    "# set cut-off to 50\n",
    "max_d = 0.4  # max_d as in max_distance"
   ]
  },
  {
   "cell_type": "code",
   "execution_count": null,
   "metadata": {
    "ExecuteTime": {
     "end_time": "2018-05-28T15:51:15.839483Z",
     "start_time": "2018-05-28T22:51:14.906Z"
    }
   },
   "outputs": [],
   "source": [
    "fancy_dendrogram(\n",
    "    Z,\n",
    "    truncate_mode='lastp',\n",
    "    p=12,\n",
    "    leaf_rotation=90.,\n",
    "    leaf_font_size=12.,\n",
    "    show_contracted=True,\n",
    "    annotate_above= 0.4,  # useful in small plots so annotations don't overlap\n",
    "    max_d=max_d,\n",
    ")\n",
    "plt.show()"
   ]
  },
  {
   "cell_type": "code",
   "execution_count": null,
   "metadata": {
    "ExecuteTime": {
     "end_time": "2018-05-28T17:01:09.234208Z",
     "start_time": "2018-05-28T17:01:09.222003Z"
    }
   },
   "outputs": [],
   "source": [
    "max_d = 0.3\n",
    "clusters = fcluster(Z, max_d, criterion='distance')\n",
    "clusters\n",
    "print(\"Samples \", len(sample))\n",
    "n_clusters = np.max(clusters)\n",
    "print(\"Clusters found\", n_clusters)\n",
    "clusters"
   ]
  },
  {
   "cell_type": "code",
   "execution_count": null,
   "metadata": {
    "ExecuteTime": {
     "end_time": "2018-09-11T17:34:32.280268Z",
     "start_time": "2018-09-11T17:34:32.020849Z"
    }
   },
   "outputs": [],
   "source": [
    "plt.hist(centers, bins='auto')  # arguments are passed to np.histogram\n",
    "plt.title(\"Histogram with 'auto' bins\")\n",
    "plt.show()"
   ]
  },
  {
   "cell_type": "markdown",
   "metadata": {},
   "source": [
    "# Notes"
   ]
  },
  {
   "cell_type": "code",
   "execution_count": 69,
   "metadata": {
    "ExecuteTime": {
     "end_time": "2018-09-12T21:19:04.323000Z",
     "start_time": "2018-09-12T21:19:04.312000Z"
    }
   },
   "outputs": [],
   "source": [
    "def sample_kcenters(words, kcenters, cull_threshold=100):\n",
    "#     print(\"WORDS\", words.shape[0], \"CENTERS\", len(kcenters))\n",
    "    \n",
    "    if len(words) <= 1: \n",
    "        return np.array(kcenters)\n",
    "    \n",
    "    n = words.shape[0]\n",
    "    dist = [dtw2(kcenters[-1], words[i]) for i in range(0, n)]\n",
    "    dists = np.array(dist)\n",
    "    \n",
    "    idx = np.argsort(dists)\n",
    "    kcenters.append(words[idx[-1]])    \n",
    "    dists = np.sort(dists)\n",
    "    cull_at = np.argmax(dists>cull_threshold)\n",
    "    \n",
    "    cull_indices = idx[:cull_at]\n",
    "    cull_indices = np.append(cull_indices, idx[-1])\n",
    "    words = np.delete(words, cull_indices, 0)\n",
    "    \n",
    "    return np.array(sample_kcenters(words, kcenters))"
   ]
  },
  {
   "cell_type": "code",
   "execution_count": 75,
   "metadata": {
    "ExecuteTime": {
     "end_time": "2018-09-12T21:19:13.836000Z",
     "start_time": "2018-09-12T21:19:13.564000Z"
    }
   },
   "outputs": [],
   "source": [
    "centers = sample_kcenters(code_sample, [seed], CULL_THRESHOLD)"
   ]
  }
 ],
 "metadata": {
  "kernelspec": {
   "display_name": "Python 2",
   "language": "python",
   "name": "python2"
  },
  "language_info": {
   "codemirror_mode": {
    "name": "ipython",
    "version": 2
   },
   "file_extension": ".py",
   "mimetype": "text/x-python",
   "name": "python",
   "nbconvert_exporter": "python",
   "pygments_lexer": "ipython2",
   "version": "2.7.14"
  },
  "toc": {
   "base_numbering": 1,
   "nav_menu": {},
   "number_sections": true,
   "sideBar": true,
   "skip_h1_title": false,
   "title_cell": "Table of Contents",
   "title_sidebar": "Contents",
   "toc_cell": false,
   "toc_position": {},
   "toc_section_display": true,
   "toc_window_display": false
  }
 },
 "nbformat": 4,
 "nbformat_minor": 2
}
