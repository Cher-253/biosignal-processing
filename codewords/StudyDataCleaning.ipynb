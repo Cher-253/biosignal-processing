{
 "cells": [
  {
   "cell_type": "code",
   "execution_count": 7,
   "metadata": {
    "ExecuteTime": {
     "end_time": "2018-09-05T16:42:24.778990Z",
     "start_time": "2018-09-05T16:42:24.775694Z"
    },
    "collapsed": true
   },
   "outputs": [],
   "source": [
    "folder = \"irb/111\"\n",
    "SESSION_ID = \"CHI2019\""
   ]
  },
  {
   "cell_type": "code",
   "execution_count": 15,
   "metadata": {
    "ExecuteTime": {
     "end_time": "2018-09-05T16:42:57.347298Z",
     "start_time": "2018-09-05T16:42:57.323872Z"
    },
    "collapsed": false
   },
   "outputs": [],
   "source": [
    "import json, os, csv, platform, datetime, time\n",
    "from glob import glob\n",
    "import numpy as np\n",
    "from pprint import pprint\n",
    "from matplotlib import pyplot as pl\n",
    "\n",
    "DATA_ROOT = \"irb\"\n",
    "\n",
    "E4_MANIFEST = {\n",
    "    'phasic': {\n",
    "        'name': \"Phasic GSR\",\n",
    "        'description': \"Event-specific EDA\"\n",
    "    },\n",
    "    'smna':{\n",
    "        'name': \"SMNA\",\n",
    "        'description': \"sparse SMNA driver of phasic component\"\n",
    "    },\n",
    "    'temp': {\n",
    "        'name': \"Temperature\",\n",
    "        'description': \"Data from temperature sensor expressed degrees on the Celsius (°C) scale.\",\n",
    "        'unit': \"celsius\"\n",
    "    },\n",
    "    'tags':{\n",
    "        'name': \"Tags\",\n",
    "        'description': \"Event mark times. Each row corresponds to a physical button press on the device; the same time as the status LED is first illuminated. The time is expressed as a unix timestamp in UTC and it is synchronized with initial time of the session indicated in the related data files from the corresponding session.\"\n",
    "    },\n",
    "    'acc':{\n",
    "        'description': \"Data from 3-axis accelerometer sensor. The accelerometer is configured to measure acceleration in the range [-2g, 2g]. Therefore the unit in this file is 1/64g. Data from x, y, and z axis are respectively in first, second, and third column.\",\n",
    "        'name': \"3-Axis Accelerometer\",\n",
    "        'unit': \"1/64g\"\n",
    "    }, \n",
    "    'eda':{\n",
    "        'description': \"Data from the electrodermal activity sensor expressed as microsiemens (μS).\", \n",
    "        'name':\"Electrodermal Activity\",\n",
    "        'unit': \"μS\"\n",
    "    }, \n",
    "    'bvp':{\n",
    "        'name': \"Blood Volume Pulse (BVP) from PPG\",\n",
    "        'description': \"Data from photoplethysmograph.\",\n",
    "    }, \n",
    "    'ibi':{\n",
    "        'name': \"IBI\", \n",
    "        'description': \"Time between individuals heart beats extracted from the BVP signal. No sample rate is needed for this file. The first column is the time (respect to the initial time) of the detected inter-beat interval expressed in seconds (s). The second column is the duration in seconds (s) of the detected inter-beat interval (i.e., the distance in seconds from the previous beat).\"\n",
    "    },\n",
    "    'hr':{\n",
    "        'name': \"Heart rate\", \n",
    "        'description': \"Average heart rate extracted from the BVP signal.The first row is the initial time of the session expressed as unix timestamp in UTC. The second row is the sample rate expressed in Hz.\"\n",
    "    }\n",
    "}\n",
    "\n",
    "def save_jsonfile(name, data):\n",
    "    with open(name, 'w') as outfile:\n",
    "        json.dump(data, outfile)\n",
    "    print(\"File saved!\", name)\n"
   ]
  },
  {
   "cell_type": "code",
   "execution_count": 16,
   "metadata": {
    "ExecuteTime": {
     "end_time": "2018-09-05T16:42:58.411660Z",
     "start_time": "2018-09-05T16:42:58.272818Z"
    },
    "collapsed": true
   },
   "outputs": [],
   "source": [
    "# %load lib/cvxEDA.py\n",
    "\"\"\"\n",
    "______________________________________________________________________________\n",
    "\n",
    " File:                         cvxEDA.py\n",
    " Last revised:                 07 Nov 2015 r69\n",
    " ______________________________________________________________________________\n",
    "\n",
    " Copyright (C) 2014-2015 Luca Citi, Alberto Greco\n",
    " \n",
    " This program is free software; you can redistribute it and/or modify it under\n",
    " the terms of the GNU General Public License as published by the Free Software\n",
    " Foundation; either version 3 of the License, or (at your option) any later\n",
    " version.\n",
    " \n",
    " This program is distributed in the hope that it will be useful, but WITHOUT\n",
    " ANY WARRANTY; without even the implied warranty of MERCHANTABILITY or FITNESS\n",
    " FOR A PARTICULAR PURPOSE. See the GNU General Public License for more details.\n",
    " \n",
    " You may contact the author by e-mail (lciti@ieee.org).\n",
    " ______________________________________________________________________________\n",
    "\n",
    " This method was first proposed in:\n",
    " A Greco, G Valenza, A Lanata, EP Scilingo, and L Citi\n",
    " \"cvxEDA: a Convex Optimization Approach to Electrodermal Activity Processing\"\n",
    " IEEE Transactions on Biomedical Engineering, 2015\n",
    " DOI: 10.1109/TBME.2015.2474131\n",
    "\n",
    " If you use this program in support of published research, please include a\n",
    " citation of the reference above. If you use this code in a software package,\n",
    " please explicitly inform the end users of this copyright notice and ask them\n",
    " to cite the reference above in their published research.\n",
    " ______________________________________________________________________________\n",
    "\"\"\"\n",
    "\n",
    "import numpy as np\n",
    "import cvxopt as cv\n",
    "import cvxopt.solvers\n",
    "\n",
    "def cvxEDA(y, delta, tau0=2., tau1=0.7, delta_knot=10., alpha=8e-4, gamma=1e-2,\n",
    "           solver=None, options={'reltol':1e-9}):\n",
    "    \"\"\"CVXEDA Convex optimization approach to electrodermal activity processing\n",
    "\n",
    "    This function implements the cvxEDA algorithm described in \"cvxEDA: a\n",
    "    Convex Optimization Approach to Electrodermal Activity Processing\"\n",
    "    (http://dx.doi.org/10.1109/TBME.2015.2474131, also available from the\n",
    "    authors' homepages).\n",
    "\n",
    "    Arguments:\n",
    "       y: observed EDA signal (we recommend normalizing it: y = zscore(y))\n",
    "       delta: sampling interval (in seconds) of y\n",
    "       tau0: slow time constant of the Bateman function\n",
    "       tau1: fast time constant of the Bateman function\n",
    "       delta_knot: time between knots of the tonic spline function\n",
    "       alpha: penalization for the sparse SMNA driver\n",
    "       gamma: penalization for the tonic spline coefficients\n",
    "       solver: sparse QP solver to be used, see cvxopt.solvers.qp\n",
    "       options: solver options, see:\n",
    "                http://cvxopt.org/userguide/coneprog.html#algorithm-parameters\n",
    "\n",
    "    Returns (see paper for details):\n",
    "       r: phasic component\n",
    "       p: sparse SMNA driver of phasic component\n",
    "       t: tonic component\n",
    "       l: coefficients of tonic spline\n",
    "       d: offset and slope of the linear drift term\n",
    "       e: model residuals\n",
    "       obj: value of objective function being minimized (eq 15 of paper)\n",
    "    \"\"\"\n",
    "\n",
    "    n = len(y)\n",
    "    y = cv.matrix(y)\n",
    "\n",
    "    # bateman ARMA model\n",
    "    a1 = 1./min(tau1, tau0) # a1 > a0\n",
    "    a0 = 1./max(tau1, tau0)\n",
    "    ar = np.array([(a1*delta + 2.) * (a0*delta + 2.), 2.*a1*a0*delta**2 - 8.,\n",
    "        (a1*delta - 2.) * (a0*delta - 2.)]) / ((a1 - a0) * delta**2)\n",
    "    ma = np.array([1., 2., 1.])\n",
    "\n",
    "    # matrices for ARMA model\n",
    "    i = np.arange(2, n)\n",
    "    A = cv.spmatrix(np.tile(ar, (n-2,1)), np.c_[i,i,i], np.c_[i,i-1,i-2], (n,n))\n",
    "    M = cv.spmatrix(np.tile(ma, (n-2,1)), np.c_[i,i,i], np.c_[i,i-1,i-2], (n,n))\n",
    "\n",
    "    # spline\n",
    "    delta_knot_s = int(round(delta_knot / delta))\n",
    "    spl = np.r_[np.arange(1.,delta_knot_s), np.arange(delta_knot_s, 0., -1.)] # order 1\n",
    "    spl = np.convolve(spl, spl, 'full')\n",
    "    spl /= max(spl)\n",
    "    # matrix of spline regressors\n",
    "    i = np.c_[np.arange(-(len(spl)//2), (len(spl)+1)//2)] + np.r_[np.arange(0, n, delta_knot_s)]\n",
    "    nB = i.shape[1]\n",
    "    j = np.tile(np.arange(nB), (len(spl),1))\n",
    "    p = np.tile(spl, (nB,1)).T\n",
    "    valid = (i >= 0) & (i < n)\n",
    "    B = cv.spmatrix(p[valid], i[valid], j[valid])\n",
    "\n",
    "    # trend\n",
    "    C = cv.matrix(np.c_[np.ones(n), np.arange(1., n+1.)/n])\n",
    "    nC = C.size[1]\n",
    "\n",
    "    # Solve the problem:\n",
    "    # .5*(M*q + B*l + C*d - y)^2 + alpha*sum(A,1)*p + .5*gamma*l'*l\n",
    "    # s.t. A*q >= 0\n",
    "\n",
    "    old_options = cv.solvers.options.copy()\n",
    "    cv.solvers.options.clear()\n",
    "    cv.solvers.options.update(options)\n",
    "    if solver == 'conelp':\n",
    "        # Use conelp\n",
    "        z = lambda m,n: cv.spmatrix([],[],[],(m,n))\n",
    "        G = cv.sparse([[-A,z(2,n),M,z(nB+2,n)],[z(n+2,nC),C,z(nB+2,nC)],\n",
    "                    [z(n,1),-1,1,z(n+nB+2,1)],[z(2*n+2,1),-1,1,z(nB,1)],\n",
    "                    [z(n+2,nB),B,z(2,nB),cv.spmatrix(1.0, range(nB), range(nB))]])\n",
    "        h = cv.matrix([z(n,1),.5,.5,y,.5,.5,z(nB,1)])\n",
    "        c = cv.matrix([(cv.matrix(alpha, (1,n)) * A).T,z(nC,1),1,gamma,z(nB,1)])\n",
    "        res = cv.solvers.conelp(c, G, h, dims={'l':n,'q':[n+2,nB+2],'s':[]})\n",
    "        obj = res['primal objective']\n",
    "    else:\n",
    "        # Use qp\n",
    "        Mt, Ct, Bt = M.T, C.T, B.T\n",
    "        H = cv.sparse([[Mt*M, Ct*M, Bt*M], [Mt*C, Ct*C, Bt*C], \n",
    "                    [Mt*B, Ct*B, Bt*B+gamma*cv.spmatrix(1.0, range(nB), range(nB))]])\n",
    "        f = cv.matrix([(cv.matrix(alpha, (1,n)) * A).T - Mt*y,  -(Ct*y), -(Bt*y)])\n",
    "        res = cv.solvers.qp(H, f, cv.spmatrix(-A.V, A.I, A.J, (n,len(f))),\n",
    "                            cv.matrix(0., (n,1)), solver=solver)\n",
    "        obj = res['primal objective'] + .5 * (y.T * y)\n",
    "    cv.solvers.options.clear()\n",
    "    cv.solvers.options.update(old_options)\n",
    "\n",
    "    l = res['x'][-nB:]\n",
    "    d = res['x'][n:n+nC]\n",
    "    t = B*l + C*d\n",
    "    q = res['x'][:n]\n",
    "    p = A * q\n",
    "    r = M * q\n",
    "    e = y - r - t\n",
    "\n",
    "    return (np.array(a).ravel() for a in (r, p, t, l, d, e, obj))\n"
   ]
  },
  {
   "cell_type": "code",
   "execution_count": 17,
   "metadata": {
    "ExecuteTime": {
     "end_time": "2018-09-05T16:42:58.928645Z",
     "start_time": "2018-09-05T16:42:58.921659Z"
    },
    "collapsed": true
   },
   "outputs": [],
   "source": [
    "def get_file(folder, prefix):\n",
    "    user = os.path.basename(folder)\n",
    "    files = glob(folder + \"/\"+prefix+\"*.json\")\n",
    "    if len(files) == 0:\n",
    "        print(\"File not found\", prefix, 'in', folder)\n",
    "        return None\n",
    "    else: \n",
    "        with open(files[0], 'r+') as f: \n",
    "            contents = json.load(f)\n",
    "            return contents, files[0]\n",
    "    "
   ]
  },
  {
   "cell_type": "markdown",
   "metadata": {},
   "source": [
    "# Cleaning Routine"
   ]
  },
  {
   "cell_type": "code",
   "execution_count": 18,
   "metadata": {
    "ExecuteTime": {
     "end_time": "2018-09-05T16:42:59.279392Z",
     "start_time": "2018-09-05T16:42:59.273441Z"
    },
    "collapsed": false
   },
   "outputs": [],
   "source": [
    "contents, f = get_file(folder, \"eda\")"
   ]
  },
  {
   "cell_type": "code",
   "execution_count": 44,
   "metadata": {
    "ExecuteTime": {
     "end_time": "2018-09-05T16:50:23.410502Z",
     "start_time": "2018-09-05T16:50:23.401988Z"
    },
    "collapsed": false
   },
   "outputs": [],
   "source": [
    "# MAKING A SESSION METADATA JSON\n",
    "def session_metadata(folder):\n",
    "    contents, filename = get_file(folder, \"acc\")\n",
    "    directory = os.path.dirname(filename)\n",
    "    filename, ext = os.path.basename(filename).split('.')\n",
    "    filetype, user_id = filename.split(\"_\")\n",
    "    data = {}\n",
    "    data['session_start'] = session_start\n",
    "    data['session_end'] = session_end\n",
    "    data['elapsed_time'] = session_end - session_start\n",
    "    \n",
    "    log = [\"ACC_START\", time.ctime(eda_start), \"SESSION_START\", time.ctime(session_start), \"SESSION_END\", time.ctime(session_end), \"ELAPSED\", str(end-start)]\n",
    "    data['description'] =  \"\\n\".join(log)\n",
    "    save_jsonfile(os.path.join(directory, \"sessionmetadata\" + \"_\" + user_id + \".json\"), data)\n"
   ]
  },
  {
   "cell_type": "code",
   "execution_count": 45,
   "metadata": {
    "ExecuteTime": {
     "end_time": "2018-09-05T16:50:24.148486Z",
     "start_time": "2018-09-05T16:50:24.101881Z"
    },
    "collapsed": false
   },
   "outputs": [],
   "source": [
    "def find_session(folder, start):\n",
    "    contents, filename = get_file(folder, \"acc\")\n",
    "    fig, ax = pl.subplots()\n",
    "    \n",
    "    eda_start = None\n",
    "    eda_Fs = None\n",
    "    \n",
    "#     print(contents)\n",
    "    data = contents[\"data\"]\n",
    "\n",
    "    eda_start = contents[\"timestamp\"]\n",
    "    eda_Fs = contents[\"sampling_rate\"]\n",
    "\n",
    "    # PLOTTING ACCELERATION VALUES       \n",
    "    data = np.array(data, dtype='f')\n",
    "    ax.plot(data[:, 0], 'r')\n",
    "    ax.plot(data[:, 1], 'g')\n",
    "    ax.plot(data[:, 2], 'b')\n",
    "\n",
    "    # ADDING TAG EVENTS\n",
    "    contents, f = get_file(folder, \"tags\")\n",
    "    data = contents[\"data\"]\n",
    "    for tag in data:\n",
    "        elapsed_time = tag - eda_start\n",
    "        x = elapsed_time * eda_Fs                \n",
    "        ax.axvline(x=x)\n",
    "\n",
    "    # ADD LOG EVENTS\n",
    "    contents, f = get_file(folder, \"log\") \n",
    "    data = contents[\"data\"]\n",
    "\n",
    "    timestamps = [d['time']/1000 for d in data]\n",
    "    for tag in timestamps:\n",
    "        elapsed_time = tag - eda_start\n",
    "        x = elapsed_time * eda_Fs    \n",
    "        ax.axvline(x=x, color='y')\n",
    "\n",
    "\n",
    "    def onclick(event):\n",
    "        global edaFs, eda_start\n",
    "        ix, iy = event.xdata, event.ydata\n",
    "        if start:\n",
    "            global session_start\n",
    "            session_start = eda_start + (ix/eda_Fs)\n",
    "        else:\n",
    "            global session_end\n",
    "            session_end = eda_start + (ix/eda_Fs)\n",
    "        return False\n",
    "    def handle_close(evt):\n",
    "        print('Closed Figure!')\n",
    "        print(\"START\", time.ctime(eda_start))\n",
    "\n",
    "    cid = fig.canvas.mpl_connect('close_event', handle_close)\n",
    "    cid = fig.canvas.mpl_connect('button_press_event', onclick)\n",
    "    return eda_start, eda_Fs"
   ]
  },
  {
   "cell_type": "code",
   "execution_count": 46,
   "metadata": {
    "ExecuteTime": {
     "end_time": "2018-09-05T16:50:25.601035Z",
     "start_time": "2018-09-05T16:50:24.752111Z"
    },
    "collapsed": false
   },
   "outputs": [
    {
     "name": "stdout",
     "output_type": "stream",
     "text": [
      "Closed Figure!\n",
      "START Tue Aug 28 13:22:27 2018\n"
     ]
    }
   ],
   "source": [
    "#FIND SESSION START\n",
    "session_start = None\n",
    "eda_start, edaFs = find_session(folder, True)"
   ]
  },
  {
   "cell_type": "code",
   "execution_count": 40,
   "metadata": {
    "ExecuteTime": {
     "end_time": "2018-09-05T16:49:06.536276Z",
     "start_time": "2018-09-05T16:49:05.604598Z"
    },
    "collapsed": false
   },
   "outputs": [],
   "source": [
    "# FIND SESSION END\n",
    "session_end = None\n",
    "eda_start, edaFs = find_session(folder, False)"
   ]
  },
  {
   "cell_type": "code",
   "execution_count": 47,
   "metadata": {
    "ExecuteTime": {
     "end_time": "2018-09-05T16:50:40.510118Z",
     "start_time": "2018-09-05T16:50:40.503767Z"
    },
    "collapsed": false
   },
   "outputs": [
    {
     "name": "stdout",
     "output_type": "stream",
     "text": [
      "Tue Aug 28 13:22:27 2018\n",
      "Tue Aug 28 13:27:02 2018\n",
      "Tue Aug 28 13:46:39 2018\n",
      "ELAPSED 0:19:36.838636\n"
     ]
    }
   ],
   "source": [
    "# REVIEW INFORMATION\n",
    "end = datetime.datetime.fromtimestamp(session_end)\n",
    "start = datetime.datetime.fromtimestamp(session_start)\n",
    "\n",
    "print(time.ctime(eda_start))\n",
    "print(time.ctime(session_start))\n",
    "print(time.ctime(session_end))\n",
    "print(\"ELAPSED\", str(end-start))"
   ]
  },
  {
   "cell_type": "code",
   "execution_count": 48,
   "metadata": {
    "ExecuteTime": {
     "end_time": "2018-09-05T16:50:45.481089Z",
     "start_time": "2018-09-05T16:50:45.353609Z"
    },
    "collapsed": false
   },
   "outputs": [
    {
     "name": "stdout",
     "output_type": "stream",
     "text": [
      "File saved! irb/111/sessionmetadata_111.json\n"
     ]
    }
   ],
   "source": [
    "# HAPPY?\n",
    "session_metadata(folder)"
   ]
  },
  {
   "cell_type": "markdown",
   "metadata": {
    "ExecuteTime": {
     "end_time": "2018-09-05T09:34:50.870750Z",
     "start_time": "2018-09-05T09:34:50.865668Z"
    }
   },
   "source": [
    "# EDA ANALYSIS\n",
    "* r: phasic component - event related\n",
    "* p: sparse SMNA driver of phasic component\n",
    "* t: tonic component\n",
    "* l: coefficients of tonic spline\n",
    "* d: offset and slope of the linear drift term\n",
    "* e: model residuals\n",
    "* obj: value of objective function being minimized (eq 15 of paper)"
   ]
  },
  {
   "cell_type": "code",
   "execution_count": 85,
   "metadata": {
    "ExecuteTime": {
     "end_time": "2018-09-05T17:07:30.762543Z",
     "start_time": "2018-09-05T17:07:30.710615Z"
    },
    "collapsed": true
   },
   "outputs": [],
   "source": [
    "import pylab as pl\n",
    "def process_eda(folder):\n",
    "    user = os.path.basename(folder)\n",
    "    contents, filename = get_file(folder, \"eda\")\n",
    "    directory = os.path.dirname(filename)\n",
    "    filename, ext = os.path.basename(filename).split('.')\n",
    "    filetype, user_id = filename.split(\"_\")\n",
    "\n",
    "    Fs = contents[\"sampling_rate\"]\n",
    "    y = contents[\"data\"]\n",
    "    y = np.array(y)\n",
    "    \n",
    "    \n",
    "    \n",
    "\n",
    "    metadata,f = get_file(folder, \"sessionmetadata\")\n",
    "    \n",
    "    \n",
    "    # ADJUST Y AND T RANGE    \n",
    "    t = contents[\"timestamp\"]\n",
    "    start = metadata[\"session_start\"] - t\n",
    "    end = metadata[\"session_end\"] - t    \n",
    "    t0 = start * Fs \n",
    "    t0 = start * Fs  if start > 0 else 0\n",
    "    tf = end * Fs - 1 if end < len(y) else len(y)\n",
    "    y = y[t0:tf]\n",
    "    tm = pl.arange(1., len(y)+1.) / Fs\n",
    "    # END ADJUSTMENT\n",
    "    pl.plot(tm, y)\n",
    "\n",
    "    yn = (y - y.mean()) / y.std()\n",
    "    [r, p, t, l, d, e, obj] = cvxEDA(yn, 1./Fs)\n",
    "    pl.plot(tm, r, 'r')\n",
    "    pl.plot(tm, p, 'b')\n",
    "    pl.show()\n",
    "\n",
    "    metadata = {}\n",
    "    metadata['user_id'] = int(user)\n",
    "    metadata['session_id'] = SESSION_ID\n",
    "    metadata['sampling_rate'] = Fs\n",
    "    metadata['timestamp'] = start\n",
    "\n",
    "\n",
    "    # MAKE PHASIC.JSON \n",
    "    metadata[\"data\"] = r.tolist()\n",
    "    data = dict(metadata, **E4_MANIFEST[\"phasic\"])\n",
    "\n",
    "    save_jsonfile(os.path.join(directory, \"phasic\" + \"_\" + user_id + \".json\"), data)\n",
    "\n",
    "    #MAKE SMNA\n",
    "    metadata[\"data\"] = r.tolist()\n",
    "    data = dict(metadata, **E4_MANIFEST[\"smna\"])\n",
    "    save_jsonfile(os.path.join(directory, \"smna\" + \"_\" + user_id + \".json\"), data)\n",
    "\n",
    "    print(\"Processed eda data.\")"
   ]
  },
  {
   "cell_type": "code",
   "execution_count": 86,
   "metadata": {
    "ExecuteTime": {
     "end_time": "2018-09-05T17:07:31.979555Z",
     "start_time": "2018-09-05T17:07:31.559604Z"
    },
    "collapsed": false
   },
   "outputs": [
    {
     "name": "stdout",
     "output_type": "stream",
     "text": [
      "Populating the interactive namespace from numpy and matplotlib\n",
      "     pcost       dcost       gap    pres   dres\n",
      " 0: -2.3337e+03 -2.3171e+03  7e+03  8e+01  4e-01\n",
      " 1: -2.3376e+03 -3.0447e+03  8e+02  9e+00  5e-02\n",
      " 2: -2.3429e+03 -2.5278e+03  2e+02  2e+00  1e-02\n",
      " 3: -2.3440e+03 -2.4169e+03  7e+01  6e-01  3e-03\n",
      " 4: -2.3444e+03 -2.3712e+03  3e+01  2e-01  9e-04\n",
      " 5: -2.3455e+03 -2.3545e+03  9e+00  4e-02  2e-04\n",
      " 6: -2.3482e+03 -2.3506e+03  2e+00  8e-03  4e-05\n",
      " 7: -2.3491e+03 -2.3500e+03  9e-01  2e-03  1e-05\n",
      " 8: -2.3494e+03 -2.3497e+03  3e-01  3e-04  2e-06\n",
      " 9: -2.3496e+03 -2.3497e+03  1e-01  7e-05  4e-07"
     ]
    },
    {
     "name": "stderr",
     "output_type": "stream",
     "text": [
      "/Users/cearto/anaconda3/lib/python3.6/site-packages/ipykernel/__main__.py:26: VisibleDeprecationWarning: using a non-integer number instead of an integer will result in an error in the future\n"
     ]
    },
    {
     "name": "stdout",
     "output_type": "stream",
     "text": [
      "\n",
      "10: -2.3496e+03 -2.3496e+03  3e-02  1e-05  5e-08\n",
      "11: -2.3496e+03 -2.3496e+03  6e-03  2e-06  9e-09\n",
      "12: -2.3496e+03 -2.3496e+03  1e-03  2e-07  8e-10\n",
      "13: -2.3496e+03 -2.3496e+03  2e-04  1e-08  7e-11\n",
      "14: -2.3496e+03 -2.3496e+03  2e-05  1e-09  6e-12\n",
      "15: -2.3496e+03 -2.3496e+03  7e-07  3e-11  1e-13\n",
      "Optimal solution found.\n"
     ]
    },
    {
     "data": {
      "image/png": "[encoded data removed]",
      "text/plain": [
       "<matplotlib.figure.Figure at 0x11881e198>"
      ]
     },
     "metadata": {},
     "output_type": "display_data"
    }
   ],
   "source": [
    "%pylab inline\n",
    "process_eda(folder)"
   ]
  },
  {
   "cell_type": "code",
   "execution_count": null,
   "metadata": {
    "collapsed": true
   },
   "outputs": [],
   "source": []
  },
  {
   "cell_type": "code",
   "execution_count": null,
   "metadata": {
    "collapsed": true
   },
   "outputs": [],
   "source": []
  }
 ],
 "metadata": {
  "kernelspec": {
   "display_name": "Python 3",
   "language": "python",
   "name": "python3"
  },
  "language_info": {
   "codemirror_mode": {
    "name": "ipython",
    "version": 3
   },
   "file_extension": ".py",
   "mimetype": "text/x-python",
   "name": "python",
   "nbconvert_exporter": "python",
   "pygments_lexer": "ipython3",
   "version": "3.6.0"
  },
  "toc": {
   "base_numbering": 1,
   "nav_menu": {},
   "number_sections": true,
   "sideBar": true,
   "skip_h1_title": false,
   "title_cell": "Table of Contents",
   "title_sidebar": "Contents",
   "toc_cell": false,
   "toc_position": {},
   "toc_section_display": true,
   "toc_window_display": false
  }
 },
 "nbformat": 4,
 "nbformat_minor": 2
}
