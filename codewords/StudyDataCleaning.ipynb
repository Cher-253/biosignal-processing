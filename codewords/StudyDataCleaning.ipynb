{
 "cells": [
  {
   "cell_type": "markdown",
   "metadata": {},
   "source": [
    "# Overview\n",
    "\n",
    "Specify a data folder. Run all the cleaning functions. \n",
    "Using the cleaning routine, you need to determine the start and end of activity manually.\n",
    "Once clean, we can process the EDA data and extract phasic and SMNA data. "
   ]
  },
  {
   "cell_type": "code",
   "execution_count": 400,
   "metadata": {
    "ExecuteTime": {
     "end_time": "2018-09-08T11:00:27.179139Z",
     "start_time": "2018-09-08T11:00:27.175676Z"
    },
    "collapsed": true
   },
   "outputs": [],
   "source": [
    "folder = \"irb/111\"\n",
    "SESSION_ID = \"CHI2019\""
   ]
  },
  {
   "cell_type": "markdown",
   "metadata": {},
   "source": [
    "# Cleaning Functions\n",
    "Run all these cells."
   ]
  },
  {
   "cell_type": "code",
   "execution_count": 404,
   "metadata": {
    "ExecuteTime": {
     "end_time": "2018-09-08T11:52:43.078596Z",
     "start_time": "2018-09-08T11:52:43.022377Z"
    },
    "collapsed": false
   },
   "outputs": [],
   "source": [
    "import json, os, csv, platform, datetime, time\n",
    "from glob import glob\n",
    "import numpy as np\n",
    "from pprint import pprint\n",
    "from matplotlib import pyplot as pl\n",
    "\n",
    "DATA_ROOT = \"irb\"\n",
    "\n",
    "E4_MANIFEST = {\n",
    "    'phasic': {\n",
    "        'name': \"Phasic GSR\",\n",
    "        'description': \"Event-specific EDA\"\n",
    "    },\n",
    "    'smna':{\n",
    "        'name': \"SMNA\",\n",
    "        'description': \"sparse SMNA driver of phasic component\"\n",
    "    },\n",
    "    'textchunk': {\n",
    "        'name': \"Text Chunk\",\n",
    "        'description': \"Values correspond to typing behaviors.  # of consecutive characters typed.\"\n",
    "    },\n",
    "    'temp': {\n",
    "        'name': \"Temperature\",\n",
    "        'description': \"Data from temperature sensor expressed degrees on the Celsius (°C) scale.\",\n",
    "        'unit': \"celsius\"\n",
    "    },\n",
    "    'tags':{\n",
    "        'name': \"Tags\",\n",
    "        'description': \"Event mark times. Each row corresponds to a physical button press on the device; the same time as the status LED is first illuminated. The time is expressed as a unix timestamp in UTC and it is synchronized with initial time of the session indicated in the related data files from the corresponding session.\"\n",
    "    },\n",
    "    'acc':{\n",
    "        'description': \"Data from 3-axis accelerometer sensor. The accelerometer is configured to measure acceleration in the range [-2g, 2g]. Therefore the unit in this file is 1/64g. Data from x, y, and z axis are respectively in first, second, and third column.\",\n",
    "        'name': \"3-Axis Accelerometer\",\n",
    "        'unit': \"1/64g\"\n",
    "    }, \n",
    "    'eda':{\n",
    "        'description': \"Data from the electrodermal activity sensor expressed as microsiemens (μS).\", \n",
    "        'name':\"Electrodermal Activity\",\n",
    "        'unit': \"μS\"\n",
    "    }, \n",
    "    'bvp':{\n",
    "        'name': \"Blood Volume Pulse (BVP) from PPG\",\n",
    "        'description': \"Data from photoplethysmograph.\",\n",
    "    }, \n",
    "    'ibi':{\n",
    "        'name': \"IBI\", \n",
    "        'description': \"Time between individuals heart beats extracted from the BVP signal. No sample rate is needed for this file. The first column is the time (respect to the initial time) of the detected inter-beat interval expressed in seconds (s). The second column is the duration in seconds (s) of the detected inter-beat interval (i.e., the distance in seconds from the previous beat).\"\n",
    "    },\n",
    "    'hr':{\n",
    "        'name': \"Heart rate\", \n",
    "        'description': \"Average heart rate extracted from the BVP signal.The first row is the initial time of the session expressed as unix timestamp in UTC. The second row is the sample rate expressed in Hz.\"\n",
    "    }\n",
    "}\n",
    "\n",
    "def save_jsonfile(name, data):\n",
    "    with open(name, 'w') as outfile:\n",
    "        json.dump(data, outfile)\n",
    "    print(\"File saved!\", name)\n",
    "def gen_save_file(folder, feature):\n",
    "    user = os.path.basename(folder)\n",
    "    return os.path.join(folder, feature + \"_\" + user + \".json\")\n",
    "def get_file(folder, prefix):\n",
    "    user = os.path.basename(folder)\n",
    "    files = glob(folder + \"/\"+prefix+\"*.json\")\n",
    "    if len(files) == 0:\n",
    "        print(\"File not found\", prefix, 'in', folder)\n",
    "        return None\n",
    "    else: \n",
    "        with open(files[0], 'r+') as f: \n",
    "            contents = json.load(f)\n",
    "            return contents, files[0]\n",
    "def adjust_data(data, t, Fs):\n",
    "    metadata,f = get_file(folder, \"sessionmetadata\")\n",
    "    # ADJUST Y AND T RANGE    \n",
    "    start = metadata[\"session_start\"] - t\n",
    "    end = metadata[\"session_end\"] - t    \n",
    "    t0 = start * Fs \n",
    "    t0 = start * Fs  if start > 0 else 0\n",
    "    tf = end * Fs - 1 if end < len(data) else len(data)\n",
    "    data = data[t0:tf]\n",
    "    return data"
   ]
  },
  {
   "cell_type": "code",
   "execution_count": 403,
   "metadata": {
    "ExecuteTime": {
     "end_time": "2018-09-08T11:00:30.644799Z",
     "start_time": "2018-09-08T11:00:30.634946Z"
    },
    "collapsed": false
   },
   "outputs": [],
   "source": [
    "# MAKING A SESSION METADATA JSON\n",
    "def session_metadata(folder):\n",
    "    data = {}\n",
    "    data['session_start'] = session_start\n",
    "    data['session_end'] = session_end\n",
    "    data['elapsed_time'] = session_end - session_start\n",
    "    \n",
    "    log = [\"ACC_START\", time.ctime(eda_start), \"SESSION_START\", time.ctime(session_start), \"SESSION_END\", time.ctime(session_end), \"ELAPSED\", str(end-start)]\n",
    "    data['description'] =  \"\\n\".join(log)\n",
    "    savefile = gen_save_file(folder, \"sessionmetadata\")\n",
    "    save_jsonfile(savefile, data)"
   ]
  },
  {
   "cell_type": "code",
   "execution_count": 19,
   "metadata": {
    "ExecuteTime": {
     "end_time": "2018-09-07T11:14:02.510874Z",
     "start_time": "2018-09-07T11:14:02.466292Z"
    },
    "collapsed": false
   },
   "outputs": [],
   "source": [
    "def find_session(folder, start):\n",
    "    contents, filename = get_file(folder, \"acc\")\n",
    "    fig, ax = pl.subplots()\n",
    "    \n",
    "    eda_start = None\n",
    "    eda_Fs = None\n",
    "    \n",
    "    data = contents[\"data\"]\n",
    "\n",
    "    eda_start = contents[\"timestamp\"]\n",
    "    eda_Fs = contents[\"sampling_rate\"]\n",
    "\n",
    "    # PLOTTING ACCELERATION VALUES       \n",
    "    data = np.array(data, dtype='f')\n",
    "    ax.plot(data[:, 0], 'r')\n",
    "    ax.plot(data[:, 1], 'g')\n",
    "    ax.plot(data[:, 2], 'b')\n",
    "\n",
    "    # ADDING TAG EVENTS\n",
    "    contents, f = get_file(folder, \"tags\")\n",
    "    data = contents[\"data\"]\n",
    "    for tag in data:\n",
    "        elapsed_time = tag - eda_start\n",
    "        x = elapsed_time * eda_Fs                \n",
    "        ax.axvline(x=x)\n",
    "\n",
    "    # ADD LOG EVENTS\n",
    "    contents, f = get_file(folder, \"log\") \n",
    "    data = contents[\"data\"]\n",
    "\n",
    "    timestamps = [d['time'] for d in data]\n",
    "    for tag in timestamps:\n",
    "        elapsed_time = tag - eda_start\n",
    "        x = elapsed_time * eda_Fs    \n",
    "        ax.axvline(x=x, color='y')\n",
    "\n",
    "\n",
    "    def onclick(event):\n",
    "        global edaFs, eda_start\n",
    "        ix, iy = event.xdata, event.ydata\n",
    "        if start:\n",
    "            global session_start\n",
    "            session_start = eda_start + (ix/eda_Fs)\n",
    "        else:\n",
    "            global session_end\n",
    "            session_end = eda_start + (ix/eda_Fs)\n",
    "        return False\n",
    "    def handle_close(evt):\n",
    "        print('Closed Figure!')\n",
    "        print(\"START\", time.ctime(eda_start))\n",
    "\n",
    "    cid = fig.canvas.mpl_connect('close_event', handle_close)\n",
    "    cid = fig.canvas.mpl_connect('button_press_event', onclick)\n",
    "    return eda_start, eda_Fs"
   ]
  },
  {
   "cell_type": "markdown",
   "metadata": {},
   "source": [
    "# Cleaning Routine\n",
    "\n",
    "1. Run session_start and click on the start of the activity. \n",
    "2. Run session_end and click on the start of the activity. \n",
    "3. Verify start/end\n",
    "4. Generate sessionmetadata file.\n",
    "5. Run EDA analysis."
   ]
  },
  {
   "cell_type": "code",
   "execution_count": 405,
   "metadata": {
    "ExecuteTime": {
     "end_time": "2018-09-08T12:14:23.673055Z",
     "start_time": "2018-09-08T12:14:22.589053Z"
    },
    "collapsed": false
   },
   "outputs": [
    {
     "data": {
      "image/png": "[encoded data removed]",
      "text/plain": [
       "<matplotlib.figure.Figure at 0x10fcfe2e8>"
      ]
     },
     "metadata": {},
     "output_type": "display_data"
    }
   ],
   "source": [
    "#FIND SESSION START\n",
    "session_start = None\n",
    "eda_start, edaFs = find_session(folder, True)"
   ]
  },
  {
   "cell_type": "code",
   "execution_count": 406,
   "metadata": {
    "ExecuteTime": {
     "end_time": "2018-09-08T12:15:53.032153Z",
     "start_time": "2018-09-08T12:15:51.903860Z"
    },
    "collapsed": false
   },
   "outputs": [
    {
     "data": {
      "image/png": "[encoded data removed]",
      "text/plain": [
       "<matplotlib.figure.Figure at 0x10db52588>"
      ]
     },
     "metadata": {},
     "output_type": "display_data"
    }
   ],
   "source": [
    "# FIND SESSION END\n",
    "session_end = None\n",
    "eda_start, edaFs = find_session(folder, False)"
   ]
  },
  {
   "cell_type": "code",
   "execution_count": 407,
   "metadata": {
    "ExecuteTime": {
     "end_time": "2018-09-08T12:16:12.719904Z",
     "start_time": "2018-09-08T12:16:12.708235Z"
    },
    "collapsed": false
   },
   "outputs": [
    {
     "ename": "TypeError",
     "evalue": "an integer is required (got type NoneType)",
     "output_type": "error",
     "traceback": [
      "\u001b[0;31m---------------------------------------------------------------------------\u001b[0m",
      "\u001b[0;31mTypeError\u001b[0m                                 Traceback (most recent call last)",
      "\u001b[0;32m<ipython-input-407-fd7b4ffe0c0f>\u001b[0m in \u001b[0;36m<module>\u001b[0;34m()\u001b[0m\n\u001b[1;32m      1\u001b[0m \u001b[0;31m# REVIEW INFORMATION\u001b[0m\u001b[0;34m\u001b[0m\u001b[0;34m\u001b[0m\u001b[0m\n\u001b[0;32m----> 2\u001b[0;31m \u001b[0mend\u001b[0m \u001b[0;34m=\u001b[0m \u001b[0mdatetime\u001b[0m\u001b[0;34m.\u001b[0m\u001b[0mdatetime\u001b[0m\u001b[0;34m.\u001b[0m\u001b[0mfromtimestamp\u001b[0m\u001b[0;34m(\u001b[0m\u001b[0msession_end\u001b[0m\u001b[0;34m)\u001b[0m\u001b[0;34m\u001b[0m\u001b[0m\n\u001b[0m\u001b[1;32m      3\u001b[0m \u001b[0mstart\u001b[0m \u001b[0;34m=\u001b[0m \u001b[0mdatetime\u001b[0m\u001b[0;34m.\u001b[0m\u001b[0mdatetime\u001b[0m\u001b[0;34m.\u001b[0m\u001b[0mfromtimestamp\u001b[0m\u001b[0;34m(\u001b[0m\u001b[0msession_start\u001b[0m\u001b[0;34m)\u001b[0m\u001b[0;34m\u001b[0m\u001b[0m\n\u001b[1;32m      4\u001b[0m \u001b[0;34m\u001b[0m\u001b[0m\n\u001b[1;32m      5\u001b[0m \u001b[0mprint\u001b[0m\u001b[0;34m(\u001b[0m\u001b[0mtime\u001b[0m\u001b[0;34m.\u001b[0m\u001b[0mctime\u001b[0m\u001b[0;34m(\u001b[0m\u001b[0meda_start\u001b[0m\u001b[0;34m)\u001b[0m\u001b[0;34m)\u001b[0m\u001b[0;34m\u001b[0m\u001b[0m\n",
      "\u001b[0;31mTypeError\u001b[0m: an integer is required (got type NoneType)"
     ]
    }
   ],
   "source": [
    "# REVIEW INFORMATION\n",
    "end = datetime.datetime.fromtimestamp(session_end)\n",
    "start = datetime.datetime.fromtimestamp(session_start)\n",
    "\n",
    "print(time.ctime(eda_start))\n",
    "print(time.ctime(session_start))\n",
    "print(time.ctime(session_end))\n",
    "print(\"ELAPSED\", str(end-start))"
   ]
  },
  {
   "cell_type": "code",
   "execution_count": null,
   "metadata": {
    "ExecuteTime": {
     "end_time": "2018-09-07T11:11:25.487662Z",
     "start_time": "2018-09-07T18:11:21.701Z"
    },
    "collapsed": false
   },
   "outputs": [],
   "source": [
    "# HAPPY?\n",
    "session_metadata(folder)"
   ]
  }
 ],
 "metadata": {
  "kernelspec": {
   "display_name": "Python 3",
   "language": "python",
   "name": "python3"
  },
  "language_info": {
   "codemirror_mode": {
    "name": "ipython",
    "version": 3
   },
   "file_extension": ".py",
   "mimetype": "text/x-python",
   "name": "python",
   "nbconvert_exporter": "python",
   "pygments_lexer": "ipython3",
   "version": "3.6.0"
  },
  "toc": {
   "base_numbering": 1,
   "nav_menu": {},
   "number_sections": true,
   "sideBar": true,
   "skip_h1_title": false,
   "title_cell": "Table of Contents",
   "title_sidebar": "Contents",
   "toc_cell": false,
   "toc_position": {},
   "toc_section_display": true,
   "toc_window_display": false
  }
 },
 "nbformat": 4,
 "nbformat_minor": 2
}
