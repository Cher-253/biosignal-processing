{
 "cells": [
  {
   "cell_type": "markdown",
   "metadata": {},
   "source": [
    "## Data Format"
   ]
  },
  {
   "cell_type": "markdown",
   "metadata": {},
   "source": [
    "This notebook contains the necessary data wrangling processes to format data acquired from environment sensors. \n",
    "* Video codes\n",
    "* IMU data streams\n",
    "* Empatica biosignals\n",
    "```\n",
    "compiled_data = {\n",
    "     user1: {\n",
    "         video: \n",
    "             web: \"adkada/akdlakds/asdkad.webm\"\n",
    "             mp4: \"video.mp4\"\n",
    "             codes: \"codes.json\"\n",
    "         sensors: \n",
    "             iron: \n",
    "                 imu: \"imu.json\"\n",
    "             bio: \n",
    "                 acc: acc.json\n",
    "                 ...\n",
    "     }\n",
    " }\n",
    "```"
   ]
  },
  {
   "cell_type": "code",
   "execution_count": 262,
   "metadata": {
    "ExecuteTime": {
     "end_time": "2018-05-16T12:36:25.260581Z",
     "start_time": "2018-05-16T12:36:25.248964Z"
    },
    "collapsed": true
   },
   "outputs": [],
   "source": [
    "compiled_data = {}\n",
    "import glob, os, json\n",
    "import pandas as pd\n",
    "import numpy as np\n",
    "\n",
    "def save_jsonfile(fn, data):\n",
    "    file = fn\n",
    "    with open(file, 'w') as outfile:\n",
    "        json.dump(data, outfile)\n",
    "    print(\"File saved!\", file)\n",
    "def append_data(root, directory, category, type):\n",
    "    videos = glob.glob(root + directory)\n",
    "    for i in videos:\n",
    "        name = os.path.basename(i).split('.')[0]\n",
    "        if name in compiled_data:\n",
    "            if category in compiled_data[name]:\n",
    "                compiled_data[name][category][type] = \"/\"+i\n",
    "            else:\n",
    "                compiled_data[name][category] = {type: \"/\"+i}\n",
    "        else:\n",
    "            compiled_data[name] = {category: {type: \"/\"+i}}"
   ]
  },
  {
   "cell_type": "markdown",
   "metadata": {},
   "source": [
    "## Video Codes\n",
    "Root directory `VIDEO_ROOT = data/video_data`"
   ]
  },
  {
   "cell_type": "markdown",
   "metadata": {
    "ExecuteTime": {
     "end_time": "2018-05-15T16:46:35.968143Z",
     "start_time": "2018-05-15T16:46:35.960077Z"
    }
   },
   "source": [
    "### Routine\n",
    "Processing video obtained from the session should be done as follows:\n",
    "1. [TODO] Run a ffmpeg batch script to convert `VIDEO_ROOT/raw` to optimized `MP4` and store in `VIDEO_ROOT/processed`.\n",
    "2. [TODO] Run a ffmpeg batch script to convert `VIDEO_ROOT/processed` to `WEBM` and store in `VIDEO_ROOT/web`. Should be a lower resolution [TODO] ... 720?\n",
    "3. In MaxQDA, code the video with the following code system `TODO`\n",
    "4. Activate all codes and export. Remove redundant columns in Excel and save as `VIDEO_ROOT/video_data.csv`\n",
    "\n",
    "\n",
    "```\n",
    "brew install ffmpeg --with-libvpx --with-vorbis --with-libvorbis --with-vpx --with-vorbis --with-theora --with-libogg --with-libvorbis --with-gpl --with-version3 --with-nonfree --with-postproc --with-libaacplus --with-libass --with-libcelt --with-libfaac --with-libfdk-aac --with-libfreetype --with-libmp3lame --with-libopencore-amrnb --with-libopencore-amrwb --with-libopenjpeg --with-openssl --with-libopus --with-libschroedinger --with-libspeex --with-libtheora --with-libvo-aacenc --with-libvorbis --with-libvpx --with-libx264 --with-libxvid\n",
    "```\n",
    "\n",
    "Use [ffmpeg](https://gist.github.com/clayton/6196167) to convert videos\n",
    "```\n",
    "ffmpeg -i cesar.mp4 -c:v libvpx-vp9 -pass 2 -b:v 0 -crf 33 -threads 8 -speed 2 -tile-columns 6 -frame-parallel 1 -auto-alt-ref 1 -lag-in-frames 25  -f webm cesar.webm\n",
    "```"
   ]
  },
  {
   "cell_type": "code",
   "execution_count": 263,
   "metadata": {
    "ExecuteTime": {
     "end_time": "2018-05-16T12:36:25.928484Z",
     "start_time": "2018-05-16T12:36:25.921794Z"
    },
    "collapsed": false
   },
   "outputs": [],
   "source": [
    "VIDEO_ROOT = \"data/video_data/\"\n",
    "WEB = \"web/*.webm\"\n",
    "RAW = \"raw/*\"\n",
    "MP4 = \"mp4/*.mp4\"\n",
    "\n",
    "def process_video(RAW, MP4):\n",
    "    #SKIP PROCESSED FILES\n",
    "    #RUN FFMPEG SCRIPT\n",
    "    pass\n",
    "    \n",
    "append_data(VIDEO_ROOT, RAW, \"video\", \"raw\")\n",
    "append_data(VIDEO_ROOT, MP4, \"video\", \"mp4\")\n",
    "append_data(VIDEO_ROOT, WEB, \"video\", \"web\")"
   ]
  },
  {
   "cell_type": "markdown",
   "metadata": {},
   "source": [
    "### MaxQDA codes"
   ]
  },
  {
   "cell_type": "code",
   "execution_count": 279,
   "metadata": {
    "ExecuteTime": {
     "end_time": "2018-05-16T12:54:38.227758Z",
     "start_time": "2018-05-16T12:54:38.145715Z"
    },
    "collapsed": false
   },
   "outputs": [
    {
     "name": "stdout",
     "output_type": "stream",
     "text": [
      "data/video_data/codes/codes.csv\n",
      "File saved! data/video_data/codes/kevin.json\n",
      "File saved! data/video_data/codes/chris.json\n",
      "File saved! data/video_data/codes/cesar.json\n",
      "File saved! data/video_data/codes/molly.json\n"
     ]
    }
   ],
   "source": [
    "MAXQDA_OUTPUT=\"codes.csv\"\n",
    "CODES_ROOT=\"codes/\"\n",
    "file = VIDEO_ROOT + CODES_ROOT + MAXQDA_OUTPUT\n",
    "print(file)\n",
    "df = pd.read_csv(file)\n",
    "\n",
    "start = pd.to_datetime(df['Begin'])\n",
    "end = pd.to_datetime(df['End'])\n",
    "t0 = start[0]\n",
    "df['t_i'] = (start - t0).dt.total_seconds().astype(int) # Don't need millisecond precision for hand-coded codes\n",
    "df['t_f'] = (end - t0).dt.total_seconds().astype(int)\n",
    "df.drop(['Begin', 'End'], 1)\n",
    "\n",
    "data = {}\n",
    "for index, row in df.iterrows():\n",
    "    user = row[0]\n",
    "    codes = row[1].split(\"\\\\\")\n",
    "    if not user in data: \n",
    "        data[user] = []\n",
    "    data[user].append({\n",
    "        'codes': codes,\n",
    "        'start': row[4],\n",
    "        'end': row[5]\n",
    "    })\n",
    "   \n",
    "\n",
    "for user in data:\n",
    "    file = VIDEO_ROOT + CODES_ROOT + user + \".json\"\n",
    "#     print(file)\n",
    "    save_jsonfile(file, data[user])\n",
    "append_data(VIDEO_ROOT, CODES_ROOT + \"*.json\", \"video\", \"codes\")"
   ]
  },
  {
   "cell_type": "markdown",
   "metadata": {},
   "source": [
    "## IMU_Data"
   ]
  },
  {
   "cell_type": "code",
   "execution_count": 280,
   "metadata": {
    "ExecuteTime": {
     "end_time": "2018-05-16T12:54:39.333212Z",
     "start_time": "2018-05-16T12:54:39.328799Z"
    },
    "collapsed": false
   },
   "outputs": [],
   "source": [
    "# Gather sensor files\n",
    "SENSOR_ROOT = \"data/sensor_data/\"\n",
    "IMU = \"*.json\"\n",
    "append_data(SENSOR_ROOT, IMU, \"iron\", \"imu\")"
   ]
  },
  {
   "cell_type": "markdown",
   "metadata": {
    "ExecuteTime": {
     "end_time": "2018-05-16T09:52:15.310503Z",
     "start_time": "2018-05-16T09:52:15.307081Z"
    }
   },
   "source": [
    "## Bio_Data"
   ]
  },
  {
   "cell_type": "markdown",
   "metadata": {
    "ExecuteTime": {
     "end_time": "2018-05-16T10:32:20.833685Z",
     "start_time": "2018-05-16T10:32:20.824170Z"
    }
   },
   "source": [
    ".csv files in this archive are in the following format:\n",
    "The first row is the initial time of the session expressed as unix timestamp in UTC.\n",
    "The second row is the sample rate expressed in Hz.\n",
    "\n",
    "### temp.csv\n",
    "Data from temperature sensor expressed degrees on the Celsius (°C) scale.\n",
    "\n",
    "### EDA.csv\n",
    "Data from the electrodermal activity sensor expressed as microsiemens (μS).\n",
    "\n",
    "### BVP.csv\n",
    "Data from photoplethysmograph.\n",
    "\n",
    "### ACC.csv\n",
    "Data from 3-axis accelerometer sensor. The accelerometer is configured to measure acceleration in the range [-2g, 2g]. Therefore the unit in this file is 1/64g.\n",
    "Data from x, y, and z axis are respectively in first, second, and third column.\n",
    "\n",
    "### IBI.csv\n",
    "Time between individuals heart beats extracted from the BVP signal.\n",
    "No sample rate is needed for this file.\n",
    "The first column is the time (respect to the initial time) of the detected inter-beat interval expressed in seconds (s).\n",
    "The second column is the duration in seconds (s) of the detected inter-beat interval (i.e., the distance in seconds from the previous beat).\n",
    "\n",
    "### HR.csv\n",
    "Average heart rate extracted from the BVP signal.The first row is the initial time of the session expressed as unix timestamp in UTC.\n",
    "The second row is the sample rate expressed in Hz.\n",
    "\n",
    "### tags.csv\n",
    "Event mark times.\n",
    "Each row corresponds to a physical button press on the device; the same time as the status LED is first illuminated.\n",
    "The time is expressed as a unix timestamp in UTC and it is synchronized with initial time of the session indicated in the related data files from the corresponding session.\n"
   ]
  },
  {
   "cell_type": "code",
   "execution_count": 281,
   "metadata": {
    "ExecuteTime": {
     "end_time": "2018-05-16T12:54:39.862989Z",
     "start_time": "2018-05-16T12:54:39.819151Z"
    },
    "collapsed": false
   },
   "outputs": [],
   "source": [
    "BIO_ROOT = \"data/bio_data/\"\n",
    "\n",
    "videos = glob.glob(BIO_ROOT + \"*\")\n",
    "\n",
    "def grab_and_save_data(user, sensor, name, file, df, columns):\n",
    "    timestamp = df.columns[0]\n",
    "    sampling_rate = df.iloc[[0]][timestamp][0].astype(int)\n",
    "    df = df.iloc[1:]\n",
    "    data = {\n",
    "        'name': name,\n",
    "        'timestamp': int(float(timestamp)),\n",
    "        'sampling_rate': int(sampling_rate)\n",
    "    }\n",
    "\n",
    "    for i in range(len(columns)):\n",
    "        name = columns[i]\n",
    "        data[name] = df.iloc[:,i].values.tolist()\n",
    "\n",
    "    save_jsonfile(file, data)\n",
    "    if user not in compiled_data:\n",
    "        compiled_data[user] = {'bio': {}}\n",
    "    if 'bio' not in compiled_data[user]:\n",
    "        compiled_data[user]['bio'] = {}\n",
    "    compiled_data[user]['bio'][sensor] = \"/\"+file\n",
    "        \n",
    "for session in videos:\n",
    "    bio_data = glob.glob(session + \"/*.csv\")\n",
    "    user = os.path.basename(session)\n",
    "    for sensor in bio_data: \n",
    "        sensor_name = name = os.path.basename(sensor).split('.')[0].lower()\n",
    "        print(sensor)\n",
    "        try: \n",
    "            df = pd.read_csv(sensor)\n",
    "        except pd.io.common.EmptyDataError:\n",
    "            print(\"Empty file:\", sensor)\n",
    "            continue\n",
    "        \n",
    "        # CONVERT CSV FILES INTO JSON         \n",
    "        file = session + \"/\" + sensor_name + \".json\"\n",
    "        \n",
    "        # SENSOR SPECIFIC PARSING\n",
    "        if sensor_name == \"temp\":\n",
    "            grab_and_save_data(user, sensor_name, \"Temperature (C)\", file, df, ['celsius'])\n",
    "        if sensor_name == \"tags\":\n",
    "            pass\n",
    "        if sensor_name == \"acc\":\n",
    "            grab_and_save_data(user, sensor_name, \"3-Axis Accelerometer (1/64g)\", file, df, ['x', 'y', 'z'])\n",
    "        if sensor_name == \"eda\":\n",
    "            grab_and_save_data(user, sensor_name, \"Electrodermal Activity (μS)\", file, df, ['mag'])\n",
    "        if sensor_name == \"bvp\":\n",
    "            grab_and_save_data(user, sensor_name, \"Blood Volume Pulse (BVP) from PPG\", file, df, ['mag'])\n",
    "        if sensor_name == \"hr\":\n",
    "            grab_and_save_data(user, sensor_name, \"Heart rate\", file, df, ['mag'])\n",
    "            \n"
   ]
  },
  {
   "cell_type": "markdown",
   "metadata": {},
   "source": [
    "## Save compiled data as a JSON"
   ]
  },
  {
   "cell_type": "code",
   "execution_count": 282,
   "metadata": {
    "ExecuteTime": {
     "end_time": "2018-05-16T12:54:40.159273Z",
     "start_time": "2018-05-16T12:54:40.152724Z"
    },
    "collapsed": false
   },
   "outputs": [
    {
     "name": "stdout",
     "output_type": "stream",
     "text": [
      "File saved! data/compiled.json\n",
      "{\n",
      "  \"chris\": {\n",
      "    \"video\": {\n",
      "      \"mp4\": \"/data/video_data/mp4/chris.mp4\",\n",
      "      \"codes\": \"/data/video_data/codes/chris.json\"\n",
      "    },\n",
      "    \"iron\": {\n",
      "      \"imu\": \"/data/sensor_data/chris.json\"\n",
      "    }\n",
      "  },\n",
      "  \"cesar\": {\n",
      "    \"video\": {\n",
      "      \"mp4\": \"/data/video_data/mp4/cesar.mp4\",\n",
      "      \"codes\": \"/data/video_data/codes/cesar.json\"\n",
      "    },\n",
      "    \"iron\": {\n",
      "      \"imu\": \"/data/sensor_data/cesar.json\"\n",
      "    }\n",
      "  },\n",
      "  \"kevin\": {\n",
      "    \"video\": {\n",
      "      \"mp4\": \"/data/video_data/mp4/kevin.mp4\",\n",
      "      \"codes\": \"/data/video_data/codes/kevin.json\"\n",
      "    },\n",
      "    \"iron\": {\n",
      "      \"imu\": \"/data/sensor_data/kevin.json\"\n",
      "    }\n",
      "  },\n",
      "  \"molly\": {\n",
      "    \"video\": {\n",
      "      \"mp4\": \"/data/video_data/mp4/molly.mp4\",\n",
      "      \"codes\": \"/data/video_data/codes/molly.json\"\n",
      "    },\n",
      "    \"iron\": {\n",
      "      \"imu\": \"/data/sensor_data/molly.json\"\n",
      "    }\n",
      "  }\n",
      "}\n"
     ]
    }
   ],
   "source": [
    "import json\n",
    "COMPILED_DATA = \"data/compiled.json\"\n",
    "save_jsonfile(COMPILED_DATA, compiled_data)\n",
    "print(json.dumps(compiled_data, indent=2))"
   ]
  },
  {
   "cell_type": "markdown",
   "metadata": {
    "collapsed": true
   },
   "source": [
    "### Copy to Rails App"
   ]
  },
  {
   "cell_type": "code",
   "execution_count": 283,
   "metadata": {
    "ExecuteTime": {
     "end_time": "2018-05-16T12:54:40.608102Z",
     "start_time": "2018-05-16T12:54:40.566712Z"
    },
    "collapsed": false
   },
   "outputs": [
    {
     "name": "stdout",
     "output_type": "stream",
     "text": [
      "start\n",
      "0\n",
      "end\n"
     ]
    }
   ],
   "source": [
    "#RUN BASH SCRIPT\n",
    "#DO NOT COPY LARGE VIDEO FILES\n",
    "import subprocess\n",
    "print(\"start\")\n",
    "output = subprocess.call(\"bash transfer.sh\", shell=True)\n",
    "a = subprocess.Popen(\"ls\",shell=True)\n",
    "print(output)\n",
    "print(\"end\")"
   ]
  },
  {
   "cell_type": "code",
   "execution_count": null,
   "metadata": {
    "collapsed": true
   },
   "outputs": [],
   "source": []
  },
  {
   "cell_type": "code",
   "execution_count": null,
   "metadata": {
    "collapsed": true
   },
   "outputs": [],
   "source": []
  }
 ],
 "metadata": {
  "kernelspec": {
   "display_name": "Python 3",
   "language": "python",
   "name": "python3"
  },
  "language_info": {
   "codemirror_mode": {
    "name": "ipython",
    "version": 3
   },
   "file_extension": ".py",
   "mimetype": "text/x-python",
   "name": "python",
   "nbconvert_exporter": "python",
   "pygments_lexer": "ipython3",
   "version": "3.6.0"
  },
  "toc": {
   "base_numbering": 1,
   "nav_menu": {},
   "number_sections": true,
   "sideBar": true,
   "skip_h1_title": false,
   "title_cell": "Table of Contents",
   "title_sidebar": "Contents",
   "toc_cell": false,
   "toc_position": {},
   "toc_section_display": true,
   "toc_window_display": false
  }
 },
 "nbformat": 4,
 "nbformat_minor": 2
}
