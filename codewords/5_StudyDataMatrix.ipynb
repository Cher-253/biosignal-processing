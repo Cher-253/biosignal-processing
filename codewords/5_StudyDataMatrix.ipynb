{
 "cells": [
  {
   "cell_type": "code",
   "execution_count": 23,
   "metadata": {
    "ExecuteTime": {
     "end_time": "2018-09-12T14:39:00.262435Z",
     "start_time": "2018-09-12T14:39:00.237077Z"
    },
    "collapsed": true
   },
   "outputs": [],
   "source": [
    "import json, datetime, time, os\n",
    "from glob import glob\n",
    "import pylab as pl\n",
    "import numpy as np\n",
    "\n",
    "DATA_ROOT = \"irb\"\n",
    "\n",
    "def get_file(folder, prefix):\n",
    "    user = os.path.basename(folder)\n",
    "    files = glob(folder + \"/\"+prefix+\"*.json\")\n",
    "    if len(files) == 0:\n",
    "        print(\"File not found\", prefix, 'in', folder)\n",
    "        return None\n",
    "    else: \n",
    "        with open(files[0], 'r') as f: \n",
    "            contents = json.load(f)\n",
    "            return contents, files[0]\n",
    "        \n",
    "def adjust_data(folder, data, t, Fs):\n",
    "    metadata,f = get_file(folder, \"sessionmetadata\")\n",
    "\n",
    "    # ADJUST Y AND T RANGE    \n",
    "    start = metadata[\"session_start\"] - t\n",
    "    end = metadata[\"session_end\"] - t    \n",
    "    t0 = start * Fs \n",
    "    t0 = start * Fs  if start > 0 else 0\n",
    "    tf = end * Fs - 1 if end < len(data) else len(data)\n",
    "    t0 = int(t0)\n",
    "    tf = int(tf)\n",
    "    data = data[t0:tf]\n",
    "    return data\n",
    "\n",
    "def save_jsonfile(name, data):\n",
    "    with open(name, 'w') as outfile:\n",
    "        json.dump(data, outfile)\n",
    "    print(\"File saved!\", name)\n",
    "    \n"
   ]
  },
  {
   "cell_type": "code",
   "execution_count": 24,
   "metadata": {
    "ExecuteTime": {
     "end_time": "2018-09-12T14:39:00.758587Z",
     "start_time": "2018-09-12T14:39:00.741633Z"
    },
    "collapsed": true
   },
   "outputs": [],
   "source": [
    "def constructMTS(users, features):     \n",
    "    tsum = 0\n",
    "    umts = {}\n",
    "    for user in users: \n",
    "        mts = []\n",
    "        umts[user] = mts\n",
    "#         print('Constructing MTS on', user)\n",
    "        folder = os.path.join(DATA_ROOT, str(user))\n",
    "        for feature in features: \n",
    "            contents, f = get_file(folder, feature)\n",
    "            data = contents[\"data\"]\n",
    "           \n",
    "            t = contents[\"timestamp\"]\n",
    "            F = contents[\"sampling_rate\"]\n",
    "            data = adjust_data(folder, data, t, F)\n",
    "#             print('Compiling', feature, len(data))\n",
    "            mts.append(data)\n",
    "            tsum = tsum + len(data)\n",
    "    for u in umts:\n",
    "        mts = umts[u]\n",
    "        max_t = len(max(mts, key=lambda f: len(f)))\n",
    "        fmts = np.zeros((len(mts), max_t))\n",
    "        print('mts_shape', u, fmts.shape)\n",
    "        for i, f in enumerate(mts):\n",
    "#             print(f)\n",
    "            fmts[i, :] = f\n",
    "        umts[u] = fmts\n",
    "    return umts, tsum"
   ]
  },
  {
   "cell_type": "code",
   "execution_count": 39,
   "metadata": {
    "ExecuteTime": {
     "end_time": "2018-09-12T14:42:42.052550Z",
     "start_time": "2018-09-12T14:42:42.035566Z"
    },
    "collapsed": true
   },
   "outputs": [],
   "source": [
    "'''\n",
    "mts is in the dictionary structured as\n",
    "user: features x t\n",
    "\n",
    "subsequence routine extracts all L windows with a L/2 overlap\n",
    "'''\n",
    "def subsequences(a, L):\n",
    "    n, m = a.shape\n",
    "    windows = int(m/L)    \n",
    "    window_range = np.linspace(0, windows-1, (windows-1) * 2 + 1)\n",
    "    ss = []\n",
    "    for x in window_range:\n",
    "        ss.append(a[:, int(x*L):int((x+1)*L)])\n",
    "    return np.array(ss)\n",
    "\n",
    "def subsequenceMTS(umts, L):\n",
    "    sss = np.array([])\n",
    "    bounds = [0]\n",
    "    for u in umts: \n",
    "        mts = umts[u]\n",
    "        ss = subsequences(mts, L)\n",
    "        print(\"SS\", u, ss.shape)\n",
    "        bounds.append(bounds[-1] + ss.shape[0])\n",
    "        if sss.shape[0] == 0:\n",
    "            sss = ss\n",
    "        else:\n",
    "            sss = np.concatenate((sss, ss))\n",
    "    word_shape = sss.shape[-2:]\n",
    "    sss = sss.reshape(sss.shape[0], -1)\n",
    "    return sss, bounds, word_shape\n",
    "        "
   ]
  },
  {
   "cell_type": "markdown",
   "metadata": {},
   "source": [
    "# MATRIX CREATION "
   ]
  },
  {
   "cell_type": "code",
   "execution_count": 43,
   "metadata": {
    "ExecuteTime": {
     "end_time": "2018-09-12T14:42:57.368870Z",
     "start_time": "2018-09-12T14:42:57.276097Z"
    },
    "collapsed": false
   },
   "outputs": [
    {
     "name": "stdout",
     "output_type": "stream",
     "text": [
      "mts_shape 411 (3, 42125)\n",
      "mts_shape 113 (3, 36104)\n",
      "SS 411 (841, 3, 100)\n",
      "SS 113 (721, 3, 100)\n",
      "(1562, 300) [0, 841, 1562]\n"
     ]
    }
   ],
   "source": [
    "pl.rcParams['figure.figsize'] = [18, 10]\n",
    "\n",
    "users = [411, 113]\n",
    "\n",
    "L = 100\n",
    "features = [\"acc-x\", \"acc-y\", \"acc-z\"]\n",
    "\n",
    "mts, tsum = constructMTS(users, features)\n",
    "sss, bounds, word_shape = subsequenceMTS(mts, L)\n",
    "\n",
    "print(sss.shape, bounds)\n",
    "\n",
    "meta = {\n",
    "    \"L\": L,\n",
    "    \"bounds\": bounds,\n",
    "    \"word_shape\": word_shape,\n",
    "    \"description\": \"Accelerometer data for 2 users.\",\n",
    "    \"users\": users, \n",
    "    \"features\": features, \n",
    "    \"subsequences\": sss.tolist()\n",
    "}"
   ]
  },
  {
   "cell_type": "code",
   "execution_count": 44,
   "metadata": {
    "ExecuteTime": {
     "end_time": "2018-09-12T14:42:58.285462Z",
     "start_time": "2018-09-12T14:42:57.501850Z"
    },
    "collapsed": false
   },
   "outputs": [
    {
     "name": "stdout",
     "output_type": "stream",
     "text": [
      "File saved! irb/datasets/acc_for_2.json\n"
     ]
    }
   ],
   "source": [
    "save_jsonfile(os.path.join(\"irb/datasets\", \"acc_for_2.json\"), meta)"
   ]
  },
  {
   "cell_type": "markdown",
   "metadata": {},
   "source": [
    "# Visualize MTS Matrix"
   ]
  },
  {
   "cell_type": "code",
   "execution_count": 42,
   "metadata": {
    "ExecuteTime": {
     "end_time": "2018-09-12T10:11:42.860315Z",
     "start_time": "2018-09-12T10:11:42.324270Z"
    },
    "collapsed": false
   },
   "outputs": [
    {
     "data": {
      "image/png": "[encoded data removed]",
      "text/plain": [
       "<matplotlib.figure.Figure at 0x10cee49e8>"
      ]
     },
     "metadata": {},
     "output_type": "display_data"
    }
   ],
   "source": [
    "user = users[0]\n",
    "pl.imshow(mts[user], cmap='hot', interpolation='nearest', aspect='auto')\n",
    "pl.title(\"User %i: %s\" % (user, \",\".join(features)))\n",
    "pl.ylabel(\"Acceleration(1/64g)\")\n",
    "pl.xlabel(\"Sample\")\n",
    "pl.show()"
   ]
  }
 ],
 "metadata": {
  "kernelspec": {
   "display_name": "Python 3",
   "language": "python",
   "name": "python3"
  },
  "language_info": {
   "codemirror_mode": {
    "name": "ipython",
    "version": 3
   },
   "file_extension": ".py",
   "mimetype": "text/x-python",
   "name": "python",
   "nbconvert_exporter": "python",
   "pygments_lexer": "ipython3",
   "version": "3.6.0"
  },
  "toc": {
   "base_numbering": 1,
   "nav_menu": {},
   "number_sections": true,
   "sideBar": true,
   "skip_h1_title": false,
   "title_cell": "Table of Contents",
   "title_sidebar": "Contents",
   "toc_cell": false,
   "toc_position": {},
   "toc_section_display": true,
   "toc_window_display": false
  }
 },
 "nbformat": 4,
 "nbformat_minor": 2
}
