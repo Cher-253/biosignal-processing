{
 "cells": [
  {
   "cell_type": "code",
   "execution_count": 416,
   "metadata": {
    "ExecuteTime": {
     "end_time": "2018-09-21T04:09:30.246536Z",
     "start_time": "2018-09-21T04:09:30.242559Z"
    },
    "collapsed": true
   },
   "outputs": [],
   "source": [
    "jupyter = [111,112,113,211,212,214,411,412,413,414,512,613,614,711,713,811,813]\n",
    "soldering = [521,621,722,822, 1000]\n"
   ]
  },
  {
   "cell_type": "markdown",
   "metadata": {},
   "source": [
    "# IMPORTS & SCHEMA"
   ]
  },
  {
   "cell_type": "code",
   "execution_count": 417,
   "metadata": {
    "ExecuteTime": {
     "end_time": "2018-09-21T04:09:30.995877Z",
     "start_time": "2018-09-21T04:09:30.860529Z"
    },
    "collapsed": false
   },
   "outputs": [],
   "source": [
    "import json, datetime, time, os\n",
    "from glob import glob\n",
    "import pylab as pl\n",
    "import numpy as np\n",
    "from scipy import stats\n",
    "DATA_ROOT = \"irb\"\n",
    "STUDY_FEATURES={\n",
    "    \"motion\": [\"acc-x\", \"acc-y\", \"acc-z\"], \n",
    "    \"phasic\": [\"phasic\"],\n",
    "    \"hr\": [\"hr\"], \n",
    "    \"bio\": [\"bvp\", \"temp\"],\n",
    "    \"kinnunen\": [\"getting-started\", \"dealing-with-difficulties\", \n",
    "                 \"encountering-difficulties\", \"failing\", \"submitting\", \"succeeding\"],\n",
    "    \"jupyter\": [\"execute\", \"mouseevent\", \"notebooksaved\", \"select\", \"textchunk\"], \n",
    "    \"q\": [\"q1\", \"q2\", \"q3\", \"q4\"], \n",
    "    \"notes\": [\"notesmetadata\"], \n",
    "    \"emotion\": [\"phasic\", \"hr\"], \n",
    "    \"acc\": [\"a-x\", \"a-y\", \"a-z\"],\n",
    "    \"gyro\": [\"g-x\", \"g-y\", \"g-z\"],\n",
    "    \"mag\": [\"m-x\", \"m-y\", \"m-z\"],\n",
    "    \"iron\":[\"m-x\", \"m-y\", \"m-z\", \"g-x\", \"g-y\", \"g-z\", \"a-x\", \"a-y\", \"a-z\"]\n",
    "}\n",
    "\n",
    "def get_file(folder, prefix):\n",
    "    user = os.path.basename(folder)\n",
    "    files = glob(folder + \"/\"+prefix+\"*.json\")\n",
    "    if len(files) == 0:\n",
    "#         print(\"File not found\", prefix, 'in', folder)\n",
    "        return None, None\n",
    "    else: \n",
    "        with open(files[0], 'r') as f: \n",
    "            contents = json.load(f)\n",
    "            return contents, files[0]\n",
    "        \n",
    "def adjust_data(folder, data, t, Fs):\n",
    "    metadata,f = get_file(folder, \"sessionmetadata\")\n",
    "    if metadata == None:\n",
    "        print('ERROR', folder, t)\n",
    "        return\n",
    "  \n",
    "    # ADJUST Y AND T RANGE    \n",
    "    start = metadata[\"session_start\"] - t\n",
    "    end = metadata[\"session_end\"] - t    \n",
    "    t0 = start * Fs \n",
    "    t0 = start * Fs  if start > 0 else 0\n",
    "    tf = end * Fs - 1 if end < len(data) else len(data)\n",
    "    t0 = int(t0)\n",
    "    tf = int(tf)\n",
    "    data = data[t0:tf]\n",
    "    return data\n",
    "\n",
    "def save_jsonfile(name, data):\n",
    "    with open(name, 'w') as outfile:\n",
    "        json.dump(data, outfile)\n",
    "    print(\"File saved!\", name)\n",
    "\n",
    "\n",
    "def normalize(arr, min_v, max_v):\n",
    "    return list((np.array(arr) - min_v) / (max_v - min_v))\n",
    "\n",
    "'''\n",
    "mts is in the dictionary structured as\n",
    "user: features x t\n",
    "\n",
    "subsequence routine extracts all L windows with a L/2 overlap\n",
    "'''\n",
    "def subsequences(a, L):\n",
    "    n, m = a.shape\n",
    "    windows = int(m/L)    \n",
    "    window_range = np.linspace(0, windows-1, (windows-1) * 2 + 1)\n",
    "    ss = []\n",
    "    for x in window_range:\n",
    "        ss.append(a[:, int(x*L):int((x+1)*L)])\n",
    "    return np.array(ss)\n",
    "\n",
    "def subsequenceMTS(umts, L):\n",
    "    sss = np.array([])\n",
    "    bounds = [0]\n",
    "    for u in umts: \n",
    "        mts = umts[u]\n",
    "        ss = subsequences(mts, L)\n",
    "        print(\"sequences\", u, ss.shape)\n",
    "        bounds.append(bounds[-1] + ss.shape[0])\n",
    "        if sss.shape[0] == 0:\n",
    "            sss = ss\n",
    "        else:\n",
    "            sss = np.concatenate((sss, ss))\n",
    "    word_shape = sss.shape[-2:]\n",
    "    sss = sss.reshape(sss.shape[0], -1)\n",
    "    return sss, bounds, word_shape\n",
    "\n",
    "def compile_features(features):\n",
    "    feat = []\n",
    "    for f in features:\n",
    "        feat.extend(STUDY_FEATURES[f])\n",
    "    return feat\n",
    "\n",
    "def time2L(users, mts, seconds):\n",
    "    u = users[0]\n",
    "    samples = mts[u].shape[1]\n",
    "    contents, f = get_file(os.path.join(\"irb\", str(u)), \"sessionmetadata\")\n",
    "    total_time = contents[\"elapsed_time\"]\n",
    "    L = int(seconds/total_time * samples)\n",
    "    return L\n",
    "                           \n",
    "    \n",
    "    "
   ]
  },
  {
   "cell_type": "code",
   "execution_count": 418,
   "metadata": {
    "ExecuteTime": {
     "end_time": "2018-09-21T04:09:31.538972Z",
     "start_time": "2018-09-21T04:09:31.454469Z"
    },
    "collapsed": true
   },
   "outputs": [],
   "source": [
    "def extractMTS(users, features):\n",
    "    tsum = 0\n",
    "    umts = {}\n",
    "    for user in users: \n",
    "        mts = []\n",
    "        folder = os.path.join(DATA_ROOT, str(user))\n",
    "            \n",
    "        for feature in features: \n",
    "            contents, f = get_file(folder, feature)\n",
    "            if not f:\n",
    "                continue\n",
    "                \n",
    "            #Frequnecy encoded feature\n",
    "            if \"sampling_rate\" in contents:\n",
    "                data = contents[\"data\"]           \n",
    "                t = contents[\"timestamp\"]\n",
    "                F = contents[\"sampling_rate\"]\n",
    "                print(feature, t, F)\n",
    "                data = adjust_data(folder, data, t, F)\n",
    "                mts.append(data)\n",
    "                tsum = tsum + len(data)\n",
    "            #Time encoded feature\n",
    "            else:\n",
    "                \n",
    "                data = contents[\"data\"]\n",
    "                if \"y\" in data:\n",
    "                    data = data[\"y\"]\n",
    "                mts.append(data)\n",
    "                tsum = tsum + len(data)\n",
    "        if len(mts) > 0:\n",
    "            umts[user] = mts\n",
    "        else:\n",
    "            print(\"Insufficient data for %s. Not included in final MTS.\"%user)\n",
    "    return umts, tsum\n",
    "\n",
    "\n",
    "# Construct final representation    \n",
    "def resampleFeatureMTS(umts, features, rejectIncomplete = False):   \n",
    "    if rejectIncomplete:\n",
    "        print(\"Rejecting incomplete features\")\n",
    "        umts_validated = {}\n",
    "        for u in umts: \n",
    "            mts = umts[u]\n",
    "            if(len(mts) != len(features)):\n",
    "                print(\"Insufficient feature data for %s. Not included in final MTS.\"%u)\n",
    "                continue\n",
    "            else:\n",
    "                umts_validated[u] = mts\n",
    "        umts = umts_validated  \n",
    "        \n",
    "    for u in umts:\n",
    "        mts = umts[u]\n",
    "        \n",
    "        max_t = len(max(mts, key=lambda f: len(f)))\n",
    "        fmts = np.zeros((len(mts), max_t))\n",
    "    \n",
    "        print('datapoints', u, fmts.shape, len(mts), max_t)\n",
    "        # Not enough feature data\n",
    "        \n",
    "        for i, f in enumerate(mts):\n",
    "            if(len(f) < max_t):\n",
    "                oldf = len(f)\n",
    "                told = np.linspace(0, 1, len(f))\n",
    "                tnew = np.linspace(0, 1, max_t)\n",
    "                f = np.interp(tnew, told, f)                \n",
    "            fmts[i, :] = f\n",
    "        umts[u] = fmts\n",
    "    return umts\n",
    "\n",
    "\n",
    "'''\n",
    "MAKES A MTS FOR A GROUP OF USERS AND A SET OF FEATURES\n",
    "FBOUNDS TAKES A MAXMIN MAP OF FEATURE VALUES TO NORMALIZE THE SET\n",
    "'''\n",
    "def constructMTS(users, features, fbounds = None):     \n",
    "    umts, tsum = extractMTS(users, features)\n",
    "    maxmin = maxMinFeatures(umts)\n",
    "    \n",
    "    if fbounds:\n",
    "        print(\"Adjusting feature bounds\")\n",
    "        for u in umts:\n",
    "            mts = umts[u]\n",
    "            for i, f in enumerate(mts):\n",
    "                min_v, max_v = fbounds[features[i]]\n",
    "                mts[i] = normalize(f, min_v, max_v)\n",
    "                \n",
    "    umts = resampleFeatureMTS(umts, features, fbounds)\n",
    "    return umts, tsum, list(umts.keys()), maxmin"
   ]
  },
  {
   "cell_type": "markdown",
   "metadata": {
    "ExecuteTime": {
     "end_time": "2018-09-13T21:24:35.749232Z",
     "start_time": "2018-09-13T21:24:35.745980Z"
    }
   },
   "source": [
    "# COMPUTE FEATURE BOUNDS"
   ]
  },
  {
   "cell_type": "code",
   "execution_count": 420,
   "metadata": {
    "ExecuteTime": {
     "end_time": "2018-09-21T04:10:15.134808Z",
     "start_time": "2018-09-21T04:10:14.184991Z"
    },
    "collapsed": false
   },
   "outputs": [
    {
     "name": "stdout",
     "output_type": "stream",
     "text": [
      "acc-x 1536093291 32\n",
      "acc-y 1536093291 32\n",
      "acc-z 1536093291 32\n",
      "phasic 1536093245 4\n",
      "hr 1536093301 1\n",
      "hr 1536093301 1\n",
      "bvp 1536093291 64\n",
      "temp 1536093291 4\n",
      "acc-x 1536169964 32\n",
      "acc-y 1536169964 32\n",
      "acc-z 1536169964 32\n",
      "phasic 1536169899 4\n",
      "hr 1536169974 1\n",
      "hr 1536169974 1\n",
      "bvp 1536169964 64\n",
      "temp 1536169964 4\n",
      "acc-x 1536272135 32\n",
      "acc-y 1536272135 32\n",
      "acc-z 1536272135 32\n",
      "phasic 1536272148 4\n",
      "hr 1536272145 1\n",
      "hr 1536272145 1\n",
      "bvp 1536272135 64\n",
      "temp 1536272135 4\n",
      "acc-x 1537519037 32\n",
      "acc-y 1537519037 32\n",
      "acc-z 1537519037 32\n",
      "phasic 1537519102 4\n",
      "hr 1537519047 1\n",
      "hr 1537519047 1\n",
      "bvp 1537519037 64\n",
      "temp 1537519037 4\n",
      "datapoints 521 (17, 73855) 17 73855\n",
      "datapoints 621 (17, 126335) 17 126335\n",
      "datapoints 722 (17, 123519) 17 123519\n",
      "datapoints 822 (9, 57987) 9 57987\n",
      "datapoints 1000 (17, 51007) 17 51007\n"
     ]
    }
   ],
   "source": [
    "all_features = compile_features([\"motion\", \"phasic\", \"hr\", \"iron\", \"hr\", \"bio\"])\n",
    "mts, tsum, users, maxmin = constructMTS(soldering, all_features)"
   ]
  },
  {
   "cell_type": "code",
   "execution_count": 421,
   "metadata": {
    "ExecuteTime": {
     "end_time": "2018-09-21T04:10:15.142170Z",
     "start_time": "2018-09-21T04:10:15.136360Z"
    },
    "collapsed": false
   },
   "outputs": [
    {
     "name": "stdout",
     "output_type": "stream",
     "text": [
      "{'acc-x': (-4096.0, 1999.0), 'acc-y': (-238.0, 1631.0), 'acc-z': (-555.0, 844.0), 'phasic': (-32768.0, 26975.0), 'hr': (65.56, 126.0), 'm-x': (-25628.0, 32752.0), 'm-y': (-1864.0, 1447.0), 'm-z': (-1652.0, 1168.0), 'g-x': (-32768.0, 32536.0), 'g-y': (-32736.0, 32752.0), 'g-z': (-32704.0, 32752.0), 'a-x': (-1749.0, 1848.0), 'a-y': (-1779.0, 1394.0), 'a-z': (-1701.0, 1643.0), 'bvp': (-1374.78, 1472.03), 'temp': (30.01, 35.43)}\n"
     ]
    }
   ],
   "source": [
    "fbounds = {}\n",
    "for i in maxmin: \n",
    "    f = all_features[i]\n",
    "    f_min = min(maxmin[i][0])\n",
    "    f_max = max(maxmin[i][1])\n",
    "    fbounds[f] = (f_min, f_max)\n",
    "#     print(f, f_min, f_max)\n",
    "print(fbounds)"
   ]
  },
  {
   "cell_type": "code",
   "execution_count": 422,
   "metadata": {
    "ExecuteTime": {
     "end_time": "2018-09-21T04:10:16.513940Z",
     "start_time": "2018-09-21T04:10:16.501936Z"
    },
    "collapsed": false
   },
   "outputs": [],
   "source": [
    "# (start, end)\n",
    "def sparsify(arr, intervals=True):\n",
    "    segments = []\n",
    "    curr_segment = None\n",
    "    for i, v in enumerate(arr):\n",
    "        if v >= 0.5: \n",
    "            if not curr_segment:\n",
    "                curr_segment = [i, None]\n",
    "        else:\n",
    "            if curr_segment:\n",
    "                curr_segment[1] = i\n",
    "                if not intervals:\n",
    "                    segments.append(curr_segment[1]-curr_segment[0])\n",
    "                else:\n",
    "                    segments.append(curr_segment)\n",
    "                curr_segment = None\n",
    "    if curr_segment:\n",
    "        curr_segment[1] = len(arr)\n",
    "        if not intervals:\n",
    "            segments.append(curr_segment[1]-curr_segment[0])\n",
    "        else:\n",
    "            segments.append(curr_segment)\n",
    "\n",
    "            return segments\n",
    "    return segments"
   ]
  },
  {
   "cell_type": "code",
   "execution_count": 427,
   "metadata": {
    "ExecuteTime": {
     "end_time": "2018-09-21T04:10:51.041408Z",
     "start_time": "2018-09-21T04:10:51.034884Z"
    },
    "collapsed": true
   },
   "outputs": [],
   "source": [
    "def maxMinFeatures(umts):\n",
    "    #MIN_MAX per features\n",
    "    maxmin = {}\n",
    "    for u in umts:\n",
    "        mts = umts[u]\n",
    "        for i, f in enumerate(mts):\n",
    "            if not i in maxmin:\n",
    "                maxmin[i] = []\n",
    "            maxmin[i].append((min(f), max(f)))\n",
    "    for x in maxmin: \n",
    "        maxmin[x] = [ii for ii in zip(*maxmin[x])]\n",
    "    return maxmin\n"
   ]
  },
  {
   "cell_type": "code",
   "execution_count": 423,
   "metadata": {
    "ExecuteTime": {
     "end_time": "2018-09-21T04:10:21.887681Z",
     "start_time": "2018-09-21T04:10:21.851262Z"
    },
    "collapsed": false
   },
   "outputs": [],
   "source": [
    "def compute_kinnunen(users, mts):\n",
    "    ontology = {}\n",
    "    k = STUDY_FEATURES[\"kinnunen\"]\n",
    "    k_n = len(k)\n",
    "\n",
    "\n",
    "    for i, u in enumerate(users):\n",
    "        data = mts[u]\n",
    "        k_f = data[0:k_n]\n",
    "        f = data[k_n:]\n",
    "\n",
    "\n",
    "        for j, code in enumerate(k):\n",
    "            if not code in ontology: \n",
    "                ontology[code] = {\n",
    "                    \"interval\": [],\n",
    "                    \"data\": [], \n",
    "                    \"raw\": []\n",
    "                }\n",
    "            ontology[code][\"interval\"].append(sparsify(k_f[j]))\n",
    "            mask = k_f[j] >= 0.5\n",
    "            ontology[code][\"data\"].append(f[:, mask])\n",
    "            ontology[code][\"raw\"].append(f)\n",
    "\n",
    "    # ASSERT CORRECT STRUCTURE\n",
    "    if False:\n",
    "        print(\"SANITY CHECK\")\n",
    "        for code in ontology:\n",
    "            x = ontology[code]\n",
    "\n",
    "            for i in range(0, len(x[\"data\"])):\n",
    "                s = sum(x[\"interval\"][i])\n",
    "                n = len(x[\"interval\"][i])\n",
    "                d = x[\"data\"][i].shape\n",
    "\n",
    "                print(i, \"\\t\", code, s, d, \"segs=\", n)\n",
    "\n",
    "    for code in ontology:\n",
    "        x = ontology[code]\n",
    "        ontology[code][\"segments\"] = []\n",
    "\n",
    "        for i in range(0, len(x[\"data\"])):\n",
    "            intervals = x[\"interval\"][i]\n",
    "            data = x[\"data\"][i]#.reshape(-1)\n",
    "            idx = 0\n",
    "            for start, end in intervals:\n",
    "                L = end - start\n",
    "                segment = data[:, idx:idx+L]\n",
    "                idx = idx + L\n",
    "                ontology[code][\"segments\"].append(segment)\n",
    "\n",
    "    return ontology"
   ]
  },
  {
   "cell_type": "code",
   "execution_count": 424,
   "metadata": {
    "ExecuteTime": {
     "end_time": "2018-09-21T04:10:22.612322Z",
     "start_time": "2018-09-21T04:10:22.601053Z"
    },
    "collapsed": true
   },
   "outputs": [],
   "source": [
    "def reject_outliers(data, m=2):\n",
    "    return data[abs(data - np.mean(data)) < m * np.std(data)]\n",
    "\n",
    "def describe_ontology(ontology, title):\n",
    "    print(\"#\", title)\n",
    "    means_arr = []\n",
    "    for i, code in enumerate(ontology):\n",
    "        segments = ontology[code][\"segments\"]\n",
    "        n = len(segments)\n",
    "        means = [np.mean(seg) for seg in segments]\n",
    "        means = reject_outliers(np.array(means))\n",
    "        pop_mean = np.mean(means)\n",
    "        pop_variance = np.std(means)        \n",
    "        means_arr.append(means)\n",
    "        print(\"%40s %3.2f [%0.2f] n=%10f\"%(code, pop_mean * 100, pop_variance * 100, n))\n",
    "    \n",
    "    return means_arr"
   ]
  },
  {
   "cell_type": "markdown",
   "metadata": {},
   "source": [
    "# MATRIX CREATION "
   ]
  },
  {
   "cell_type": "markdown",
   "metadata": {},
   "source": [
    "## Dataset: Good Sessions versus Bad Sessions"
   ]
  },
  {
   "cell_type": "code",
   "execution_count": 425,
   "metadata": {
    "ExecuteTime": {
     "end_time": "2018-09-21T04:10:32.190461Z",
     "start_time": "2018-09-21T04:10:32.186599Z"
    },
    "collapsed": false
   },
   "outputs": [],
   "source": [
    "window_size = 5#s\n",
    "features = compile_features([\"iron\"])"
   ]
  },
  {
   "cell_type": "code",
   "execution_count": 426,
   "metadata": {
    "ExecuteTime": {
     "end_time": "2018-09-21T04:10:33.287842Z",
     "start_time": "2018-09-21T04:10:33.260068Z"
    },
    "collapsed": false
   },
   "outputs": [
    {
     "name": "stdout",
     "output_type": "stream",
     "text": [
      "Insufficient data for 211. Not included in final MTS.\n",
      "Insufficient data for 613. Not included in final MTS.\n",
      "Insufficient data for 112. Not included in final MTS.\n",
      "Insufficient data for 214. Not included in final MTS.\n",
      "Insufficient data for 411. Not included in final MTS.\n",
      "Insufficient data for 614. Not included in final MTS.\n",
      "Insufficient data for 711. Not included in final MTS.\n",
      "Insufficient data for 212. Not included in final MTS.\n",
      "Insufficient data for 512. Not included in final MTS.\n",
      "Insufficient data for 713. Not included in final MTS.\n",
      "Adjusting feature bounds\n",
      "Rejecting incomplete features\n"
     ]
    },
    {
     "ename": "IndexError",
     "evalue": "list index out of range",
     "output_type": "error",
     "traceback": [
      "\u001b[0;31m---------------------------------------------------------------------------\u001b[0m",
      "\u001b[0;31mIndexError\u001b[0m                                Traceback (most recent call last)",
      "\u001b[0;32m<ipython-input-426-e34fd957d07b>\u001b[0m in \u001b[0;36m<module>\u001b[0;34m()\u001b[0m\n\u001b[1;32m      3\u001b[0m \u001b[0;34m\u001b[0m\u001b[0m\n\u001b[1;32m      4\u001b[0m \u001b[0mmts\u001b[0m\u001b[0;34m,\u001b[0m \u001b[0mtsum\u001b[0m\u001b[0;34m,\u001b[0m \u001b[0musers\u001b[0m\u001b[0;34m,\u001b[0m \u001b[0mmaxmin\u001b[0m \u001b[0;34m=\u001b[0m \u001b[0mconstructMTS\u001b[0m\u001b[0;34m(\u001b[0m\u001b[0musers\u001b[0m\u001b[0;34m,\u001b[0m \u001b[0mfeatures\u001b[0m\u001b[0;34m,\u001b[0m \u001b[0mfbounds\u001b[0m\u001b[0;34m)\u001b[0m\u001b[0;34m\u001b[0m\u001b[0m\n\u001b[0;32m----> 5\u001b[0;31m \u001b[0mL\u001b[0m \u001b[0;34m=\u001b[0m \u001b[0mtime2L\u001b[0m\u001b[0;34m(\u001b[0m\u001b[0musers\u001b[0m\u001b[0;34m,\u001b[0m \u001b[0mmts\u001b[0m\u001b[0;34m,\u001b[0m \u001b[0mwindow_size\u001b[0m\u001b[0;34m)\u001b[0m\u001b[0;34m\u001b[0m\u001b[0m\n\u001b[0m\u001b[1;32m      6\u001b[0m \u001b[0msss\u001b[0m\u001b[0;34m,\u001b[0m \u001b[0mbounds\u001b[0m\u001b[0;34m,\u001b[0m \u001b[0mword_shape\u001b[0m \u001b[0;34m=\u001b[0m \u001b[0msubsequenceMTS\u001b[0m\u001b[0;34m(\u001b[0m\u001b[0mmts\u001b[0m\u001b[0;34m,\u001b[0m \u001b[0mL\u001b[0m\u001b[0;34m)\u001b[0m\u001b[0;34m\u001b[0m\u001b[0m\n\u001b[1;32m      7\u001b[0m \u001b[0mprint\u001b[0m\u001b[0;34m(\u001b[0m\u001b[0mL\u001b[0m\u001b[0;34m,\u001b[0m \u001b[0msss\u001b[0m\u001b[0;34m.\u001b[0m\u001b[0mshape\u001b[0m\u001b[0;34m)\u001b[0m\u001b[0;34m\u001b[0m\u001b[0m\n",
      "\u001b[0;32m<ipython-input-417-472e76a49e3e>\u001b[0m in \u001b[0;36mtime2L\u001b[0;34m(users, mts, seconds)\u001b[0m\n\u001b[1;32m     97\u001b[0m \u001b[0;34m\u001b[0m\u001b[0m\n\u001b[1;32m     98\u001b[0m \u001b[0;32mdef\u001b[0m \u001b[0mtime2L\u001b[0m\u001b[0;34m(\u001b[0m\u001b[0musers\u001b[0m\u001b[0;34m,\u001b[0m \u001b[0mmts\u001b[0m\u001b[0;34m,\u001b[0m \u001b[0mseconds\u001b[0m\u001b[0;34m)\u001b[0m\u001b[0;34m:\u001b[0m\u001b[0;34m\u001b[0m\u001b[0m\n\u001b[0;32m---> 99\u001b[0;31m     \u001b[0mu\u001b[0m \u001b[0;34m=\u001b[0m \u001b[0musers\u001b[0m\u001b[0;34m[\u001b[0m\u001b[0;36m0\u001b[0m\u001b[0;34m]\u001b[0m\u001b[0;34m\u001b[0m\u001b[0m\n\u001b[0m\u001b[1;32m    100\u001b[0m     \u001b[0msamples\u001b[0m \u001b[0;34m=\u001b[0m \u001b[0mmts\u001b[0m\u001b[0;34m[\u001b[0m\u001b[0mu\u001b[0m\u001b[0;34m]\u001b[0m\u001b[0;34m.\u001b[0m\u001b[0mshape\u001b[0m\u001b[0;34m[\u001b[0m\u001b[0;36m1\u001b[0m\u001b[0;34m]\u001b[0m\u001b[0;34m\u001b[0m\u001b[0m\n\u001b[1;32m    101\u001b[0m     \u001b[0mcontents\u001b[0m\u001b[0;34m,\u001b[0m \u001b[0mf\u001b[0m \u001b[0;34m=\u001b[0m \u001b[0mget_file\u001b[0m\u001b[0;34m(\u001b[0m\u001b[0mos\u001b[0m\u001b[0;34m.\u001b[0m\u001b[0mpath\u001b[0m\u001b[0;34m.\u001b[0m\u001b[0mjoin\u001b[0m\u001b[0;34m(\u001b[0m\u001b[0;34m\"irb\"\u001b[0m\u001b[0;34m,\u001b[0m \u001b[0mstr\u001b[0m\u001b[0;34m(\u001b[0m\u001b[0mu\u001b[0m\u001b[0;34m)\u001b[0m\u001b[0;34m)\u001b[0m\u001b[0;34m,\u001b[0m \u001b[0;34m\"sessionmetadata\"\u001b[0m\u001b[0;34m)\u001b[0m\u001b[0;34m\u001b[0m\u001b[0m\n",
      "\u001b[0;31mIndexError\u001b[0m: list index out of range"
     ]
    }
   ],
   "source": [
    "good_session = [211,613,112,214,411,614,711,212,512,713]\n",
    "users = good_session\n",
    "\n",
    "mts, tsum, users, maxmin = constructMTS(users, features, fbounds)\n",
    "L = time2L(users, mts, window_size)\n",
    "sss, bounds, word_shape = subsequenceMTS(mts, L)\n",
    "print(L, sss.shape)\n",
    "\n",
    "dataset_name = \"good_session.json\"\n",
    "description = \"Rated above a 4 on Overall Coding Session Rating\""
   ]
  },
  {
   "cell_type": "markdown",
   "metadata": {},
   "source": [
    "## Codebook Datasets"
   ]
  },
  {
   "cell_type": "code",
   "execution_count": 436,
   "metadata": {
    "ExecuteTime": {
     "end_time": "2018-09-21T04:20:08.097626Z",
     "start_time": "2018-09-21T04:20:04.182250Z"
    },
    "collapsed": false
   },
   "outputs": [
    {
     "name": "stdout",
     "output_type": "stream",
     "text": [
      "bvp 1536093291 64\n",
      "temp 1536093291 4\n",
      "bvp 1536169964 64\n",
      "temp 1536169964 4\n",
      "bvp 1536272135 64\n",
      "temp 1536272135 4\n",
      "Insufficient data for 822. Not included in final MTS.\n",
      "bvp 1537519037 64\n",
      "temp 1537519037 4\n",
      "Adjusting feature bounds\n",
      "Rejecting incomplete features\n",
      "datapoints 521 (2, 73855) 2 73855\n",
      "datapoints 621 (2, 126335) 2 126335\n",
      "datapoints 722 (2, 123519) 2 123519\n",
      "datapoints 1000 (2, 51007) 2 51007\n",
      "sequences 521 (479, 2, 307)\n",
      "sequences 621 (821, 2, 307)\n",
      "sequences 722 (803, 2, 307)\n",
      "sequences 1000 (331, 2, 307)\n",
      "5 s window_size, 307 samples/window, 2434 windows, 614 # of features/window, n=4\n",
      "word_shape\n",
      "File saved! irb/datasets/bio2_codebook.json\n"
     ]
    }
   ],
   "source": [
    "feat = \"bio\"\n",
    "users = soldering\n",
    "\n",
    "window_size = 5#s\n",
    "features = compile_features([feat])\n",
    "\n",
    "\n",
    "mts, tsum, users, maxmin = constructMTS(users, features, fbounds)\n",
    "L = time2L(users, mts, window_size)\n",
    "sss, bounds, word_shape = subsequenceMTS(mts, L)\n",
    "print(\"%s s window_size, %s samples/window, %s windows, %i # of features/window, n=%i\"%(window_size, L, sss.shape[0], sss.shape[1], len(users)))\n",
    "print(\"word_shape\")\n",
    "dataset_name = feat+\"2_codebook.json\"\n",
    "description = feat+\" breakdown for all users.\"\n",
    "meta = {\n",
    "    \"L\": L,\n",
    "    \"window_size\": window_size,\n",
    "    \"bounds\": bounds,\n",
    "    \"word_shape\": word_shape,\n",
    "    \"description\": description,\n",
    "    \"users\": users, \n",
    "    \"features\": features, \n",
    "    \"subsequences\": sss.tolist()\n",
    "}\n",
    "save_jsonfile(os.path.join(\"irb/datasets\", dataset_name), meta)"
   ]
  },
  {
   "cell_type": "markdown",
   "metadata": {},
   "source": [
    "# Visualize MTS Matrix"
   ]
  },
  {
   "cell_type": "code",
   "execution_count": 383,
   "metadata": {
    "ExecuteTime": {
     "end_time": "2018-09-20T23:29:37.062527Z",
     "start_time": "2018-09-20T23:29:34.652822Z"
    },
    "collapsed": false
   },
   "outputs": [
    {
     "name": "stdout",
     "output_type": "stream",
     "text": [
      "111 (5, 7062)\n",
      "112 (5, 8808)\n",
      "113 (5, 6774)\n",
      "211 (5, 7110)\n",
      "212 (5, 6744)\n",
      "214 (5, 9414)\n",
      "411 (5, 7902)\n",
      "412 (5, 7458)\n",
      "413 (5, 8436)\n",
      "414 (5, 7722)\n",
      "512 (5, 8892)\n",
      "613 (5, 9684)\n",
      "614 (5, 9666)\n",
      "711 (5, 8946)\n",
      "713 (5, 6060)\n",
      "811 (5, 7554)\n",
      "813 (5, 8190)\n"
     ]
    },
    {
     "data": {
      "image/png": "[encoded data removed]",
      "text/plain": [
       "<matplotlib.figure.Figure at 0x1266e2160>"
      ]
     },
     "metadata": {},
     "output_type": "display_data"
    },
    {
     "data": {
      "image/png": "[encoded data removed]",
      "text/plain": [
       "<matplotlib.figure.Figure at 0x122698208>"
      ]
     },
     "metadata": {},
     "output_type": "display_data"
    }
   ],
   "source": [
    "pl.rcParams['figure.figsize'] = [18, 10]\n",
    "\n",
    "fig, axs = pl.subplots(len(users), 1, sharex=True)\n",
    "    \n",
    "user = users[0]\n",
    "for i, u in enumerate(users):\n",
    "    print(u, mts[u].shape)\n",
    "    axs[i].set_ylabel(\"U%s\"% u)\n",
    "    axs[i].imshow(mts[u], cmap='gray', interpolation='nearest', aspect='auto')\n",
    "#     pl.title(\"User %i: %s\" % (u, \",\".join(features)))\n",
    "#     pl.ylabel(\"Acceleration(1/64g)\")\n",
    "#     pl.xlabel(\"Sample\")\n",
    "pl.show()"
   ]
  },
  {
   "cell_type": "markdown",
   "metadata": {},
   "source": [
    "# Ontology"
   ]
  },
  {
   "cell_type": "code",
   "execution_count": 351,
   "metadata": {
    "ExecuteTime": {
     "end_time": "2018-09-20T12:47:55.286238Z",
     "start_time": "2018-09-20T12:47:55.281372Z"
    },
    "collapsed": false
   },
   "outputs": [],
   "source": [
    "def color_plot(bp, edge_color, fill_color):\n",
    "    for element in ['boxes', 'whiskers', 'fliers', 'means', 'medians', 'caps']:\n",
    "        pl.setp(bp[element], color=edge_color)\n",
    "\n",
    "    for patch in bp['boxes']:\n",
    "        patch.set(facecolor=fill_color)       \n"
   ]
  },
  {
   "cell_type": "code",
   "execution_count": 447,
   "metadata": {
    "ExecuteTime": {
     "end_time": "2018-09-21T11:25:19.204950Z",
     "start_time": "2018-09-21T11:25:18.473435Z"
    },
    "collapsed": false
   },
   "outputs": [
    {
     "name": "stdout",
     "output_type": "stream",
     "text": [
      "['getting-started', 'dealing-with-difficulties', 'encountering-difficulties', 'failing', 'submitting', 'succeeding']\n"
     ]
    },
    {
     "data": {
      "image/png": "[encoded data removed]",
      "text/plain": [
       "<matplotlib.figure.Figure at 0x1240df8d0>"
      ]
     },
     "metadata": {},
     "output_type": "display_data"
    }
   ],
   "source": [
    "size = 24\n",
    "fig1, ax1 = pl.subplots()\n",
    "ax1.set_title(\"Session Rating\",  fontsize=size)\n",
    "pos_a = np.arange(0, 6)\n",
    "pos_b = np.arange(0, 6) + 0.35\n",
    "bp1 = ax1.boxplot(data_bad,  positions=pos_a, widths=0.25, patch_artist=True)\n",
    "color_plot(bp1, 'red', 'tan')\n",
    "bp2 = ax1.boxplot(data_good,  positions=pos_b, widths=0.25, patch_artist=True)\n",
    "color_plot(bp2, 'blue', 'cyan')\n",
    "ax1.set_xlim(-0.5, 6.5)\n",
    "labels = list(ontology.keys())\n",
    "print(labels)\n",
    "pl.ylabel(\"Normalized Phasic Electrodermal Activity\", fontsize=size)\n",
    "pl.xlabel(\"Self-Efficacy Phase\", fontsize=size)\n",
    "pl.xticks(np.arange(0, 6) + 0.20, ('GS', 'DwD', 'ED', 'F', 'Sub', 'Suc'),  fontsize=size)\n",
    "pl.yticks( fontsize=size)\n",
    "pl.ylim(0, 0.08)\n",
    "pl.legend([bp1[\"boxes\"][0], bp2[\"boxes\"][0]], ('Negative Session', 'Positive Session'), loc='upper right',  fontsize=size)\n",
    "pl.show()\n",
    "\n"
   ]
  },
  {
   "cell_type": "code",
   "execution_count": 371,
   "metadata": {
    "ExecuteTime": {
     "end_time": "2018-09-13T22:24:32.689526Z",
     "start_time": "2018-09-13T22:24:31.835150Z"
    },
    "collapsed": false
   },
   "outputs": [
    {
     "name": "stdout",
     "output_type": "stream",
     "text": [
      "Adjusting feature bounds\n",
      "Rejecting incomplete features\n",
      "14 14\n",
      "14 14\n",
      "14 14\n",
      "14 14\n",
      "datapoints 412 (14, 79509)\n",
      "datapoints 414 (14, 82342)\n",
      "datapoints 113 (14, 72209)\n",
      "datapoints 813 (14, 87327)\n",
      "sequences 412 (497, 14, 319)\n",
      "sequences 414 (515, 14, 319)\n",
      "sequences 113 (451, 14, 319)\n",
      "sequences 813 (545, 14, 319)\n",
      "319 (2008, 4466)\n"
     ]
    }
   ],
   "source": [
    "bad_session = [412,414,113,813]\n",
    "users = bad_session\n",
    "\n",
    "mts, tsum, users, maxmin = constructMTS(users, features, fbounds)\n",
    "L = time2L(users, mts, window_size)\n",
    "sss, bounds, word_shape = subsequenceMTS(mts, L)\n",
    "print(L, sss.shape)\n",
    "\n",
    "dataset_name = \"bad_session.json\"\n",
    "description = \"Rated below a 4 on Overall Coding Session Rating\""
   ]
  },
  {
   "cell_type": "code",
   "execution_count": 274,
   "metadata": {
    "ExecuteTime": {
     "end_time": "2018-09-20T09:39:50.780694Z",
     "start_time": "2018-09-20T09:39:50.751710Z"
    },
    "collapsed": false
   },
   "outputs": [
    {
     "name": "stdout",
     "output_type": "stream",
     "text": [
      "['getting-started', 'dealing-with-difficulties', 'encountering-difficulties', 'failing', 'submitting', 'succeeding', 'phasic']\n"
     ]
    },
    {
     "ename": "FileNotFoundError",
     "evalue": "[Errno 2] No such file or directory: 'irb/datasets/stats_motion_good.json'",
     "output_type": "error",
     "traceback": [
      "\u001b[0;31m---------------------------------------------------------------------------\u001b[0m",
      "\u001b[0;31mFileNotFoundError\u001b[0m                         Traceback (most recent call last)",
      "\u001b[0;32m<ipython-input-274-db0f8be0d23d>\u001b[0m in \u001b[0;36m<module>\u001b[0;34m()\u001b[0m\n\u001b[1;32m     39\u001b[0m }\n\u001b[1;32m     40\u001b[0m \u001b[0mfile\u001b[0m \u001b[0;34m=\u001b[0m \u001b[0;34m\"irb/datasets/stats_motion_good.json\"\u001b[0m\u001b[0;34m\u001b[0m\u001b[0m\n\u001b[0;32m---> 41\u001b[0;31m \u001b[0msave_jsonfile\u001b[0m\u001b[0;34m(\u001b[0m\u001b[0mfile\u001b[0m\u001b[0;34m,\u001b[0m \u001b[0mmetadata\u001b[0m\u001b[0;34m)\u001b[0m\u001b[0;34m\u001b[0m\u001b[0m\n\u001b[0m",
      "\u001b[0;32m<ipython-input-153-122fcf3a52a2>\u001b[0m in \u001b[0;36msave_jsonfile\u001b[0;34m(name, data)\u001b[0m\n\u001b[1;32m     45\u001b[0m \u001b[0;34m\u001b[0m\u001b[0m\n\u001b[1;32m     46\u001b[0m \u001b[0;32mdef\u001b[0m \u001b[0msave_jsonfile\u001b[0m\u001b[0;34m(\u001b[0m\u001b[0mname\u001b[0m\u001b[0;34m,\u001b[0m \u001b[0mdata\u001b[0m\u001b[0;34m)\u001b[0m\u001b[0;34m:\u001b[0m\u001b[0;34m\u001b[0m\u001b[0m\n\u001b[0;32m---> 47\u001b[0;31m     \u001b[0;32mwith\u001b[0m \u001b[0mopen\u001b[0m\u001b[0;34m(\u001b[0m\u001b[0mname\u001b[0m\u001b[0;34m,\u001b[0m \u001b[0;34m'w'\u001b[0m\u001b[0;34m)\u001b[0m \u001b[0;32mas\u001b[0m \u001b[0moutfile\u001b[0m\u001b[0;34m:\u001b[0m\u001b[0;34m\u001b[0m\u001b[0m\n\u001b[0m\u001b[1;32m     48\u001b[0m         \u001b[0mjson\u001b[0m\u001b[0;34m.\u001b[0m\u001b[0mdump\u001b[0m\u001b[0;34m(\u001b[0m\u001b[0mdata\u001b[0m\u001b[0;34m,\u001b[0m \u001b[0moutfile\u001b[0m\u001b[0;34m)\u001b[0m\u001b[0;34m\u001b[0m\u001b[0m\n\u001b[1;32m     49\u001b[0m     \u001b[0mprint\u001b[0m\u001b[0;34m(\u001b[0m\u001b[0;34m\"File saved!\"\u001b[0m\u001b[0;34m,\u001b[0m \u001b[0mname\u001b[0m\u001b[0;34m)\u001b[0m\u001b[0;34m\u001b[0m\u001b[0m\n",
      "\u001b[0;31mFileNotFoundError\u001b[0m: [Errno 2] No such file or directory: 'irb/datasets/stats_motion_good.json'"
     ]
    }
   ],
   "source": [
    "#save_ontology_for_viz\n",
    "k = STUDY_FEATURES[\"kinnunen\"]\n",
    "k_n = len(k)\n",
    "print(features)\n",
    "exports = {}\n",
    "for code in ontology:\n",
    "    x = ontology[code]\n",
    "    exports[code] = []\n",
    "    segments = x[\"segments\"]\n",
    "   \n",
    "    n_users = len(x[\"data\"])\n",
    "    for i in range(0, n_users):\n",
    "        intervals = x[\"interval\"][i]\n",
    "        raw_d = x[\"raw\"][i]\n",
    "#         print(raw_d.shape)\n",
    "        total_t = raw_d.shape[1]\n",
    "        data = x[\"data\"][i]#.reshape(-1)\n",
    "        idx = 0\n",
    "        for s,e in intervals: \n",
    "            start = s/total_t\n",
    "            end = e/total_t\n",
    "            \n",
    "            L = e - s\n",
    "#             print(L/total_t, (end-start))\n",
    "            segment = data[:, idx:idx+L]\n",
    "            idx = idx + L\n",
    "            exports[code] .append({\n",
    "                \"from\": start,\n",
    "                \"to\": end,\n",
    "                \"data\": segment.tolist()\n",
    "            })\n",
    "        \n",
    "\n",
    "\n",
    "metadata= {\n",
    "    \"name\": \"Good session bio segments\",\n",
    "    \"features\": features[k_n:],\n",
    "    \"data\": exports\n",
    "}\n",
    "file = \"irb/datasets/stats_motion_good.json\"\n",
    "save_jsonfile(file, metadata)"
   ]
  },
  {
   "cell_type": "code",
   "execution_count": 306,
   "metadata": {
    "ExecuteTime": {
     "end_time": "2018-09-20T11:27:41.079400Z",
     "start_time": "2018-09-20T11:27:40.978743Z"
    },
    "collapsed": false,
    "scrolled": true
   },
   "outputs": [
    {
     "name": "stdout",
     "output_type": "stream",
     "text": [
      "Adjusting feature bounds\n",
      "Rejecting incomplete features\n",
      "datapoints 412 (7, 4968)\n",
      "datapoints 414 (7, 5145)\n",
      "datapoints 113 (7, 4512)\n",
      "datapoints 813 (7, 5456)\n",
      "# bad\n",
      "                         getting-started 0.88 [0.49] n= 12.000000\n",
      "               dealing-with-difficulties 1.91 [2.15] n= 61.000000\n",
      "               encountering-difficulties 1.75 [1.96] n= 53.000000\n",
      "                                 failing 0.91 [0.29] n=  8.000000\n",
      "                              submitting 1.14 [0.45] n=  4.000000\n",
      "                              succeeding 0.63 [0.53] n=  8.000000\n"
     ]
    }
   ],
   "source": [
    "features = compile_features([\"kinnunen\", \"phasic\"])\n",
    "users = [412,414,113,813]\n",
    "mts, tsum, users, maxmin = constructMTS(users, features, fbounds)\n",
    "ontology = compute_kinnunen(users, mts)\n",
    "data_bad = describe_ontology(ontology, \"bad\")"
   ]
  },
  {
   "cell_type": "code",
   "execution_count": 306,
   "metadata": {
    "ExecuteTime": {
     "end_time": "2018-09-20T11:27:41.079400Z",
     "start_time": "2018-09-20T11:27:40.978743Z"
    },
    "collapsed": false,
    "scrolled": true
   },
   "outputs": [
    {
     "name": "stdout",
     "output_type": "stream",
     "text": [
      "Adjusting feature bounds\n",
      "Rejecting incomplete features\n",
      "datapoints 412 (7, 4968)\n",
      "datapoints 414 (7, 5145)\n",
      "datapoints 113 (7, 4512)\n",
      "datapoints 813 (7, 5456)\n",
      "# bad\n",
      "                         getting-started 0.88 [0.49] n= 12.000000\n",
      "               dealing-with-difficulties 1.91 [2.15] n= 61.000000\n",
      "               encountering-difficulties 1.75 [1.96] n= 53.000000\n",
      "                                 failing 0.91 [0.29] n=  8.000000\n",
      "                              submitting 1.14 [0.45] n=  4.000000\n",
      "                              succeeding 0.63 [0.53] n=  8.000000\n"
     ]
    }
   ],
   "source": [
    "features = compile_features([\"kinnunen\", \"phasic\"])\n",
    "users = [412,414,113,813]\n",
    "mts, tsum, users, maxmin = constructMTS(users, features, fbounds)\n",
    "ontology = compute_kinnunen(users, mts)\n",
    "data_bad = describe_ontology(ontology, \"bad\")"
   ]
  },
  {
   "cell_type": "code",
   "execution_count": 284,
   "metadata": {
    "ExecuteTime": {
     "end_time": "2018-09-20T09:43:01.406612Z",
     "start_time": "2018-09-20T09:43:00.761282Z"
    },
    "collapsed": false
   },
   "outputs": [
    {
     "name": "stdout",
     "output_type": "stream",
     "text": [
      "412 (7, 4968)\n",
      "414 (7, 5145)\n",
      "113 (7, 4512)\n",
      "813 (7, 5456)\n"
     ]
    },
    {
     "data": {
      "image/png": "[encoded data removed]",
      "text/plain": [
       "<matplotlib.figure.Figure at 0x127962a20>"
      ]
     },
     "metadata": {},
     "output_type": "display_data"
    }
   ],
   "source": [
    "pl.rcParams['figure.figsize'] = [18, 10]\n",
    "\n",
    "fig, axs = pl.subplots(len(users), 1, sharex=True)\n",
    "    \n",
    "user = users[0]\n",
    "for i, u in enumerate(users):\n",
    "    print(u, mts[u].shape)\n",
    "    axs[i].set_ylabel(\"U%s\"% u)\n",
    "    axs[i].imshow(mts[u], cmap='gray', interpolation='nearest', aspect='auto')\n",
    "pl.show()"
   ]
  }
 ],
 "metadata": {
  "kernelspec": {
   "display_name": "Python 3",
   "language": "python",
   "name": "python3"
  },
  "language_info": {
   "codemirror_mode": {
    "name": "ipython",
    "version": 3
   },
   "file_extension": ".py",
   "mimetype": "text/x-python",
   "name": "python",
   "nbconvert_exporter": "python",
   "pygments_lexer": "ipython3",
   "version": "3.6.0"
  },
  "toc": {
   "base_numbering": 1,
   "nav_menu": {},
   "number_sections": true,
   "sideBar": true,
   "skip_h1_title": false,
   "title_cell": "Table of Contents",
   "title_sidebar": "Contents",
   "toc_cell": false,
   "toc_position": {},
   "toc_section_display": true,
   "toc_window_display": false
  }
 },
 "nbformat": 4,
 "nbformat_minor": 2
}
