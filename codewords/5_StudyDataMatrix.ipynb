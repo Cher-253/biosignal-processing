{
 "cells": [
  {
   "cell_type": "code",
   "execution_count": 1,
   "metadata": {
    "ExecuteTime": {
     "end_time": "2018-09-13T00:55:52.109000Z",
     "start_time": "2018-09-13T00:55:50.897000Z"
    }
   },
   "outputs": [],
   "source": [
    "import json, datetime, time, os\n",
    "from glob import glob\n",
    "import pylab as pl\n",
    "import numpy as np\n",
    "\n",
    "DATA_ROOT = \"irb\"\n",
    "\n",
    "def get_file(folder, prefix):\n",
    "    user = os.path.basename(folder)\n",
    "    files = glob(folder + \"/\"+prefix+\"*.json\")\n",
    "    if len(files) == 0:\n",
    "        print(\"File not found\", prefix, 'in', folder)\n",
    "        return None\n",
    "    else: \n",
    "        with open(files[0], 'r') as f: \n",
    "            contents = json.load(f)\n",
    "            return contents, files[0]\n",
    "        \n",
    "def adjust_data(folder, data, t, Fs):\n",
    "    metadata,f = get_file(folder, \"sessionmetadata\")\n",
    "\n",
    "    # ADJUST Y AND T RANGE    \n",
    "    start = metadata[\"session_start\"] - t\n",
    "    end = metadata[\"session_end\"] - t    \n",
    "    t0 = start * Fs \n",
    "    t0 = start * Fs  if start > 0 else 0\n",
    "    tf = end * Fs - 1 if end < len(data) else len(data)\n",
    "    t0 = int(t0)\n",
    "    tf = int(tf)\n",
    "    data = data[t0:tf]\n",
    "    return data\n",
    "\n",
    "def save_jsonfile(name, data):\n",
    "    with open(name, 'w') as outfile:\n",
    "        json.dump(data, outfile)\n",
    "    print(\"File saved!\", name)\n",
    "    \n"
   ]
  },
  {
   "cell_type": "code",
   "execution_count": 19,
   "metadata": {
    "ExecuteTime": {
     "end_time": "2018-09-13T01:00:48.458000Z",
     "start_time": "2018-09-13T01:00:48.430000Z"
    }
   },
   "outputs": [],
   "source": [
    "def constructMTS(users, features):     \n",
    "    tsum = 0\n",
    "    umts = {}\n",
    "    for user in users: \n",
    "        mts = []\n",
    "        umts[user] = mts\n",
    "#         print('Constructing MTS on', user)\n",
    "        folder = os.path.join(DATA_ROOT, str(user))\n",
    "        for feature in features: \n",
    "            contents, f = get_file(folder, feature)\n",
    "            data = contents[\"data\"]\n",
    "            \n",
    "            if \"sampling_rate\" in contents:\n",
    "                t = contents[\"timestamp\"]\n",
    "                F = contents[\"sampling_rate\"]\n",
    "                data = adjust_data(folder, data, t, F)\n",
    "            else:\n",
    "#                 print(contents[\"data\"])\n",
    "                data = contents[\"data\"][\"y\"]\n",
    "#             print('Compiling', feature, len(data))\n",
    "            mts.append(data)\n",
    "            tsum = tsum + len(data)\n",
    "    for u in umts:\n",
    "        mts = umts[u]\n",
    "        max_t = len(max(mts, key=lambda f: len(f)))\n",
    "        fmts = np.zeros((len(mts), max_t))\n",
    "        print('mts_shape', u, fmts.shape)\n",
    "        for i, f in enumerate(mts):\n",
    "#             print(f)\n",
    "            fmts[i, :] = f\n",
    "        umts[u] = fmts\n",
    "    return umts, tsum"
   ]
  },
  {
   "cell_type": "code",
   "execution_count": 20,
   "metadata": {
    "ExecuteTime": {
     "end_time": "2018-09-13T01:00:49.012000Z",
     "start_time": "2018-09-13T01:00:48.997000Z"
    }
   },
   "outputs": [],
   "source": [
    "'''\n",
    "mts is in the dictionary structured as\n",
    "user: features x t\n",
    "\n",
    "subsequence routine extracts all L windows with a L/2 overlap\n",
    "'''\n",
    "def subsequences(a, L):\n",
    "    n, m = a.shape\n",
    "    windows = int(m/L)    \n",
    "    window_range = np.linspace(0, windows-1, (windows-1) * 2 + 1)\n",
    "    ss = []\n",
    "    for x in window_range:\n",
    "        ss.append(a[:, int(x*L):int((x+1)*L)])\n",
    "    return np.array(ss)\n",
    "\n",
    "def subsequenceMTS(umts, L):\n",
    "    sss = np.array([])\n",
    "    bounds = [0]\n",
    "    for u in umts: \n",
    "        mts = umts[u]\n",
    "        ss = subsequences(mts, L)\n",
    "        print(\"SS\", u, ss.shape)\n",
    "        bounds.append(bounds[-1] + ss.shape[0])\n",
    "        if sss.shape[0] == 0:\n",
    "            sss = ss\n",
    "        else:\n",
    "            sss = np.concatenate((sss, ss))\n",
    "    word_shape = sss.shape[-2:]\n",
    "    sss = sss.reshape(sss.shape[0], -1)\n",
    "    return sss, bounds, word_shape\n",
    "        "
   ]
  },
  {
   "cell_type": "markdown",
   "metadata": {},
   "source": [
    "# MATRIX CREATION "
   ]
  },
  {
   "cell_type": "code",
   "execution_count": 36,
   "metadata": {
    "ExecuteTime": {
     "end_time": "2018-09-13T01:10:32.303000Z",
     "start_time": "2018-09-13T01:10:32.279000Z"
    }
   },
   "outputs": [
    {
     "name": "stdout",
     "output_type": "stream",
     "text": [
      "('mts_shape', 113, (1, 4512))\n",
      "('mts_shape', 411, (1, 5264))\n",
      "('SS', 113, (901, 1, 10))\n",
      "('SS', 411, (1051, 1, 10))\n"
     ]
    }
   ],
   "source": [
    "pl.rcParams['figure.figsize'] = [18, 10]\n",
    "\n",
    "users = [113, 411]\n",
    "\n",
    "L = 10\n",
    "# features = [\"acc-x\", \"acc-y\", \"acc-z\"]\n",
    "# features = [\"getting-started\", \"encountering-difficulties\", \"dealing-with-difficulties\", \"succeeding\", \"failing\", \"submitting\"]\n",
    "features = [\"phasic\"]\n",
    "\n",
    "mts, tsum = constructMTS(users, features)\n",
    "sss, bounds, word_shape = subsequenceMTS(mts, L)\n",
    "\n",
    "# print(sss.shape, bounds)\n",
    "\n",
    "meta = {\n",
    "    \"L\": L,\n",
    "    \"bounds\": bounds,\n",
    "    \"word_shape\": word_shape,\n",
    "    \"description\": \"Phasic data for 2 users.\",\n",
    "    \"users\": users, \n",
    "    \"features\": features, \n",
    "    \"subsequences\": sss.tolist()\n",
    "}"
   ]
  },
  {
   "cell_type": "code",
   "execution_count": 37,
   "metadata": {
    "ExecuteTime": {
     "end_time": "2018-09-13T01:10:35.480000Z",
     "start_time": "2018-09-13T01:10:35.417000Z"
    }
   },
   "outputs": [
    {
     "name": "stdout",
     "output_type": "stream",
     "text": [
      "('File saved!', 'irb/datasets\\\\pacc_for_2.json')\n"
     ]
    }
   ],
   "source": [
    "save_jsonfile(os.path.join(\"irb/datasets\", \"pacc_for_2.json\"), meta)"
   ]
  },
  {
   "cell_type": "markdown",
   "metadata": {},
   "source": [
    "# Visualize MTS Matrix"
   ]
  },
  {
   "cell_type": "code",
   "execution_count": 35,
   "metadata": {
    "ExecuteTime": {
     "end_time": "2018-09-13T01:05:58.812000Z",
     "start_time": "2018-09-13T01:05:58.591000Z"
    }
   },
   "outputs": [
    {
     "data": {
      "image/png": "[encoded data removed]",
      "text/plain": [
       "<Figure size 1296x720 with 1 Axes>"
      ]
     },
     "metadata": {},
     "output_type": "display_data"
    }
   ],
   "source": [
    "user = users[1]\n",
    "pl.imshow(mts[user], cmap='hot', interpolation='nearest', aspect='auto')\n",
    "pl.title(\"User %i: %s\" % (user, \",\".join(features)))\n",
    "pl.ylabel(\"Acceleration(1/64g)\")\n",
    "pl.xlabel(\"Sample\")\n",
    "pl.show()"
   ]
  },
  {
   "cell_type": "code",
   "execution_count": null,
   "metadata": {},
   "outputs": [],
   "source": []
  },
  {
   "cell_type": "code",
   "execution_count": null,
   "metadata": {},
   "outputs": [],
   "source": []
  }
 ],
 "metadata": {
  "kernelspec": {
   "display_name": "Python 2",
   "language": "python",
   "name": "python2"
  },
  "language_info": {
   "codemirror_mode": {
    "name": "ipython",
    "version": 2
   },
   "file_extension": ".py",
   "mimetype": "text/x-python",
   "name": "python",
   "nbconvert_exporter": "python",
   "pygments_lexer": "ipython2",
   "version": "2.7.14"
  },
  "toc": {
   "base_numbering": 1,
   "nav_menu": {},
   "number_sections": true,
   "sideBar": true,
   "skip_h1_title": false,
   "title_cell": "Table of Contents",
   "title_sidebar": "Contents",
   "toc_cell": false,
   "toc_position": {},
   "toc_section_display": true,
   "toc_window_display": false
  }
 },
 "nbformat": 4,
 "nbformat_minor": 2
}
