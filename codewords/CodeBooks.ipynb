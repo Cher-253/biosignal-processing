{
 "cells": [
  {
   "cell_type": "markdown",
   "metadata": {},
   "source": [
    "# Time Series Subsequence Clustering"
   ]
  },
  {
   "cell_type": "markdown",
   "metadata": {},
   "source": [
    "## Signal Processing Exploration"
   ]
  },
  {
   "cell_type": "code",
   "execution_count": 3,
   "metadata": {
    "ExecuteTime": {
     "end_time": "2018-06-27T10:31:10.833544Z",
     "start_time": "2018-06-27T10:31:04.543618Z"
    },
    "collapsed": false
   },
   "outputs": [
    {
     "name": "stdout",
     "output_type": "stream",
     "text": [
      "D(x_s, c_n) 34.8398576569\n",
      "Gaus(D(x_s, c_n)) 34.8398576569\n"
     ]
    }
   ],
   "source": [
    "import numpy as np\n",
    "import scipy\n",
    "from scipy import ndimage\n",
    "from scipy.spatial.distance import euclidean,pdist, squareform, cdist\n",
    "import matplotlib.pyplot as plt\n",
    "\n",
    "x = np.linspace(0,2*np.pi,100)\n",
    "y = np.sin(x) + np.random.random(100) * 0.8\n",
    "c = np.sin(x)\n",
    "diff = y-c\n",
    "print(\"D(x_s, c_n)\", np.sum(diff))\n",
    "\n",
    "plt.plot(x, y,'o')\n",
    "plt.plot(x, c, 'g-', lw=2)\n",
    "plt.plot(x, diff, 'r-', lw=2)\n",
    "\n",
    "y_gauss = scipy.ndimage.filters.gaussian_filter1d(diff, 3.0, axis=-1, order=0, output=None, mode='reflect', cval=0.0, truncate=4.0)\n",
    "plt.plot(x, y_gauss, 'b-', lw=2)\n",
    "\n",
    "print(\"Gaus(D(x_s, c_n))\", np.sum(y_gauss))\n",
    "\n"
   ]
  },
  {
   "cell_type": "markdown",
   "metadata": {},
   "source": [
    "## Time Series Clustering\n",
    "Working through examples from http://alexminnaar.com/time-series-classification-and-clustering-with-python.html"
   ]
  },
  {
   "cell_type": "code",
   "execution_count": 20,
   "metadata": {
    "collapsed": false
   },
   "outputs": [
    {
     "name": "stdout",
     "output_type": "stream",
     "text": [
      "euclid 9.091869485041544\n",
      "dtw 4.652305750981295\n"
     ]
    }
   ],
   "source": [
    "import numpy as np\n",
    "import scipy\n",
    "from scipy import ndimage\n",
    "from scipy.spatial.distance import euclidean,pdist, squareform, cdist\n",
    "import matplotlib.pyplot as plt\n",
    "\n",
    "# Similarity Matrix\n",
    "def EuclideanDistance(t1, t2):\n",
    "    return np.sqrt(np.sum((t1-t2)**2))\n",
    "\n",
    "# Dynamic Time Warping\n",
    "def DTWDistance(s1, s2):\n",
    "    # Initialize distance matrix (nxn), pad filling with inf  \n",
    "    DTW= {}\n",
    "    n1 = range(len(s1))\n",
    "    n2 = range(len(s2))\n",
    "    for i in n1:\n",
    "        DTW[(i, -1)] = float('inf')\n",
    "    for i in n2:\n",
    "        DTW[(-1, i)] = float('inf')\n",
    "    DTW[(-1, -1)] = 0\n",
    "    \n",
    "    # Compute the distances (O(nm) time)\n",
    "    for i in n1:\n",
    "        for j in n2:\n",
    "            dist = (s1[i]-s2[j])**2\n",
    "            DTW[(i, j)] = dist + min(DTW[(i-1, j)], DTW[(i, j-1)], DTW[(i-1, j-1)])\n",
    "    return np.sqrt(DTW[len(s1)-1, len(s2)-1])\n"
   ]
  },
  {
   "cell_type": "markdown",
   "metadata": {},
   "source": [
    "Testing difference between euclideean and dtw distance metrics."
   ]
  },
  {
   "cell_type": "code",
   "execution_count": 84,
   "metadata": {
    "collapsed": false
   },
   "outputs": [
    {
     "data": {
      "text/plain": [
       "Text(0.5,1,'Comparing Tranformed Signal w/ Difference Distance Metrics')"
      ]
     },
     "execution_count": 84,
     "metadata": {},
     "output_type": "execute_result"
    }
   ],
   "source": [
    "x = np.linspace(0,2*np.pi,100)\n",
    "\n",
    "s1 = np.sin(x)# + np.random.random(100) * 0.8\n",
    "s2 = np.sin(x+5) \n",
    "\n",
    "\n",
    "plt.plot(x, s1, 'r')\n",
    "plt.plot(x, s2, 'b')\n",
    "plt.title(\"Comparing Tranformed Signal w/ Difference Distance Metrics\")\n",
    "\n"
   ]
  },
  {
   "cell_type": "code",
   "execution_count": 40,
   "metadata": {
    "collapsed": false
   },
   "outputs": [
    {
     "name": "stdout",
     "output_type": "stream",
     "text": [
      "The slowest run took 8.98 times longer than the fastest. This could mean that an intermediate result is being cached.\n",
      "100000 loops, best of 3: 4.42 µs per loop\n",
      "euclid 8.475669849851327\n"
     ]
    }
   ],
   "source": [
    "%timeit EuclideanDistance(s1, s2)\n",
    "print \"euclid\", EuclideanDistance(s1, s2)"
   ]
  },
  {
   "cell_type": "code",
   "execution_count": 103,
   "metadata": {
    "collapsed": false
   },
   "outputs": [
    {
     "name": "stdout",
     "output_type": "stream",
     "text": [
      "dtw 3.717113297468906\n"
     ]
    }
   ],
   "source": [
    "# %timeit DTWDistance(s1, s2)\n",
    "print \"dtw\", DTWDistance(s1, s2)"
   ]
  },
  {
   "cell_type": "code",
   "execution_count": 54,
   "metadata": {
    "collapsed": false
   },
   "outputs": [
    {
     "name": "stdout",
     "output_type": "stream",
     "text": [
      "\n"
     ]
    }
   ],
   "source": [
    "# Fast DTW (locality constraint)\n",
    "def FastDTWDistance(s1, s2, w):\n",
    "    w = max(w, abs(len(s1) - len(s2)))\n",
    "    # Initialize distance matrix (nxn), pad filling with inf  \n",
    "    DTW= {}\n",
    "    for i in range(-1,len(s1)):\n",
    "        for j in range(-1,len(s2)):\n",
    "            DTW[(i, j)] = float('inf')\n",
    "    DTW[(-1, -1)] = 0\n",
    "    \n",
    "    # Compute the distances (O(nm) time)\n",
    "    for i in range(len(s1)):\n",
    "        for j in range(max(0, i-w), min(len(s2), i+w)):\n",
    "            dist = (s1[i]-s2[j])**2\n",
    "            DTW[(i, j)] = dist + min(DTW[(i-1, j)], DTW[(i, j-1)], DTW[(i-1, j-1)])\n",
    "    return np.sqrt(DTW[len(s1)-1, len(s2)-1])\n"
   ]
  },
  {
   "cell_type": "markdown",
   "metadata": {},
   "source": [
    "A locality constraint can be used to speed of DTW. In this run, elements that are further than a third of the window size (w/3) are not considered.  "
   ]
  },
  {
   "cell_type": "code",
   "execution_count": 58,
   "metadata": {
    "collapsed": false,
    "scrolled": true
   },
   "outputs": [
    {
     "name": "stdout",
     "output_type": "stream",
     "text": [
      "100 loops, best of 3: 8.89 ms per loop\n",
      "fast_dtw 3.7171132974689063\n"
     ]
    }
   ],
   "source": [
    "%timeit FastDTWDistance(s1, s2, len(s1)/3)\n",
    "print \"fast_dtw\", FastDTWDistance(s1, s2, len(s1)/3)"
   ]
  },
  {
   "cell_type": "markdown",
   "metadata": {},
   "source": [
    "![LB_Keogh](files/images/LB_Keogh.GIF)"
   ]
  },
  {
   "cell_type": "code",
   "execution_count": 63,
   "metadata": {
    "collapsed": true
   },
   "outputs": [],
   "source": [
    "#Lower Bound Keogh (LB Keough)\n",
    "def LB_Keogh(s1,s2,r):\n",
    "    LB_sum=0\n",
    "    for ind,i in enumerate(s1):\n",
    "\n",
    "        lower_bound=min(s2[(ind-r if ind-r>=0 else 0):(ind+r)])\n",
    "        upper_bound=max(s2[(ind-r if ind-r>=0 else 0):(ind+r)])\n",
    "\n",
    "        if i>upper_bound:\n",
    "            LB_sum=LB_sum+(i-upper_bound)**2\n",
    "        elif i<lower_bound:\n",
    "            LB_sum=LB_sum+(i-lower_bound)**2\n",
    "\n",
    "    return np.sqrt(LB_sum)"
   ]
  },
  {
   "cell_type": "code",
   "execution_count": 79,
   "metadata": {
    "collapsed": false
   },
   "outputs": [
    {
     "name": "stdout",
     "output_type": "stream",
     "text": [
      "LB_Keogh 6.521118234982505\n"
     ]
    }
   ],
   "source": [
    "print \"LB_Keogh\", LB_Keogh(s1, s2, 5)"
   ]
  },
  {
   "cell_type": "code",
   "execution_count": 76,
   "metadata": {
    "collapsed": false
   },
   "outputs": [
    {
     "name": "stdout",
     "output_type": "stream",
     "text": [
      "10 loops, best of 3: 27.6 ms per loop\n",
      "FastDTW 21.4784064195\n"
     ]
    }
   ],
   "source": [
    "from fastdtw import fastdtw\n",
    "\n",
    "%timeit fastdtw(s1, s2, dist=euclidean)\n",
    "distance, path = fastdtw(s1, s2, dist=euclidean)\n",
    "print \"FastDTW\", distance"
   ]
  },
  {
   "cell_type": "code",
   "execution_count": 81,
   "metadata": {
    "collapsed": false
   },
   "outputs": [
    {
     "name": "stdout",
     "output_type": "stream",
     "text": [
      "10 loops, best of 3: 133 ms per loop\n",
      "DTW 0.1050531557389213\n"
     ]
    }
   ],
   "source": [
    "from dtw import dtw\n",
    "%timeit dtw(s1, s2, dist=euclidean)\n",
    "distance, cost, acc, path = dtw(s1, s2, dist=euclidean)\n",
    "print \"DTW\", distance"
   ]
  },
  {
   "cell_type": "code",
   "execution_count": 97,
   "metadata": {
    "collapsed": false
   },
   "outputs": [
    {
     "name": "stdout",
     "output_type": "stream",
     "text": [
      "Using matplotlib backend: TkAgg\n",
      "Populating the interactive namespace from numpy and matplotlib\n"
     ]
    },
    {
     "data": {
      "image/png": "[encoded data removed]",
      "text/plain": [
       "<Figure size 432x288 with 1 Axes>"
      ]
     },
     "metadata": {},
     "output_type": "display_data"
    }
   ],
   "source": [
    "%pylab\n",
    "%matplotlib inline \n",
    "imshow(acc.T, origin='lower', cmap=cm.gray, interpolation=\"nearest\")\n",
    "plot(path[0], path[1], 'w')\n",
    "xlim((-0.5, acc.shape[0]-0.5))\n",
    "ylim((-0.5, acc.shape[1]-0.5))\n",
    "plt.show()"
   ]
  },
  {
   "cell_type": "code",
   "execution_count": 89,
   "metadata": {
    "collapsed": false
   },
   "outputs": [
    {
     "data": {
      "text/plain": [
       "[<matplotlib.lines.Line2D at 0x1410ce10>]"
      ]
     },
     "execution_count": 89,
     "metadata": {},
     "output_type": "execute_result"
    }
   ],
   "source": [
    "x = array([0, 0, 1, 1, 2, 4, 2, 1, 2, 0]).reshape(-1, 1)\n",
    "y = array([1, 1, 1, 2, 2, 2, 2, 3, 2, 0]).reshape(-1, 1)\n"
   ]
  },
  {
   "cell_type": "code",
   "execution_count": 98,
   "metadata": {
    "collapsed": false
   },
   "outputs": [
    {
     "data": {
      "text/plain": [
       "[<matplotlib.lines.Line2D at 0x1421eaf0>]"
      ]
     },
     "execution_count": 98,
     "metadata": {},
     "output_type": "execute_result"
    },
    {
     "data": {
      "image/png": "[encoded data removed]",
      "text/plain": [
       "<Figure size 432x288 with 1 Axes>"
      ]
     },
     "metadata": {},
     "output_type": "display_data"
    }
   ],
   "source": [
    "plt.plot(x)\n",
    "plt.plot(y)"
   ]
  },
  {
   "cell_type": "code",
   "execution_count": 108,
   "metadata": {
    "collapsed": false
   },
   "outputs": [
    {
     "name": "stdout",
     "output_type": "stream",
     "text": [
      "distance 0.2\n",
      "euclidean 3.3166247903554\n",
      "dtw [2.]\n",
      "fast_dtw [2.]\n"
     ]
    },
    {
     "data": {
      "image/png": "[encoded data removed]",
      "text/plain": [
       "<Figure size 432x288 with 1 Axes>"
      ]
     },
     "metadata": {},
     "output_type": "display_data"
    }
   ],
   "source": [
    "distance, cost, acc, path = dtw(x, y, dist=euclidean)\n",
    "print \"distance\", distance\n",
    "print \"euclidean\", EuclideanDistance(x, y)\n",
    "print \"dtw\", DTWDistance(x, y)\n",
    "print \"fast_dtw\", FastDTWDistance(x, y, len(x)/3)\n",
    "imshow(acc.T, origin='lower', cmap=cm.gray, interpolation=\"nearest\")\n",
    "plot(path[0], path[1], 'w')\n",
    "xlim((-0.5, acc.shape[0]-0.5))\n",
    "ylim((-0.5, acc.shape[1]-0.5))\n",
    "plt.show()"
   ]
  },
  {
   "cell_type": "code",
   "execution_count": 110,
   "metadata": {
    "collapsed": false
   },
   "outputs": [
    {
     "ename": "NameError",
     "evalue": "name 'path_cost' is not defined",
     "output_type": "error",
     "traceback": [
      "\u001b[1;31m---------------------------------------------------------------------------\u001b[0m",
      "\u001b[1;31mNameError\u001b[0m                                 Traceback (most recent call last)",
      "\u001b[1;32m<ipython-input-110-cb0c6ddd7b9a>\u001b[0m in \u001b[0;36m<module>\u001b[1;34m()\u001b[0m\n\u001b[0;32m      9\u001b[0m \u001b[0mplt\u001b[0m\u001b[1;33m.\u001b[0m\u001b[0mplot\u001b[0m\u001b[1;33m(\u001b[0m\u001b[0my\u001b[0m\u001b[1;33m,\u001b[0m \u001b[1;34m'g^-'\u001b[0m\u001b[1;33m,\u001b[0m \u001b[0mlabel\u001b[0m \u001b[1;33m=\u001b[0m \u001b[1;34m'y'\u001b[0m\u001b[1;33m)\u001b[0m\u001b[1;33m\u001b[0m\u001b[0m\n\u001b[0;32m     10\u001b[0m \u001b[0mplt\u001b[0m\u001b[1;33m.\u001b[0m\u001b[0mlegend\u001b[0m\u001b[1;33m(\u001b[0m\u001b[1;33m)\u001b[0m\u001b[1;33m;\u001b[0m\u001b[1;33m\u001b[0m\u001b[0m\n\u001b[1;32m---> 11\u001b[1;33m \u001b[0mpaths\u001b[0m \u001b[1;33m=\u001b[0m \u001b[0mpath_cost\u001b[0m\u001b[1;33m(\u001b[0m\u001b[0mx\u001b[0m\u001b[1;33m,\u001b[0m \u001b[0my\u001b[0m\u001b[1;33m,\u001b[0m \u001b[0maccumulated_cost\u001b[0m\u001b[1;33m,\u001b[0m \u001b[0mdistances\u001b[0m\u001b[1;33m)\u001b[0m\u001b[1;33m[\u001b[0m\u001b[1;36m0\u001b[0m\u001b[1;33m]\u001b[0m\u001b[1;33m\u001b[0m\u001b[0m\n\u001b[0m\u001b[0;32m     12\u001b[0m \u001b[1;32mfor\u001b[0m \u001b[1;33m[\u001b[0m\u001b[0mmap_x\u001b[0m\u001b[1;33m,\u001b[0m \u001b[0mmap_y\u001b[0m\u001b[1;33m]\u001b[0m \u001b[1;32min\u001b[0m \u001b[0mpaths\u001b[0m\u001b[1;33m:\u001b[0m\u001b[1;33m\u001b[0m\u001b[0m\n\u001b[0;32m     13\u001b[0m     \u001b[1;31m#print map_x, x[map_x], \":\", map_y, y[map_y]\u001b[0m\u001b[1;33m\u001b[0m\u001b[1;33m\u001b[0m\u001b[0m\n",
      "\u001b[1;31mNameError\u001b[0m: name 'path_cost' is not defined"
     ]
    },
    {
     "data": {
      "image/png": "[encoded data removed]",
      "text/plain": [
       "<Figure size 432x288 with 1 Axes>"
      ]
     },
     "metadata": {},
     "output_type": "display_data"
    }
   ],
   "source": [
    "x = range(10)\n",
    "y = [0] * 5 + x\n",
    "\n",
    "x = array(x).reshape(-1, 1)\n",
    "y = array(y).reshape(-1, 1)\n",
    "plot(x)\n",
    "plot(y)\n",
    "plt.plot(x, 'bo-' ,label='x')\n",
    "plt.plot(y, 'g^-', label = 'y')\n",
    "plt.legend();\n",
    "paths = path_cost(x, y, accumulated_cost, distances)[0]\n",
    "for [map_x, map_y] in paths:\n",
    "    #print map_x, x[map_x], \":\", map_y, y[map_y]\n",
    "    \n",
    "    plt.plot([map_x, map_y], [x[map_x], y[map_y]], 'r')"
   ]
  },
  {
   "cell_type": "code",
   "execution_count": null,
   "metadata": {
    "collapsed": true
   },
   "outputs": [],
   "source": []
  }
 ],
 "metadata": {
  "kernelspec": {
   "display_name": "Python 3",
   "language": "python",
   "name": "python3"
  },
  "language_info": {
   "codemirror_mode": {
    "name": "ipython",
    "version": 3
   },
   "file_extension": ".py",
   "mimetype": "text/x-python",
   "name": "python",
   "nbconvert_exporter": "python",
   "pygments_lexer": "ipython3",
   "version": "3.6.0"
  },
  "toc": {
   "base_numbering": 1,
   "nav_menu": {},
   "number_sections": true,
   "sideBar": true,
   "skip_h1_title": false,
   "title_cell": "Table of Contents",
   "title_sidebar": "Contents",
   "toc_cell": false,
   "toc_position": {},
   "toc_section_display": true,
   "toc_window_display": false
  }
 },
 "nbformat": 4,
 "nbformat_minor": 2
}
