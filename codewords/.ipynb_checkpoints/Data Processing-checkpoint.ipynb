{
 "cells": [
  {
   "cell_type": "markdown",
   "metadata": {},
   "source": [
    "## Data Format"
   ]
  },
  {
   "cell_type": "markdown",
   "metadata": {},
   "source": [
    "This notebook contains the necessary data wrangling processes to format data acquired from environment sensors. \n",
    "* Video codes\n",
    "* IMU data streams\n",
    "* Empatica biosignals\n",
    "```\n",
    "compiled_data = {\n",
    "     user1: {\n",
    "         video: \n",
    "             web: \"adkada/akdlakds/asdkad.webm\"\n",
    "             mp4: \"video.mp4\"\n",
    "             codes: \"codes.json\"\n",
    "         sensors: \n",
    "             iron: \n",
    "                 imu: \"imu.json\"\n",
    "             bio: \n",
    "                 acc: acc.json\n",
    "                 ...\n",
    "     }\n",
    " }\n",
    "```"
   ]
  },
  {
   "cell_type": "code",
   "execution_count": 228,
   "metadata": {
    "ExecuteTime": {
     "end_time": "2018-05-25T15:23:11.882716Z",
     "start_time": "2018-05-25T15:23:11.863779Z"
    },
    "collapsed": false
   },
   "outputs": [],
   "source": [
    "compiled_data = {}\n",
    "import glob, os, json, platform\n",
    "from pprint import pprint\n",
    "import pandas as pd\n",
    "import numpy as np\n",
    "\n",
    "\n",
    "def save_jsonfile(fn, data):\n",
    "    file = fn\n",
    "    with open(file, 'w') as outfile:\n",
    "        json.dump(data, outfile)\n",
    "    print(\"File saved!\", file)\n",
    "    \n",
    "def create_base(name, actor, sensor, channel):\n",
    "    \n",
    "    if not name in compiled_data: \n",
    "        compiled_data[name]= {}\n",
    "    if not actor in compiled_data[name]:\n",
    "        compiled_data[name][actor] = {}\n",
    "    if not sensor in compiled_data[name][actor]:\n",
    "        compiled_data[name][actor][sensor] = {}\n",
    "    if channel:\n",
    "        if not channel in compiled_data[name][actor][sensor]:\n",
    "            compiled_data[name][actor][sensor][channel] = {}\n",
    "    \n",
    "\n",
    "\n",
    "\n"
   ]
  },
  {
   "cell_type": "markdown",
   "metadata": {},
   "source": [
    "## Video Codes\n",
    "Root directory `VIDEO_ROOT = data/video_data`"
   ]
  },
  {
   "cell_type": "markdown",
   "metadata": {
    "ExecuteTime": {
     "end_time": "2018-05-15T16:46:35.968143Z",
     "start_time": "2018-05-15T16:46:35.960077Z"
    }
   },
   "source": [
    "### Routine\n",
    "Processing video obtained from the session should be done as follows:\n",
    "1. [TODO] Run a ffmpeg batch script to convert `VIDEO_ROOT/raw` to optimized `MP4` and store in `VIDEO_ROOT/processed`.\n",
    "2. [TODO] Run a ffmpeg batch script to convert `VIDEO_ROOT/processed` to `WEBM` and store in `VIDEO_ROOT/web`. Should be a lower resolution [TODO] ... 720?\n",
    "3. In MaxQDA, code the video with the following code system `TODO`\n",
    "4. Activate all codes and export. Remove redundant columns in Excel and save as `VIDEO_ROOT/video_data.csv`\n",
    "\n",
    "\n",
    "```\n",
    "brew install ffmpeg --with-libvpx --with-vorbis --with-libvorbis --with-vpx --with-vorbis --with-theora --with-libogg --with-libvorbis --with-gpl --with-version3 --with-nonfree --with-postproc --with-libaacplus --with-libass --with-libcelt --with-libfaac --with-libfdk-aac --with-libfreetype --with-libmp3lame --with-libopencore-amrnb --with-libopencore-amrwb --with-libopenjpeg --with-openssl --with-libopus --with-libschroedinger --with-libspeex --with-libtheora --with-libvo-aacenc --with-libvorbis --with-libvpx --with-libx264 --with-libxvid\n",
    "```\n",
    "\n",
    "Use [ffmpeg](https://gist.github.com/clayton/6196167) to convert videos\n",
    "```\n",
    "ffmpeg -i cesar.mp4 -c:v libvpx-vp9 -pass 2 -b:v 0 -crf 33 -threads 8 -speed 2 -tile-columns 6 -frame-parallel 1 -auto-alt-ref 1 -lag-in-frames 25  -f webm cesar.webm\n",
    "```"
   ]
  },
  {
   "cell_type": "code",
   "execution_count": 229,
   "metadata": {
    "ExecuteTime": {
     "end_time": "2018-05-25T15:23:13.884286Z",
     "start_time": "2018-05-25T15:23:13.857271Z"
    },
    "collapsed": false
   },
   "outputs": [
    {
     "name": "stdout",
     "output_type": "stream",
     "text": [
      "{\n",
      "  \"molly\": {\n",
      "    \"env\": {\n",
      "      \"video\": {\n",
      "        \"raw\": {\n",
      "          \"url\": \"/data/video_data/raw/molly.MOV\",\n",
      "          \"timestamp\": 1525803548.0,\n",
      "          \"c_time\": \"2018-05-08T11:19:08Z\",\n",
      "          \"type\": \"link\"\n",
      "        },\n",
      "        \"mp4\": {\n",
      "          \"url\": \"/data/video_data/mp4/molly.mp4\",\n",
      "          \"timestamp\": 1526497180.0,\n",
      "          \"c_time\": \"2018-05-16T11:59:40Z\",\n",
      "          \"type\": \"video\"\n",
      "        }\n",
      "      }\n",
      "    }\n",
      "  },\n",
      "  \"kevin\": {\n",
      "    \"env\": {\n",
      "      \"video\": {\n",
      "        \"raw\": {\n",
      "          \"url\": \"/data/video_data/raw/kevin.MOV\",\n",
      "          \"timestamp\": 1525737300.0,\n",
      "          \"c_time\": \"2018-05-07T16:55:00Z\",\n",
      "          \"type\": \"link\"\n",
      "        },\n",
      "        \"mp4\": {\n",
      "          \"url\": \"/data/video_data/mp4/kevin.mp4\",\n",
      "          \"timestamp\": 1526497180.0,\n",
      "          \"c_time\": \"2018-05-16T11:59:40Z\",\n",
      "          \"type\": \"video\"\n",
      "        }\n",
      "      }\n",
      "    }\n",
      "  },\n",
      "  \"cesar\": {\n",
      "    \"env\": {\n",
      "      \"video\": {\n",
      "        \"raw\": {\n",
      "          \"url\": \"/data/video_data/raw/cesar.MOV\",\n",
      "          \"timestamp\": 1525736645.0,\n",
      "          \"c_time\": \"2018-05-07T16:44:05Z\",\n",
      "          \"type\": \"link\"\n",
      "        },\n",
      "        \"mp4\": {\n",
      "          \"url\": \"/data/video_data/mp4/cesar.mp4\",\n",
      "          \"timestamp\": 1526497180.0,\n",
      "          \"c_time\": \"2018-05-16T11:59:40Z\",\n",
      "          \"type\": \"video\"\n",
      "        }\n",
      "      }\n",
      "    }\n",
      "  },\n",
      "  \"chris\": {\n",
      "    \"env\": {\n",
      "      \"video\": {\n",
      "        \"raw\": {\n",
      "          \"url\": \"/data/video_data/raw/chris.MOV\",\n",
      "          \"timestamp\": 1525804198.0,\n",
      "          \"c_time\": \"2018-05-08T11:29:58Z\",\n",
      "          \"type\": \"link\"\n",
      "        },\n",
      "        \"mp4\": {\n",
      "          \"url\": \"/data/video_data/mp4/chris.mp4\",\n",
      "          \"timestamp\": 1526497180.0,\n",
      "          \"c_time\": \"2018-05-16T11:59:40Z\",\n",
      "          \"type\": \"video\"\n",
      "        }\n",
      "      }\n",
      "    }\n",
      "  }\n",
      "}\n"
     ]
    }
   ],
   "source": [
    "VIDEO_ROOT = \"data/video_data/\"\n",
    "WEB = \"web/*.webm\"\n",
    "RAW = \"raw/*.MOV\"\n",
    "MP4 = \"mp4/*.mp4\"\n",
    "\n",
    "import datetime\n",
    "\n",
    "compiled_data = {}\n",
    "def process_video(RAW, MP4):\n",
    "    #SKIP PROCESSED FILES\n",
    "    #RUN FFMPEG SCRIPT\n",
    "    pass\n",
    "\n",
    "\n",
    "def append_data(root, directory, actor, sensor, channel, type):\n",
    "    videos = glob.glob(root + directory)\n",
    "    for i in videos:\n",
    "        if platform.system() == \"Darwin\":\n",
    "            posix_time = os.stat(i).st_birthtime\n",
    "            t = datetime.datetime.fromtimestamp(posix_time).strftime(\n",
    "                '%Y-%m-%dT%H:%M:%SZ')\n",
    "            session = os.path.basename(i).split('.')[0]\n",
    "            url = \"/\" + i\n",
    "            \n",
    "            create_base(session, actor, sensor, channel)\n",
    "            \n",
    "            sensor_data = {'url': url, 'timestamp': posix_time, 'c_time': t, 'type': type}\n",
    "            compiled_data[session][actor][sensor][channel] = sensor_data\n",
    "\n",
    "\n",
    "append_data(VIDEO_ROOT, RAW, \"env\", \"video\", \"raw\", \"link\")\n",
    "append_data(VIDEO_ROOT, MP4, \"env\", \"video\", \"mp4\", \"video\")\n",
    "append_data(VIDEO_ROOT, WEB, \"env\", \"video\", \"web\", \"link\")\n",
    "\n",
    "print(json.dumps(compiled_data, indent=2))"
   ]
  },
  {
   "cell_type": "code",
   "execution_count": null,
   "metadata": {
    "collapsed": true
   },
   "outputs": [],
   "source": []
  },
  {
   "cell_type": "code",
   "execution_count": 232,
   "metadata": {
    "ExecuteTime": {
     "end_time": "2018-05-25T15:24:25.835336Z",
     "start_time": "2018-05-25T15:24:25.733777Z"
    },
    "collapsed": false
   },
   "outputs": [
    {
     "name": "stdout",
     "output_type": "stream",
     "text": [
      "data/video_data/codes/codes.csv\n",
      "2018-05-25 00:00:00\n",
      "File saved! data/video_data/codes/kevin.json\n",
      "File saved! data/video_data/codes/chris.json\n",
      "File saved! data/video_data/codes/cesar.json\n",
      "File saved! data/video_data/codes/molly.json\n",
      "{\n",
      "  \"molly\": {\n",
      "    \"env\": {\n",
      "      \"video\": {\n",
      "        \"raw\": {\n",
      "          \"url\": \"/data/video_data/raw/molly.MOV\",\n",
      "          \"timestamp\": 1525803548.0,\n",
      "          \"c_time\": \"2018-05-08T11:19:08Z\",\n",
      "          \"type\": \"link\"\n",
      "        },\n",
      "        \"mp4\": {\n",
      "          \"url\": \"/data/video_data/mp4/molly.mp4\",\n",
      "          \"timestamp\": 1526497180.0,\n",
      "          \"c_time\": \"2018-05-16T11:59:40Z\",\n",
      "          \"type\": \"video\"\n",
      "        },\n",
      "        \"codes\": {\n",
      "          \"url\": \"/data/video_data/codes/molly.json\",\n",
      "          \"timestamp\": 1526497572.1856642,\n",
      "          \"c_time\": \"2018-05-16T12:06:12Z\",\n",
      "          \"type\": \"codes_chart\"\n",
      "        }\n",
      "      }\n",
      "    }\n",
      "  },\n",
      "  \"kevin\": {\n",
      "    \"env\": {\n",
      "      \"video\": {\n",
      "        \"raw\": {\n",
      "          \"url\": \"/data/video_data/raw/kevin.MOV\",\n",
      "          \"timestamp\": 1525737300.0,\n",
      "          \"c_time\": \"2018-05-07T16:55:00Z\",\n",
      "          \"type\": \"link\"\n",
      "        },\n",
      "        \"mp4\": {\n",
      "          \"url\": \"/data/video_data/mp4/kevin.mp4\",\n",
      "          \"timestamp\": 1526497180.0,\n",
      "          \"c_time\": \"2018-05-16T11:59:40Z\",\n",
      "          \"type\": \"video\"\n",
      "        },\n",
      "        \"codes\": {\n",
      "          \"url\": \"/data/video_data/codes/kevin.json\",\n",
      "          \"timestamp\": 1526497572.1800814,\n",
      "          \"c_time\": \"2018-05-16T12:06:12Z\",\n",
      "          \"type\": \"codes_chart\"\n",
      "        }\n",
      "      }\n",
      "    }\n",
      "  },\n",
      "  \"cesar\": {\n",
      "    \"env\": {\n",
      "      \"video\": {\n",
      "        \"raw\": {\n",
      "          \"url\": \"/data/video_data/raw/cesar.MOV\",\n",
      "          \"timestamp\": 1525736645.0,\n",
      "          \"c_time\": \"2018-05-07T16:44:05Z\",\n",
      "          \"type\": \"link\"\n",
      "        },\n",
      "        \"mp4\": {\n",
      "          \"url\": \"/data/video_data/mp4/cesar.mp4\",\n",
      "          \"timestamp\": 1526497180.0,\n",
      "          \"c_time\": \"2018-05-16T11:59:40Z\",\n",
      "          \"type\": \"video\"\n",
      "        },\n",
      "        \"codes\": {\n",
      "          \"url\": \"/data/video_data/codes/cesar.json\",\n",
      "          \"timestamp\": 1526497572.183957,\n",
      "          \"c_time\": \"2018-05-16T12:06:12Z\",\n",
      "          \"type\": \"codes_chart\"\n",
      "        }\n",
      "      }\n",
      "    }\n",
      "  },\n",
      "  \"chris\": {\n",
      "    \"env\": {\n",
      "      \"video\": {\n",
      "        \"raw\": {\n",
      "          \"url\": \"/data/video_data/raw/chris.MOV\",\n",
      "          \"timestamp\": 1525804198.0,\n",
      "          \"c_time\": \"2018-05-08T11:29:58Z\",\n",
      "          \"type\": \"link\"\n",
      "        },\n",
      "        \"mp4\": {\n",
      "          \"url\": \"/data/video_data/mp4/chris.mp4\",\n",
      "          \"timestamp\": 1526497180.0,\n",
      "          \"c_time\": \"2018-05-16T11:59:40Z\",\n",
      "          \"type\": \"video\"\n",
      "        },\n",
      "        \"codes\": {\n",
      "          \"url\": \"/data/video_data/codes/chris.json\",\n",
      "          \"timestamp\": 1526497572.1820862,\n",
      "          \"c_time\": \"2018-05-16T12:06:12Z\",\n",
      "          \"type\": \"codes_chart\"\n",
      "        }\n",
      "      }\n",
      "    }\n",
      "  }\n",
      "}\n"
     ]
    }
   ],
   "source": [
    "MAXQDA_OUTPUT=\"codes.csv\"\n",
    "CODES_ROOT=\"codes/\"\n",
    "file = VIDEO_ROOT + CODES_ROOT + MAXQDA_OUTPUT\n",
    "print(file)\n",
    "df = pd.read_csv(file)\n",
    "\n",
    "start = pd.to_datetime(df['Begin'])\n",
    "end = pd.to_datetime(df['End'])\n",
    "t0 = start[0]\n",
    "print(t0)\n",
    "df['t_i'] = (start - t0).dt.total_seconds().astype(int) # Don't need millisecond precision for hand-coded codes\n",
    "df['t_f'] = (end - t0).dt.total_seconds().astype(int)\n",
    "df.drop(['Begin', 'End'], 1)\n",
    "\n",
    "data = {}\n",
    "for index, row in df.iterrows():\n",
    "    user = row[0]\n",
    "    codes = row[1].split(\"\\\\\")\n",
    "    if not user in data: \n",
    "        data[user] = []\n",
    "    codes2 = list(map(lambda x: x.lower(), codes[2:]))\n",
    "    data[user].append({\n",
    "        'codes': codes2,\n",
    "        'start': row[4],\n",
    "        'end': row[5],\n",
    "        'actor': codes[1].lower()\n",
    "    })\n",
    "    \n",
    "for user in data:\n",
    "    file = VIDEO_ROOT + CODES_ROOT + user + \".json\"\n",
    "    save_jsonfile(file, data[user])\n",
    "append_data(VIDEO_ROOT, CODES_ROOT + \"*.json\", \"env\", \"video\",\"codes\", \"codes_chart\")\n",
    "print(json.dumps(compiled_data, indent=2))"
   ]
  },
  {
   "cell_type": "markdown",
   "metadata": {},
   "source": [
    "### MaxQDA codes"
   ]
  },
  {
   "cell_type": "markdown",
   "metadata": {},
   "source": [
    "## IMU_Data"
   ]
  },
  {
   "cell_type": "code",
   "execution_count": 223,
   "metadata": {
    "ExecuteTime": {
     "end_time": "2018-05-25T10:30:16.052251Z",
     "start_time": "2018-05-25T10:30:16.047345Z"
    },
    "collapsed": false
   },
   "outputs": [],
   "source": [
    "# Gather sensor files\n",
    "SENSOR_ROOT = \"data/sensor_data/\"\n",
    "IMU = \"*.json\"\n",
    "append_data(SENSOR_ROOT, IMU, \"iron\", \"imu\", \"various\", \"zip\")\n",
    "# print(json.dumps(compiled_data, indent=2))"
   ]
  },
  {
   "cell_type": "code",
   "execution_count": 222,
   "metadata": {
    "ExecuteTime": {
     "end_time": "2018-05-25T10:30:05.517598Z",
     "start_time": "2018-05-25T10:30:05.168457Z"
    },
    "collapsed": false
   },
   "outputs": [],
   "source": [
    "# # DO NOT RUN AGAIN\n",
    "# # #Separate channels within IMU\n",
    "# imu_files = SENSOR_ROOT + IMU\n",
    "\n",
    "# videos = glob.glob(imu_files)\n",
    "# for i in videos:\n",
    "#     if platform.system() == \"Darwin\":\n",
    "#         posix_time = os.stat(i).st_birthtime\n",
    "#         t = datetime.datetime.fromtimestamp(posix_time).strftime(\n",
    "#             '%Y-%m-%dT%H:%M:%SZ')\n",
    "#         name = os.path.basename(i).split('.')[0]\n",
    "#         file = {\n",
    "#             'name': name,\n",
    "#             'timestamp': posix_time,\n",
    "#             'c_time': t,\n",
    "#             'type': \"motion\"\n",
    "#         }\n",
    "        \n",
    "        \n",
    "#         f = open(i, 'r')\n",
    "#         data = json.load(f)\n",
    "#         for k in data: \n",
    "#             data[k]['timestamp'] = posix_time\n",
    "#             data[k]['c_time'] = t\n",
    "#         f.close()\n",
    "        \n",
    "#         # Re-open file here\n",
    "#         f2 = open(i, 'w')\n",
    "#         json.dump(data, f2)\n",
    "#         f2.close()"
   ]
  },
  {
   "cell_type": "markdown",
   "metadata": {
    "ExecuteTime": {
     "end_time": "2018-05-16T09:52:15.310503Z",
     "start_time": "2018-05-16T09:52:15.307081Z"
    }
   },
   "source": [
    "## Bio_Data"
   ]
  },
  {
   "cell_type": "markdown",
   "metadata": {
    "ExecuteTime": {
     "end_time": "2018-05-16T10:32:20.833685Z",
     "start_time": "2018-05-16T10:32:20.824170Z"
    }
   },
   "source": [
    ".csv files in this archive are in the following format:\n",
    "The first row is the initial time of the session expressed as unix timestamp in UTC.\n",
    "The second row is the sample rate expressed in Hz.\n",
    "\n",
    "### temp.csv\n",
    "Data from temperature sensor expressed degrees on the Celsius (°C) scale.\n",
    "\n",
    "### EDA.csv\n",
    "Data from the electrodermal activity sensor expressed as microsiemens (μS).\n",
    "\n",
    "### BVP.csv\n",
    "Data from photoplethysmograph.\n",
    "\n",
    "### ACC.csv\n",
    "Data from 3-axis accelerometer sensor. The accelerometer is configured to measure acceleration in the range [-2g, 2g]. Therefore the unit in this file is 1/64g.\n",
    "Data from x, y, and z axis are respectively in first, second, and third column.\n",
    "\n",
    "### IBI.csv\n",
    "Time between individuals heart beats extracted from the BVP signal.\n",
    "No sample rate is needed for this file.\n",
    "The first column is the time (respect to the initial time) of the detected inter-beat interval expressed in seconds (s).\n",
    "The second column is the duration in seconds (s) of the detected inter-beat interval (i.e., the distance in seconds from the previous beat).\n",
    "\n",
    "### HR.csv\n",
    "Average heart rate extracted from the BVP signal.The first row is the initial time of the session expressed as unix timestamp in UTC.\n",
    "The second row is the sample rate expressed in Hz.\n",
    "\n",
    "### tags.csv\n",
    "Event mark times.\n",
    "Each row corresponds to a physical button press on the device; the same time as the status LED is first illuminated.\n",
    "The time is expressed as a unix timestamp in UTC and it is synchronized with initial time of the session indicated in the related data files from the corresponding session.\n"
   ]
  },
  {
   "cell_type": "code",
   "execution_count": 224,
   "metadata": {
    "ExecuteTime": {
     "end_time": "2018-05-25T10:30:22.013462Z",
     "start_time": "2018-05-25T10:30:21.964169Z"
    },
    "collapsed": false
   },
   "outputs": [],
   "source": [
    "BIO_ROOT = \"data/bio_data/\"\n",
    "\n",
    "videos = glob.glob(BIO_ROOT + \"*\")\n",
    "\n",
    "def grab_and_save_data(user, sensor, name, file, df, columns):\n",
    "    timestamp = df.columns[0]\n",
    "    sampling_rate = df.iloc[[0]][timestamp][0].astype(int)\n",
    "    df = df.iloc[1:]\n",
    "    data = {\n",
    "        'name': name,\n",
    "        'timestamp': int(float(timestamp)),\n",
    "        'sampling_rate': int(sampling_rate)\n",
    "    }\n",
    "\n",
    "    for i in range(len(columns)):\n",
    "        name = columns[i]\n",
    "        data[name] = df.iloc[:,i].values.tolist()\n",
    "\n",
    "    save_jsonfile(file, data)\n",
    "    if user not in compiled_data:\n",
    "        compiled_data[user] = {'bio': {}}\n",
    "    if 'bio' not in compiled_data[user]:\n",
    "        compiled_data[user]['bio'] = {}\n",
    "    compiled_data[user]['bio'][sensor] = \"/\"+file\n",
    "        \n",
    "for session in videos:\n",
    "    bio_data = glob.glob(session + \"/*.csv\")\n",
    "    user = os.path.basename(session)\n",
    "    for sensor in bio_data: \n",
    "        sensor_name = name = os.path.basename(sensor).split('.')[0].lower()\n",
    "        print(sensor)\n",
    "        try: \n",
    "            df = pd.read_csv(sensor)\n",
    "        except pd.io.common.EmptyDataError:\n",
    "            print(\"Empty file:\", sensor)\n",
    "            continue\n",
    "        \n",
    "        # CONVERT CSV FILES INTO JSON         \n",
    "        file = session + \"/\" + sensor_name + \".json\"\n",
    "        \n",
    "        # SENSOR SPECIFIC PARSING\n",
    "        if sensor_name == \"temp\":\n",
    "            grab_and_save_data(user, sensor_name, \"Temperature (C)\", file, df, ['celsius'])\n",
    "        if sensor_name == \"tags\":\n",
    "            pass\n",
    "        if sensor_name == \"acc\":\n",
    "            grab_and_save_data(user, sensor_name, \"3-Axis Accelerometer (1/64g)\", file, df, ['x', 'y', 'z'])\n",
    "        if sensor_name == \"eda\":\n",
    "            grab_and_save_data(user, sensor_name, \"Electrodermal Activity (μS)\", file, df, ['mag'])\n",
    "        if sensor_name == \"bvp\":\n",
    "            grab_and_save_data(user, sensor_name, \"Blood Volume Pulse (BVP) from PPG\", file, df, ['mag'])\n",
    "        if sensor_name == \"hr\":\n",
    "            grab_and_save_data(user, sensor_name, \"Heart rate\", file, df, ['mag'])\n",
    "            \n"
   ]
  },
  {
   "cell_type": "markdown",
   "metadata": {},
   "source": [
    "## Save compiled data as a JSON"
   ]
  },
  {
   "cell_type": "code",
   "execution_count": 226,
   "metadata": {
    "ExecuteTime": {
     "end_time": "2018-05-25T10:30:44.076866Z",
     "start_time": "2018-05-25T10:30:44.068332Z"
    },
    "collapsed": false
   },
   "outputs": [
    {
     "name": "stdout",
     "output_type": "stream",
     "text": [
      "File saved! data/compiled.json\n",
      "{\n",
      "  \"molly\": {\n",
      "    \"env\": {\n",
      "      \"video\": {\n",
      "        \"raw\": {\n",
      "          \"url\": \"/data/video_data/raw/molly.MOV\",\n",
      "          \"timestamp\": 1525803548.0,\n",
      "          \"c_time\": \"2018-05-08T11:19:08Z\",\n",
      "          \"type\": \"link\"\n",
      "        },\n",
      "        \"mp4\": {\n",
      "          \"url\": \"/data/video_data/mp4/molly.mp4\",\n",
      "          \"timestamp\": 1526497180.0,\n",
      "          \"c_time\": \"2018-05-16T11:59:40Z\",\n",
      "          \"type\": \"video\"\n",
      "        },\n",
      "        \"codes\": {\n",
      "          \"url\": \"/data/video_data/codes/molly.json\",\n",
      "          \"timestamp\": 1526497572.1856642,\n",
      "          \"c_time\": \"2018-05-16T12:06:12Z\",\n",
      "          \"type\": \"codes_chart\"\n",
      "        }\n",
      "      }\n",
      "    },\n",
      "    \"iron\": {\n",
      "      \"imu\": {\n",
      "        \"various\": {\n",
      "          \"url\": \"/data/sensor_data/molly.json\",\n",
      "          \"timestamp\": 1526948659.338794,\n",
      "          \"c_time\": \"2018-05-21T17:24:19Z\",\n",
      "          \"type\": \"zip\"\n",
      "        }\n",
      "      }\n",
      "    }\n",
      "  },\n",
      "  \"kevin\": {\n",
      "    \"env\": {\n",
      "      \"video\": {\n",
      "        \"raw\": {\n",
      "          \"url\": \"/data/video_data/raw/kevin.MOV\",\n",
      "          \"timestamp\": 1525737300.0,\n",
      "          \"c_time\": \"2018-05-07T16:55:00Z\",\n",
      "          \"type\": \"link\"\n",
      "        },\n",
      "        \"mp4\": {\n",
      "          \"url\": \"/data/video_data/mp4/kevin.mp4\",\n",
      "          \"timestamp\": 1526497180.0,\n",
      "          \"c_time\": \"2018-05-16T11:59:40Z\",\n",
      "          \"type\": \"video\"\n",
      "        },\n",
      "        \"codes\": {\n",
      "          \"url\": \"/data/video_data/codes/kevin.json\",\n",
      "          \"timestamp\": 1526497572.1800814,\n",
      "          \"c_time\": \"2018-05-16T12:06:12Z\",\n",
      "          \"type\": \"codes_chart\"\n",
      "        }\n",
      "      }\n",
      "    },\n",
      "    \"iron\": {\n",
      "      \"imu\": {\n",
      "        \"various\": {\n",
      "          \"url\": \"/data/sensor_data/kevin.json\",\n",
      "          \"timestamp\": 1526948659.3314729,\n",
      "          \"c_time\": \"2018-05-21T17:24:19Z\",\n",
      "          \"type\": \"zip\"\n",
      "        }\n",
      "      }\n",
      "    }\n",
      "  },\n",
      "  \"cesar\": {\n",
      "    \"env\": {\n",
      "      \"video\": {\n",
      "        \"raw\": {\n",
      "          \"url\": \"/data/video_data/raw/cesar.MOV\",\n",
      "          \"timestamp\": 1525736645.0,\n",
      "          \"c_time\": \"2018-05-07T16:44:05Z\",\n",
      "          \"type\": \"link\"\n",
      "        },\n",
      "        \"mp4\": {\n",
      "          \"url\": \"/data/video_data/mp4/cesar.mp4\",\n",
      "          \"timestamp\": 1526497180.0,\n",
      "          \"c_time\": \"2018-05-16T11:59:40Z\",\n",
      "          \"type\": \"video\"\n",
      "        },\n",
      "        \"codes\": {\n",
      "          \"url\": \"/data/video_data/codes/cesar.json\",\n",
      "          \"timestamp\": 1526497572.183957,\n",
      "          \"c_time\": \"2018-05-16T12:06:12Z\",\n",
      "          \"type\": \"codes_chart\"\n",
      "        }\n",
      "      }\n",
      "    },\n",
      "    \"iron\": {\n",
      "      \"imu\": {\n",
      "        \"various\": {\n",
      "          \"url\": \"/data/sensor_data/cesar.json\",\n",
      "          \"timestamp\": 1526948659.3167472,\n",
      "          \"c_time\": \"2018-05-21T17:24:19Z\",\n",
      "          \"type\": \"zip\"\n",
      "        }\n",
      "      }\n",
      "    }\n",
      "  },\n",
      "  \"chris\": {\n",
      "    \"env\": {\n",
      "      \"video\": {\n",
      "        \"raw\": {\n",
      "          \"url\": \"/data/video_data/raw/chris.MOV\",\n",
      "          \"timestamp\": 1525804198.0,\n",
      "          \"c_time\": \"2018-05-08T11:29:58Z\",\n",
      "          \"type\": \"link\"\n",
      "        },\n",
      "        \"mp4\": {\n",
      "          \"url\": \"/data/video_data/mp4/chris.mp4\",\n",
      "          \"timestamp\": 1526497180.0,\n",
      "          \"c_time\": \"2018-05-16T11:59:40Z\",\n",
      "          \"type\": \"video\"\n",
      "        },\n",
      "        \"codes\": {\n",
      "          \"url\": \"/data/video_data/codes/chris.json\",\n",
      "          \"timestamp\": 1526497572.1820862,\n",
      "          \"c_time\": \"2018-05-16T12:06:12Z\",\n",
      "          \"type\": \"codes_chart\"\n",
      "        }\n",
      "      }\n",
      "    },\n",
      "    \"iron\": {\n",
      "      \"imu\": {\n",
      "        \"various\": {\n",
      "          \"url\": \"/data/sensor_data/chris.json\",\n",
      "          \"timestamp\": 1526948659.3241434,\n",
      "          \"c_time\": \"2018-05-21T17:24:19Z\",\n",
      "          \"type\": \"zip\"\n",
      "        }\n",
      "      }\n",
      "    }\n",
      "  }\n",
      "}\n"
     ]
    }
   ],
   "source": [
    "import json\n",
    "COMPILED_DATA = \"data/compiled.json\"\n",
    "save_jsonfile(COMPILED_DATA, compiled_data)\n",
    "print(json.dumps(compiled_data, indent=2))"
   ]
  },
  {
   "cell_type": "markdown",
   "metadata": {
    "collapsed": true
   },
   "source": [
    "### Copy to Rails App"
   ]
  },
  {
   "cell_type": "code",
   "execution_count": 227,
   "metadata": {
    "ExecuteTime": {
     "end_time": "2018-05-25T10:30:45.127029Z",
     "start_time": "2018-05-25T10:30:45.031453Z"
    },
    "collapsed": false
   },
   "outputs": [
    {
     "name": "stdout",
     "output_type": "stream",
     "text": [
      "start\n",
      "0\n",
      "end\n"
     ]
    }
   ],
   "source": [
    "#RUN BASH SCRIPT\n",
    "#DO NOT COPY LARGE VIDEO FILES\n",
    "import subprocess\n",
    "print(\"start\")\n",
    "output = subprocess.call(\"bash transfer.sh\", shell=True)\n",
    "a = subprocess.Popen(\"ls\",shell=True)\n",
    "print(output)\n",
    "print(\"end\")"
   ]
  },
  {
   "cell_type": "code",
   "execution_count": null,
   "metadata": {
    "collapsed": true
   },
   "outputs": [],
   "source": []
  },
  {
   "cell_type": "code",
   "execution_count": null,
   "metadata": {
    "collapsed": true
   },
   "outputs": [],
   "source": []
  },
  {
   "cell_type": "code",
   "execution_count": null,
   "metadata": {
    "collapsed": true
   },
   "outputs": [],
   "source": []
  },
  {
   "cell_type": "code",
   "execution_count": null,
   "metadata": {
    "collapsed": true
   },
   "outputs": [],
   "source": []
  },
  {
   "cell_type": "code",
   "execution_count": null,
   "metadata": {
    "collapsed": true
   },
   "outputs": [],
   "source": []
  }
 ],
 "metadata": {
  "kernelspec": {
   "display_name": "Python 3",
   "language": "python",
   "name": "python3"
  },
  "language_info": {
   "codemirror_mode": {
    "name": "ipython",
    "version": 3
   },
   "file_extension": ".py",
   "mimetype": "text/x-python",
   "name": "python",
   "nbconvert_exporter": "python",
   "pygments_lexer": "ipython3",
   "version": "3.6.0"
  },
  "toc": {
   "base_numbering": 1,
   "nav_menu": {},
   "number_sections": true,
   "sideBar": true,
   "skip_h1_title": false,
   "title_cell": "Table of Contents",
   "title_sidebar": "Contents",
   "toc_cell": false,
   "toc_position": {},
   "toc_section_display": true,
   "toc_window_display": false
  }
 },
 "nbformat": 4,
 "nbformat_minor": 2
}
