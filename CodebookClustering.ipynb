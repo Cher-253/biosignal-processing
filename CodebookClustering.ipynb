{
 "cells": [
  {
   "cell_type": "markdown",
   "metadata": {
    "ExecuteTime": {
     "end_time": "2018-05-28T16:56:20.991997Z",
     "start_time": "2018-05-28T16:56:20.988968Z"
    }
   },
   "source": [
    "## IMPORTS & DRY CODE"
   ]
  },
  {
   "cell_type": "markdown",
   "metadata": {},
   "source": [
    "# LOAD DATA INTO MEMORY"
   ]
  },
  {
   "cell_type": "code",
   "execution_count": 65,
   "metadata": {
    "ExecuteTime": {
     "end_time": "2018-08-22T20:47:34.039520Z",
     "start_time": "2018-08-22T20:47:33.963691Z"
    },
    "collapsed": false
   },
   "outputs": [],
   "source": [
    "# RUN ONCE, REST OF CODE SHOULD WORK\n",
    "%matplotlib inline\n",
    "from matplotlib import pyplot as plt\n",
    "\n",
    "import scipy\n",
    "from scipy import ndimage, signal\n",
    "\n",
    "import scipy.spatial.distance as distance\n",
    "from scipy.spatial.distance import euclidean,pdist, squareform, cdist\n",
    "from scipy.cluster.hierarchy import dendrogram, linkage, fcluster\n",
    "\n",
    "import numpy as np\n",
    "from numpy.lib.stride_tricks import as_strided\n",
    "np.set_printoptions(precision=5, suppress=True)  # suppress scientific float notation\n",
    "\n",
    "import pandas as pd\n",
    "import glob, os, json, platform, cvxopt\n",
    "\n",
    "import cvxEDA as eda\n",
    "import pylab as pl\n",
    "\n",
    "from pprint import pprint\n",
    "\n",
    "def save_jsonfile(fn, data):\n",
    "    file = fn\n",
    "    with open(file, 'w') as outfile:\n",
    "        json.dump(data, outfile)\n",
    "    print(\"File saved!\", file)\n",
    "    \n",
    "def fancy_dendrogram(*args, **kwargs):\n",
    "    max_d = kwargs.pop('max_d', None)\n",
    "    if max_d and 'color_threshold' not in kwargs:\n",
    "        kwargs['color_threshold'] = max_d\n",
    "    annotate_above = kwargs.pop('annotate_above', 0)\n",
    "\n",
    "    ddata = dendrogram(*args, **kwargs)\n",
    "\n",
    "    if not kwargs.get('no_plot', False):\n",
    "        plt.title('Hierarchical Clustering Dendrogram (truncated)')\n",
    "        plt.xlabel('sample index or (cluster size)')\n",
    "        plt.ylabel('distance')\n",
    "        for i, d, c in zip(ddata['icoord'], ddata['dcoord'], ddata['color_list']):\n",
    "            x = 0.5 * sum(i[1:3])\n",
    "            y = d[1]\n",
    "            if y > annotate_above:\n",
    "                plt.plot(x, y, 'o', c=c)\n",
    "                plt.annotate(\"%.3g\" % y, (x, y), xytext=(0, -5),\n",
    "                             textcoords='offset points',\n",
    "                             va='top', ha='center')\n",
    "        if max_d:\n",
    "            plt.axhline(y=max_d, c='k')\n",
    "    return ddata\n",
    "\n",
    "# DISTANCE METRICS\n",
    "# Similarity Distance\n",
    "def EuclideanDistance(t1, t2):\n",
    "    return np.sqrt(np.sum((t1-t2)**2))\n",
    "\n",
    "# Dynamic Time Warping Distance\n",
    "def DTWDistance(s1, s2):\n",
    "    # Initialize distance matrix (nxn), pad filling with inf  \n",
    "    DTW= {}\n",
    "    n1 = range(len(s1))\n",
    "    n2 = range(len(s2))\n",
    "    for i in n1:\n",
    "        DTW[(i, -1)] = float('inf')\n",
    "    for i in n2:\n",
    "        DTW[(-1, i)] = float('inf')\n",
    "    DTW[(-1, -1)] = 0\n",
    "    \n",
    "    # Compute the distances (O(nm) time)\n",
    "    for i in n1:\n",
    "        for j in n2:\n",
    "            dist = (s1[i]-s2[j])**2\n",
    "            DTW[(i, j)] = dist + min(DTW[(i-1, j)], DTW[(i, j-1)], DTW[(i-1, j-1)])\n",
    "    return np.sqrt(DTW[len(s1)-1, len(s2)-1])\n",
    "\n",
    "def subsequences(arr, L):\n",
    "    n = arr.size - (L -1)\n",
    "    s = arr.itemsize\n",
    "    return as_strided(arr, shape=(n,L), strides=(s,s))\n"
   ]
  },
  {
   "cell_type": "code",
   "execution_count": 66,
   "metadata": {
    "ExecuteTime": {
     "end_time": "2018-08-22T20:47:34.659910Z",
     "start_time": "2018-08-22T20:47:34.518902Z"
    },
    "collapsed": false
   },
   "outputs": [],
   "source": [
    "# %load cvxEDA.py\n",
    "\"\"\"\n",
    "______________________________________________________________________________\n",
    "\n",
    " File:                         cvxEDA.py\n",
    " Last revised:                 07 Nov 2015 r69\n",
    " ______________________________________________________________________________\n",
    "\n",
    " Copyright (C) 2014-2015 Luca Citi, Alberto Greco\n",
    " \n",
    " This program is free software; you can redistribute it and/or modify it under\n",
    " the terms of the GNU General Public License as published by the Free Software\n",
    " Foundation; either version 3 of the License, or (at your option) any later\n",
    " version.\n",
    " \n",
    " This program is distributed in the hope that it will be useful, but WITHOUT\n",
    " ANY WARRANTY; without even the implied warranty of MERCHANTABILITY or FITNESS\n",
    " FOR A PARTICULAR PURPOSE. See the GNU General Public License for more details.\n",
    " \n",
    " You may contact the author by e-mail (lciti@ieee.org).\n",
    " ______________________________________________________________________________\n",
    "\n",
    " This method was first proposed in:\n",
    " A Greco, G Valenza, A Lanata, EP Scilingo, and L Citi\n",
    " \"cvxEDA: a Convex Optimization Approach to Electrodermal Activity Processing\"\n",
    " IEEE Transactions on Biomedical Engineering, 2015\n",
    " DOI: 10.1109/TBME.2015.2474131\n",
    "\n",
    " If you use this program in support of published research, please include a\n",
    " citation of the reference above. If you use this code in a software package,\n",
    " please explicitly inform the end users of this copyright notice and ask them\n",
    " to cite the reference above in their published research.\n",
    " ______________________________________________________________________________\n",
    "\"\"\"\n",
    "\n",
    "import numpy as np\n",
    "import cvxopt as cv\n",
    "import cvxopt.solvers\n",
    "\n",
    "def cvxEDA(y, delta, tau0=2., tau1=0.7, delta_knot=10., alpha=8e-4, gamma=1e-2,\n",
    "           solver=None, options={'reltol':1e-9}):\n",
    "    \"\"\"CVXEDA Convex optimization approach to electrodermal activity processing\n",
    "\n",
    "    This function implements the cvxEDA algorithm described in \"cvxEDA: a\n",
    "    Convex Optimization Approach to Electrodermal Activity Processing\"\n",
    "    (http://dx.doi.org/10.1109/TBME.2015.2474131, also available from the\n",
    "    authors' homepages).\n",
    "\n",
    "    Arguments:\n",
    "       y: observed EDA signal (we recommend normalizing it: y = zscore(y))\n",
    "       delta: sampling interval (in seconds) of y\n",
    "       tau0: slow time constant of the Bateman function\n",
    "       tau1: fast time constant of the Bateman function\n",
    "       delta_knot: time between knots of the tonic spline function\n",
    "       alpha: penalization for the sparse SMNA driver\n",
    "       gamma: penalization for the tonic spline coefficients\n",
    "       solver: sparse QP solver to be used, see cvxopt.solvers.qp\n",
    "       options: solver options, see:\n",
    "                http://cvxopt.org/userguide/coneprog.html#algorithm-parameters\n",
    "\n",
    "    Returns (see paper for details):\n",
    "       r: phasic component\n",
    "       p: sparse SMNA driver of phasic component\n",
    "       t: tonic component\n",
    "       l: coefficients of tonic spline\n",
    "       d: offset and slope of the linear drift term\n",
    "       e: model residuals\n",
    "       obj: value of objective function being minimized (eq 15 of paper)\n",
    "    \"\"\"\n",
    "\n",
    "    n = len(y)\n",
    "    y = cv.matrix(y)\n",
    "\n",
    "    # bateman ARMA model\n",
    "    a1 = 1./min(tau1, tau0) # a1 > a0\n",
    "    a0 = 1./max(tau1, tau0)\n",
    "    ar = np.array([(a1*delta + 2.) * (a0*delta + 2.), 2.*a1*a0*delta**2 - 8.,\n",
    "        (a1*delta - 2.) * (a0*delta - 2.)]) / ((a1 - a0) * delta**2)\n",
    "    ma = np.array([1., 2., 1.])\n",
    "\n",
    "    # matrices for ARMA model\n",
    "    i = np.arange(2, n)\n",
    "    A = cv.spmatrix(np.tile(ar, (n-2,1)), np.c_[i,i,i], np.c_[i,i-1,i-2], (n,n))\n",
    "    M = cv.spmatrix(np.tile(ma, (n-2,1)), np.c_[i,i,i], np.c_[i,i-1,i-2], (n,n))\n",
    "\n",
    "    # spline\n",
    "    delta_knot_s = int(round(delta_knot / delta))\n",
    "    spl = np.r_[np.arange(1.,delta_knot_s), np.arange(delta_knot_s, 0., -1.)] # order 1\n",
    "    spl = np.convolve(spl, spl, 'full')\n",
    "    spl /= max(spl)\n",
    "    # matrix of spline regressors\n",
    "    i = np.c_[np.arange(-(len(spl)//2), (len(spl)+1)//2)] + np.r_[np.arange(0, n, delta_knot_s)]\n",
    "    nB = i.shape[1]\n",
    "    j = np.tile(np.arange(nB), (len(spl),1))\n",
    "    p = np.tile(spl, (nB,1)).T\n",
    "    valid = (i >= 0) & (i < n)\n",
    "    B = cv.spmatrix(p[valid], i[valid], j[valid])\n",
    "\n",
    "    # trend\n",
    "    C = cv.matrix(np.c_[np.ones(n), np.arange(1., n+1.)/n])\n",
    "    nC = C.size[1]\n",
    "\n",
    "    # Solve the problem:\n",
    "    # .5*(M*q + B*l + C*d - y)^2 + alpha*sum(A,1)*p + .5*gamma*l'*l\n",
    "    # s.t. A*q >= 0\n",
    "\n",
    "    old_options = cv.solvers.options.copy()\n",
    "    cv.solvers.options.clear()\n",
    "    cv.solvers.options.update(options)\n",
    "    if solver == 'conelp':\n",
    "        # Use conelp\n",
    "        z = lambda m,n: cv.spmatrix([],[],[],(m,n))\n",
    "        G = cv.sparse([[-A,z(2,n),M,z(nB+2,n)],[z(n+2,nC),C,z(nB+2,nC)],\n",
    "                    [z(n,1),-1,1,z(n+nB+2,1)],[z(2*n+2,1),-1,1,z(nB,1)],\n",
    "                    [z(n+2,nB),B,z(2,nB),cv.spmatrix(1.0, range(nB), range(nB))]])\n",
    "        h = cv.matrix([z(n,1),.5,.5,y,.5,.5,z(nB,1)])\n",
    "        c = cv.matrix([(cv.matrix(alpha, (1,n)) * A).T,z(nC,1),1,gamma,z(nB,1)])\n",
    "        res = cv.solvers.conelp(c, G, h, dims={'l':n,'q':[n+2,nB+2],'s':[]})\n",
    "        obj = res['primal objective']\n",
    "    else:\n",
    "        # Use qp\n",
    "        Mt, Ct, Bt = M.T, C.T, B.T\n",
    "        H = cv.sparse([[Mt*M, Ct*M, Bt*M], [Mt*C, Ct*C, Bt*C], \n",
    "                    [Mt*B, Ct*B, Bt*B+gamma*cv.spmatrix(1.0, range(nB), range(nB))]])\n",
    "        f = cv.matrix([(cv.matrix(alpha, (1,n)) * A).T - Mt*y,  -(Ct*y), -(Bt*y)])\n",
    "        res = cv.solvers.qp(H, f, cv.spmatrix(-A.V, A.I, A.J, (n,len(f))),\n",
    "                            cv.matrix(0., (n,1)), solver=solver)\n",
    "        obj = res['primal objective'] + .5 * (y.T * y)\n",
    "    cv.solvers.options.clear()\n",
    "    cv.solvers.options.update(old_options)\n",
    "\n",
    "    l = res['x'][-nB:]\n",
    "    d = res['x'][n:n+nC]\n",
    "    t = B*l + C*d\n",
    "    q = res['x'][:n]\n",
    "    p = A * q\n",
    "    r = M * q\n",
    "    e = y - r - t\n",
    "\n",
    "    return (np.array(a).ravel() for a in (r, p, t, l, d, e, obj))\n"
   ]
  },
  {
   "cell_type": "code",
   "execution_count": 82,
   "metadata": {
    "ExecuteTime": {
     "end_time": "2018-08-22T20:54:16.521927Z",
     "start_time": "2018-08-22T20:54:16.236941Z"
    },
    "collapsed": false
   },
   "outputs": [
    {
     "data": {
      "image/png": "[encoded data removed]",
      "text/plain": [
       "<matplotlib.figure.Figure at 0x115380828>"
      ]
     },
     "metadata": {},
     "output_type": "display_data"
    },
    {
     "name": "stdout",
     "output_type": "stream",
     "text": [
      "[array([ 0.     ,  0.83276,  1.17639, ...,  0.33472,  0.11685,  0.11173]), array([ 0.     ,  0.30366,  0.37413, ...,  0.56786,  0.6063 ,  0.61014]), array([ 0.     ,  0.83276,  1.10208, ...,  5.70156,  5.30055,  5.02125]), array([ 0.     ,  0.83276,  1.17767, ...,  0.21551,  0.23088,  0.23216]), array([ 0.     ,  0.17554,  0.21654, ...,  0.45487,  0.45487,  0.45359]), array([ 0.     ,  0.23319,  0.30238, ...,  0.76389,  0.78568,  0.79208])]\n"
     ]
    }
   ],
   "source": [
    "# Graph should look like: \n",
    "# x-axis: time, starting from 0, increment by 4. Range is [0, size of data array/4]\n",
    "# y-axis: the data (would be a lot better cropped according to the videos); \n",
    "\n",
    "DATA_DIRECTORY = \"data\"\n",
    "PROCESS_PREFIX = \"EDA*\"\n",
    "files = glob.glob(\"/\".join([DATA_DIRECTORY, PROCESS_PREFIX]))\n",
    "\n",
    "manifest = []\n",
    "\n",
    "pos = 0\n",
    "for path in files:\n",
    "    k = pos/len(files)\n",
    "    pos = pos + 1\n",
    "    \n",
    "    name = os.path.basename(path)\n",
    "    f = open(path)\n",
    "    data = json.load(f)[\"data\"]\n",
    "    f.close()\n",
    "    \n",
    "    array_size = len(data)\n",
    "    y = [float(i) for i in data]\n",
    "    y = np.array(y)\n",
    "    \n",
    "    manifest.append(y)\n",
    "    plt.plot(y, color=plt.cm.Greys(k), lw=1)\n",
    "    \n",
    "# TOGGLE TO VIEW RAW DATA\n",
    "plt.show()\n",
    "# plt.close()\n",
    "print(manifest)"
   ]
  },
  {
   "cell_type": "code",
   "execution_count": 88,
   "metadata": {
    "ExecuteTime": {
     "end_time": "2018-08-22T20:55:21.796624Z",
     "start_time": "2018-08-22T20:55:21.289836Z"
    },
    "collapsed": false
   },
   "outputs": [
    {
     "name": "stdout",
     "output_type": "stream",
     "text": [
      "     pcost       dcost       gap    pres   dres\n",
      " 0: -3.0242e+03 -2.9651e+03  1e+04  1e+02  5e-01\n",
      " 1: -3.0589e+03 -4.9583e+03  2e+03  2e+01  7e-02\n",
      " 2: -3.0882e+03 -3.8396e+03  8e+02  6e+00  2e-02\n",
      " 3: -3.0992e+03 -3.4110e+03  3e+02  2e+00  7e-03\n",
      " 4: -3.1027e+03 -3.2348e+03  1e+02  6e-01  2e-03\n",
      " 5: -3.1049e+03 -3.1521e+03  5e+01  2e-01  7e-04\n",
      " 6: -3.1087e+03 -3.1199e+03  1e+01  2e-02  8e-05\n",
      " 7: -3.1121e+03 -3.1162e+03  4e+00  6e-03  2e-05\n",
      " 8: -3.1136e+03 -3.1150e+03  1e+00  1e-03  4e-06\n",
      " 9: -3.1141e+03 -3.1147e+03  6e-01  3e-04  9e-07\n",
      "10: -3.1143e+03 -3.1145e+03  2e-01  4e-05  1e-07\n",
      "11: -3.1144e+03 -3.1144e+03  5e-02  6e-06  2e-08\n",
      "12: -3.1144e+03 -3.1144e+03  1e-02  9e-07  3e-09\n",
      "13: -3.1144e+03 -3.1144e+03  3e-03  2e-07  6e-10\n",
      "14: -3.1144e+03 -3.1144e+03  7e-04  3e-08  1e-10\n",
      "15: -3.1144e+03 -3.1144e+03  1e-04  3e-09  1e-11\n",
      "16: -3.1144e+03 -3.1144e+03  3e-05  4e-10  1e-12\n",
      "17: -3.1144e+03 -3.1144e+03  3e-06  4e-11  2e-13\n",
      "18: -3.1144e+03 -3.1144e+03  1e-07  1e-12  5e-14\n",
      "Optimal solution found.\n"
     ]
    },
    {
     "data": {
      "image/png": "[encoded data removed]",
      "text/plain": [
       "<matplotlib.figure.Figure at 0x1154387f0>"
      ]
     },
     "metadata": {},
     "output_type": "display_data"
    }
   ],
   "source": [
    "# EDA ANALYSIS\n",
    "# r: phasic component\n",
    "# p: sparse SMNA driver of phasic component\n",
    "# t: tonic component\n",
    "# l: coefficients of tonic spline\n",
    "# d: offset and slope of the linear drift term\n",
    "# e: model residuals\n",
    "# obj: value of objective function being minimized (eq 15 of paper)\n",
    "\n",
    "y = manifest[0]\n",
    "yn = (y - y.mean()) / y.std()\n",
    "Fs = 3.\n",
    "\n",
    "\n",
    "[r, p, t, l, d, e, obj] = eda.cvxEDA(yn, 1./Fs)\n",
    "\n",
    "tm = pl.arange(1., len(y)+1.) / Fs\n",
    "# pl.hold(True)\n",
    "# pl.plot(tm, yn)\n",
    "pl.plot(tm, p)\n",
    "pl.plot(tm, r, 'r')\n",
    "\n",
    "\n",
    "pl.show()"
   ]
  },
  {
   "cell_type": "markdown",
   "metadata": {
    "heading_collapsed": true
   },
   "source": [
    "## PROCESS DATA"
   ]
  },
  {
   "cell_type": "code",
   "execution_count": 39,
   "metadata": {
    "ExecuteTime": {
     "end_time": "2018-08-22T17:18:12.435388Z",
     "start_time": "2018-08-22T17:18:12.407531Z"
    },
    "collapsed": false,
    "hidden": true
   },
   "outputs": [
    {
     "ename": "TypeError",
     "evalue": "only integer arrays with one element can be converted to an index",
     "output_type": "error",
     "traceback": [
      "\u001b[0;31m---------------------------------------------------------------------------\u001b[0m",
      "\u001b[0;31mTypeError\u001b[0m                                 Traceback (most recent call last)",
      "\u001b[0;32m<ipython-input-39-15a0f709c4f1>\u001b[0m in \u001b[0;36m<module>\u001b[0;34m()\u001b[0m\n\u001b[1;32m      1\u001b[0m \u001b[0mpos\u001b[0m \u001b[0;34m=\u001b[0m \u001b[0;36m0\u001b[0m\u001b[0;34m\u001b[0m\u001b[0m\n\u001b[1;32m      2\u001b[0m \u001b[0;32mfor\u001b[0m \u001b[0mi\u001b[0m \u001b[0;32min\u001b[0m \u001b[0mmanifest\u001b[0m\u001b[0;34m:\u001b[0m\u001b[0;34m\u001b[0m\u001b[0m\n\u001b[0;32m----> 3\u001b[0;31m     \u001b[0mpt\u001b[0m \u001b[0;34m=\u001b[0m \u001b[0mmanifest\u001b[0m\u001b[0;34m[\u001b[0m\u001b[0mi\u001b[0m\u001b[0;34m]\u001b[0m\u001b[0;34m\u001b[0m\u001b[0m\n\u001b[0m\u001b[1;32m      4\u001b[0m     \u001b[0mk\u001b[0m \u001b[0;34m=\u001b[0m \u001b[0mpos\u001b[0m\u001b[0;34m/\u001b[0m\u001b[0mlen\u001b[0m\u001b[0;34m(\u001b[0m\u001b[0mfiles\u001b[0m\u001b[0;34m)\u001b[0m\u001b[0;34m\u001b[0m\u001b[0m\n\u001b[1;32m      5\u001b[0m     \u001b[0mpos\u001b[0m \u001b[0;34m=\u001b[0m \u001b[0mpos\u001b[0m \u001b[0;34m+\u001b[0m \u001b[0;36m1\u001b[0m\u001b[0;34m\u001b[0m\u001b[0m\n",
      "\u001b[0;31mTypeError\u001b[0m: only integer arrays with one element can be converted to an index"
     ]
    }
   ],
   "source": [
    "pos = 0\n",
    "for i in manifest:\n",
    "    pt = manifest[i]\n",
    "    k = pos/len(files)\n",
    "    pos = pos + 1\n",
    "    \n",
    "    \n",
    "    manifest[i][\"y_gauss\"] = y_gauss\n",
    "    \n",
    "    maximum = np.max(y_gauss)\n",
    "\n",
    "    \n",
    "\n",
    "# for key in smoothed:\n",
    "#     values = smoothed[key]\n",
    "#     minimum = min(values)\n",
    "#     maximum = max(values)\n",
    "#     ran = maximum - minimum\n",
    "#     for i in range(len(values)):\n",
    "#         values[i] = (values[i] - minimum) / ran\n",
    "        \n",
    "# save_jsonfile(\"data/normalized_EDA.json\", smoothed)\n",
    "\n",
    "# # Detrend the data \n",
    "# f = open(\"data/normalized_EDA.json\")\n",
    "# normalized = json.load(f)\n",
    "# f.close\n",
    "\n",
    "# for key in normalized:\n",
    "#     values = normalized[key]\n",
    "#     values = signal.detrend(values)\n",
    "\n",
    "# save_jsonfile(\"data/detrended_EDA.json\", normalized)\n",
    "    \n",
    "# # plot the smoothed, normalized, detrended data\n",
    "# f = open(\"data/detrended_EDA.json\")\n",
    "# detrended = json.load(f)\n",
    "# f.close\n",
    "\n",
    "# for key in detrended:\n",
    "#     values = detrended[key]\n",
    "#     # Artificial time array\n",
    "#     array_size = len(values)\n",
    "#     t = [int(x/4) for x in range(array_size)]\n",
    "#     plt.plot(t, values, 'g-', lw=1)\n",
    "\n",
    "\n",
    "\n",
    "# # Artificial time array\n",
    "# array_size = len(data)\n",
    "# print(array_size)\n",
    "# t = [int(x/4) for x in range(array_size)]\n",
    "\n",
    "# # Convert string elements in data into floats\n",
    "# y = [float(i) for i in data]\n",
    "\n",
    "# # Plot\n",
    "# plt.plot(t, y, 'g-', lw=1)\n",
    "# # Play around with the second parameter to increase smoothing of the curve\n",
    "# y_gauss = scipy.ndimage.filters.gaussian_filter1d(y, 99.0, axis=-1, order=0, output=None, mode='reflect', cval=0.0, truncate=4.0)\n",
    "# plt.plot(t, y_gauss, 'b-', lw=2)\n",
    "# print(max(y_gauss))\n",
    "# y_gauss = y"
   ]
  },
  {
   "cell_type": "code",
   "execution_count": 6,
   "metadata": {
    "ExecuteTime": {
     "end_time": "2018-05-28T15:50:53.475692Z",
     "start_time": "2018-05-28T15:50:53.206657Z"
    },
    "collapsed": false,
    "hidden": true
   },
   "outputs": [
    {
     "ename": "TypeError",
     "evalue": "list indices must be integers or slices, not str",
     "output_type": "error",
     "traceback": [
      "\u001b[0;31m---------------------------------------------------------------------------\u001b[0m",
      "\u001b[0;31mTypeError\u001b[0m                                 Traceback (most recent call last)",
      "\u001b[0;32m<ipython-input-6-f55588eb9f34>\u001b[0m in \u001b[0;36m<module>\u001b[0;34m()\u001b[0m\n\u001b[1;32m      5\u001b[0m \u001b[0;32mimport\u001b[0m \u001b[0mmatplotlib\u001b[0m\u001b[0;34m.\u001b[0m\u001b[0mpyplot\u001b[0m \u001b[0;32mas\u001b[0m \u001b[0mplt\u001b[0m\u001b[0;34m\u001b[0m\u001b[0m\n\u001b[1;32m      6\u001b[0m \u001b[0;34m\u001b[0m\u001b[0m\n\u001b[0;32m----> 7\u001b[0;31m \u001b[0mt\u001b[0m \u001b[0;34m=\u001b[0m \u001b[0mdata\u001b[0m\u001b[0;34m[\u001b[0m\u001b[0;34m'time'\u001b[0m\u001b[0;34m]\u001b[0m\u001b[0;34m\u001b[0m\u001b[0m\n\u001b[0m\u001b[1;32m      8\u001b[0m \u001b[0my\u001b[0m \u001b[0;34m=\u001b[0m \u001b[0mdata\u001b[0m\u001b[0;34m[\u001b[0m\u001b[0;34m'data'\u001b[0m\u001b[0;34m]\u001b[0m\u001b[0;34m[\u001b[0m\u001b[0;36m0\u001b[0m\u001b[0;34m]\u001b[0m\u001b[0;34m\u001b[0m\u001b[0m\n\u001b[1;32m      9\u001b[0m \u001b[0mplt\u001b[0m\u001b[0;34m.\u001b[0m\u001b[0mplot\u001b[0m\u001b[0;34m(\u001b[0m\u001b[0mt\u001b[0m\u001b[0;34m,\u001b[0m \u001b[0my\u001b[0m\u001b[0;34m,\u001b[0m \u001b[0;34m'g-'\u001b[0m\u001b[0;34m,\u001b[0m \u001b[0mlw\u001b[0m\u001b[0;34m=\u001b[0m\u001b[0;36m1\u001b[0m\u001b[0;34m)\u001b[0m\u001b[0;34m\u001b[0m\u001b[0m\n",
      "\u001b[0;31mTypeError\u001b[0m: list indices must be integers or slices, not str"
     ]
    }
   ],
   "source": [
    "t = data['time']\n",
    "y = data['data'][0]\n",
    "plt.plot(t, y, 'g-', lw=1)\n",
    "y_gauss = scipy.ndimage.filters.gaussian_filter1d(y, 3.0, axis=-1, order=0, output=None, mode='reflect', cval=0.0, truncate=4.0)\n",
    "plt.plot(t, y_gauss, 'b-', lw=2)\n",
    "y_gauss = y"
   ]
  },
  {
   "cell_type": "markdown",
   "metadata": {},
   "source": [
    "## K-center clustering"
   ]
  },
  {
   "cell_type": "code",
   "execution_count": 25,
   "metadata": {
    "collapsed": false
   },
   "outputs": [
    {
     "name": "stdout",
     "output_type": "stream",
     "text": [
      "1 / 6 : 0 << (6231, 28)\n",
      "2 / 6 : 6231 << (3561, 28)\n",
      "3 / 6 : 9792 << (3015, 28)\n",
      "4 / 6 : 12807 << (1929, 28)\n",
      "5 / 6 : 14736 << (5391, 28)\n",
      "6 / 6 : 20127 << (3657, 28)\n",
      "[[0.23536 0.23538 0.2354  ... 0.23972 0.24007 0.24042]\n",
      " [0.23538 0.2354  0.23544 ... 0.24007 0.24042 0.24079]\n",
      " [0.2354  0.23544 0.2355  ... 0.24042 0.24079 0.24118]\n",
      " ...\n",
      " [0.98816 0.98894 0.9897  ... 0.99972 0.99983 0.99992]\n",
      " [0.98894 0.9897  0.99042 ... 0.99983 0.99992 0.99997]\n",
      " [0.9897  0.99042 0.99113 ... 0.99992 0.99997 1.     ]]\n"
     ]
    }
   ],
   "source": [
    "# Divide into sub-sections of 7 seconds\n",
    "SF = 4 # sampling frequency = 4 Hz\n",
    "L = 7 * SF \n",
    "TH = 0.3\n",
    "\n",
    "combined_ss = []\n",
    "for key in detrended:\n",
    "    data = np.array(detrended[key])\n",
    "    ss = subsequences(data, L)\n",
    "    print(key,\"/\",len(detrended), \":\", len(combined_ss), \"<<\", ss.shape)\n",
    "    combined_ss.extend(ss)\n",
    "final = np.matrix(combined_ss)\n",
    "print(final)\n",
    "dimension = final.shape"
   ]
  },
  {
   "cell_type": "code",
   "execution_count": 31,
   "metadata": {
    "collapsed": false
   },
   "outputs": [
    {
     "name": "stdout",
     "output_type": "stream",
     "text": [
      "0.7646372449657315\n",
      "CPU times: user 451 ms, sys: 191 ms, total: 642 ms\n",
      "Wall time: 741 ms\n"
     ]
    }
   ],
   "source": [
    "%%time\n",
    "arr = np.ones(dimension)\n",
    "k = []\n",
    "k.append(final[0])\n",
    "\n",
    "arr = np.multiply(arr, k[0])\n",
    "diff= np.subtract(final, arr)\n",
    "# print(k[0])\n",
    "most_diff = np.max([sum(sub) for sub in diff])\n",
    "print(most_diff)"
   ]
  },
  {
   "cell_type": "code",
   "execution_count": 63,
   "metadata": {
    "ExecuteTime": {
     "end_time": "2018-08-22T20:47:30.701235Z",
     "start_time": "2018-08-22T20:47:30.679163Z"
    },
    "collapsed": false
   },
   "outputs": [
    {
     "ename": "NameError",
     "evalue": "name 'combined_ss' is not defined",
     "output_type": "error",
     "traceback": [
      "\u001b[0;31m---------------------------------------------------------------------------\u001b[0m",
      "\u001b[0;31mNameError\u001b[0m                                 Traceback (most recent call last)",
      "\u001b[0;32m<ipython-input-63-10c5dca5a5ca>\u001b[0m in \u001b[0;36m<module>\u001b[0;34m()\u001b[0m\n\u001b[1;32m      7\u001b[0m \u001b[0;34m\u001b[0m\u001b[0m\n\u001b[1;32m      8\u001b[0m \u001b[0mdifferent\u001b[0m \u001b[0;34m=\u001b[0m \u001b[0;34m[\u001b[0m\u001b[0;34m]\u001b[0m\u001b[0;34m\u001b[0m\u001b[0m\n\u001b[0;32m----> 9\u001b[0;31m \u001b[0mdummy\u001b[0m \u001b[0;34m=\u001b[0m \u001b[0;34m[\u001b[0m\u001b[0mcombined_ss\u001b[0m\u001b[0;34m[\u001b[0m\u001b[0;36m0\u001b[0m\u001b[0;34m]\u001b[0m \u001b[0;32mfor\u001b[0m \u001b[0msubarray\u001b[0m \u001b[0;32min\u001b[0m \u001b[0mcombined_ss\u001b[0m\u001b[0;34m]\u001b[0m\u001b[0;34m\u001b[0m\u001b[0m\n\u001b[0m\u001b[1;32m     10\u001b[0m \u001b[0mdifferent\u001b[0m \u001b[0;34m=\u001b[0m \u001b[0;34m[\u001b[0m\u001b[0mDTWDistance\u001b[0m\u001b[0;34m(\u001b[0m\u001b[0mcombined_ss\u001b[0m\u001b[0;34m[\u001b[0m\u001b[0mi\u001b[0m\u001b[0;34m]\u001b[0m\u001b[0;34m,\u001b[0m \u001b[0mdummy\u001b[0m\u001b[0;34m[\u001b[0m\u001b[0mi\u001b[0m\u001b[0;34m]\u001b[0m\u001b[0;34m)\u001b[0m \u001b[0;32mfor\u001b[0m \u001b[0mi\u001b[0m \u001b[0;32min\u001b[0m \u001b[0mrange\u001b[0m\u001b[0;34m(\u001b[0m\u001b[0mlen\u001b[0m\u001b[0;34m(\u001b[0m\u001b[0mdummy\u001b[0m\u001b[0;34m)\u001b[0m \u001b[0;34m+\u001b[0m \u001b[0;36m1\u001b[0m\u001b[0;34m)\u001b[0m\u001b[0;34m]\u001b[0m\u001b[0;34m\u001b[0m\u001b[0m\n\u001b[1;32m     11\u001b[0m \u001b[0mmost_different\u001b[0m \u001b[0;34m=\u001b[0m \u001b[0mdifferent\u001b[0m\u001b[0;34m.\u001b[0m\u001b[0mindex\u001b[0m\u001b[0;34m(\u001b[0m\u001b[0mnp\u001b[0m\u001b[0;34m.\u001b[0m\u001b[0mmax\u001b[0m\u001b[0;34m(\u001b[0m\u001b[0mdifferent\u001b[0m\u001b[0;34m)\u001b[0m\u001b[0;34m)\u001b[0m\u001b[0;34m\u001b[0m\u001b[0m\n",
      "\u001b[0;31mNameError\u001b[0m: name 'combined_ss' is not defined"
     ]
    }
   ],
   "source": [
    "# Emily Clustering Playground\n",
    "\n",
    "# To find the most different one:\n",
    "# fill another array with all the subarrays of array[0]\n",
    "# subtract two arrays\n",
    "# and np.max() to find the most different one\n",
    "\n",
    "different = []\n",
    "dummy = [combined_ss[0] for subarray in combined_ss]\n",
    "different = [DTWDistance(combined_ss[i], dummy[i]) for i in range(len(dummy) + 1)]\n",
    "most_different = different.index(np.max(different))\n",
    "print(most_different)"
   ]
  },
  {
   "cell_type": "code",
   "execution_count": 64,
   "metadata": {
    "ExecuteTime": {
     "end_time": "2018-08-22T20:47:31.199009Z",
     "start_time": "2018-08-22T20:47:31.186904Z"
    },
    "collapsed": false
   },
   "outputs": [
    {
     "ename": "NameError",
     "evalue": "name 'combined_ss' is not defined",
     "output_type": "error",
     "traceback": [
      "\u001b[0;31m---------------------------------------------------------------------------\u001b[0m",
      "\u001b[0;31mNameError\u001b[0m                                 Traceback (most recent call last)",
      "\u001b[0;32m<ipython-input-64-9dceea17dca2>\u001b[0m in \u001b[0;36m<module>\u001b[0;34m()\u001b[0m\n\u001b[1;32m      1\u001b[0m \u001b[0;31m# small = np.ones((1000000, 28))\u001b[0m\u001b[0;34m\u001b[0m\u001b[0;34m\u001b[0m\u001b[0m\n\u001b[0;32m----> 2\u001b[0;31m \u001b[0msmall\u001b[0m \u001b[0;34m=\u001b[0m \u001b[0mcombined_ss\u001b[0m\u001b[0;34m\u001b[0m\u001b[0m\n\u001b[0m\u001b[1;32m      3\u001b[0m \u001b[0marr\u001b[0m \u001b[0;34m=\u001b[0m \u001b[0mnp\u001b[0m\u001b[0;34m.\u001b[0m\u001b[0mones\u001b[0m\u001b[0;34m(\u001b[0m\u001b[0;34m(\u001b[0m\u001b[0mlen\u001b[0m\u001b[0;34m(\u001b[0m\u001b[0msmall\u001b[0m\u001b[0;34m)\u001b[0m\u001b[0;34m,\u001b[0m \u001b[0;36m28\u001b[0m\u001b[0;34m)\u001b[0m\u001b[0;34m)\u001b[0m\u001b[0;34m\u001b[0m\u001b[0m\n\u001b[1;32m      4\u001b[0m \u001b[0mk\u001b[0m \u001b[0;34m=\u001b[0m \u001b[0;34m[\u001b[0m\u001b[0;34m]\u001b[0m\u001b[0;34m\u001b[0m\u001b[0m\n\u001b[1;32m      5\u001b[0m \u001b[0mk\u001b[0m\u001b[0;34m.\u001b[0m\u001b[0mappend\u001b[0m\u001b[0;34m(\u001b[0m\u001b[0msmall\u001b[0m\u001b[0;34m[\u001b[0m\u001b[0;36m0\u001b[0m\u001b[0;34m]\u001b[0m\u001b[0;34m)\u001b[0m\u001b[0;34m\u001b[0m\u001b[0m\n",
      "\u001b[0;31mNameError\u001b[0m: name 'combined_ss' is not defined"
     ]
    }
   ],
   "source": [
    "# small = np.ones((1000000, 28))\n",
    "small = combined_ss\n",
    "arr = np.ones((len(small), 28))\n",
    "k = []\n",
    "k.append(small[0])\n",
    "\n",
    "arr = np.multiply(arr, k[0])\n",
    "diff= np.subtract(arr, small)\n",
    "# print(k[0])\n",
    "print(diff)"
   ]
  },
  {
   "cell_type": "code",
   "execution_count": 9,
   "metadata": {
    "collapsed": false
   },
   "outputs": [
    {
     "ename": "KeyboardInterrupt",
     "evalue": "",
     "output_type": "error",
     "traceback": [
      "\u001b[0;31m---------------------------------------------------------------------------\u001b[0m",
      "\u001b[0;31mKeyboardInterrupt\u001b[0m                         Traceback (most recent call last)",
      "\u001b[0;32m<ipython-input-9-ae2e2f8e7967>\u001b[0m in \u001b[0;36m<module>\u001b[0;34m()\u001b[0m\n\u001b[1;32m     59\u001b[0m         \u001b[0mj\u001b[0m \u001b[0;34m+=\u001b[0m \u001b[0;36m1\u001b[0m\u001b[0;34m\u001b[0m\u001b[0m\n\u001b[1;32m     60\u001b[0m \u001b[0;34m\u001b[0m\u001b[0m\n\u001b[0;32m---> 61\u001b[0;31m \u001b[0mexamplek\u001b[0m\u001b[0;34m(\u001b[0m\u001b[0;36m0\u001b[0m\u001b[0;34m)\u001b[0m\u001b[0;34m\u001b[0m\u001b[0m\n\u001b[0m\u001b[1;32m     62\u001b[0m \u001b[0;34m\u001b[0m\u001b[0m\n\u001b[1;32m     63\u001b[0m \u001b[0;34m\u001b[0m\u001b[0m\n",
      "\u001b[0;32m<ipython-input-9-ae2e2f8e7967>\u001b[0m in \u001b[0;36mexamplek\u001b[0;34m(i)\u001b[0m\n\u001b[1;32m     56\u001b[0m             \u001b[0mnext_array\u001b[0m \u001b[0;34m=\u001b[0m \u001b[0mcombined_ss\u001b[0m\u001b[0;34m[\u001b[0m\u001b[0mj\u001b[0m\u001b[0;34m]\u001b[0m\u001b[0;34m\u001b[0m\u001b[0m\n\u001b[1;32m     57\u001b[0m         \u001b[0;32mif\u001b[0m \u001b[0mdifference\u001b[0m \u001b[0;34m<\u001b[0m \u001b[0;36m0.3\u001b[0m\u001b[0;34m:\u001b[0m\u001b[0;34m\u001b[0m\u001b[0m\n\u001b[0;32m---> 58\u001b[0;31m             \u001b[0mremovearray\u001b[0m\u001b[0;34m(\u001b[0m\u001b[0mcombined_ss\u001b[0m\u001b[0;34m,\u001b[0m \u001b[0mcombined_ss\u001b[0m\u001b[0;34m[\u001b[0m\u001b[0mj\u001b[0m\u001b[0;34m]\u001b[0m\u001b[0;34m)\u001b[0m\u001b[0;34m\u001b[0m\u001b[0m\n\u001b[0m\u001b[1;32m     59\u001b[0m         \u001b[0mj\u001b[0m \u001b[0;34m+=\u001b[0m \u001b[0;36m1\u001b[0m\u001b[0;34m\u001b[0m\u001b[0m\n\u001b[1;32m     60\u001b[0m \u001b[0;34m\u001b[0m\u001b[0m\n",
      "\u001b[0;32m<ipython-input-9-ae2e2f8e7967>\u001b[0m in \u001b[0;36mremovearray\u001b[0;34m(L, arr)\u001b[0m\n\u001b[1;32m     22\u001b[0m     \u001b[0mind\u001b[0m \u001b[0;34m=\u001b[0m \u001b[0;36m0\u001b[0m\u001b[0;34m\u001b[0m\u001b[0m\n\u001b[1;32m     23\u001b[0m     \u001b[0msize\u001b[0m \u001b[0;34m=\u001b[0m \u001b[0mlen\u001b[0m\u001b[0;34m(\u001b[0m\u001b[0mL\u001b[0m\u001b[0;34m)\u001b[0m\u001b[0;34m\u001b[0m\u001b[0m\n\u001b[0;32m---> 24\u001b[0;31m     \u001b[0;32mwhile\u001b[0m \u001b[0mind\u001b[0m \u001b[0;34m!=\u001b[0m \u001b[0msize\u001b[0m \u001b[0;32mand\u001b[0m \u001b[0;32mnot\u001b[0m \u001b[0mnp\u001b[0m\u001b[0;34m.\u001b[0m\u001b[0marray_equal\u001b[0m\u001b[0;34m(\u001b[0m\u001b[0mL\u001b[0m\u001b[0;34m[\u001b[0m\u001b[0mind\u001b[0m\u001b[0;34m]\u001b[0m\u001b[0;34m,\u001b[0m\u001b[0marr\u001b[0m\u001b[0;34m)\u001b[0m\u001b[0;34m:\u001b[0m\u001b[0;34m\u001b[0m\u001b[0m\n\u001b[0m\u001b[1;32m     25\u001b[0m         \u001b[0mind\u001b[0m \u001b[0;34m+=\u001b[0m \u001b[0;36m1\u001b[0m\u001b[0;34m\u001b[0m\u001b[0m\n\u001b[1;32m     26\u001b[0m     \u001b[0;32mif\u001b[0m \u001b[0mind\u001b[0m \u001b[0;34m!=\u001b[0m \u001b[0msize\u001b[0m\u001b[0;34m:\u001b[0m\u001b[0;34m\u001b[0m\u001b[0m\n",
      "\u001b[0;32m/anaconda3/lib/python3.6/site-packages/numpy/core/numeric.py\u001b[0m in \u001b[0;36marray_equal\u001b[0;34m(a1, a2)\u001b[0m\n\u001b[1;32m   2395\u001b[0m     \u001b[0;32mif\u001b[0m \u001b[0ma1\u001b[0m\u001b[0;34m.\u001b[0m\u001b[0mshape\u001b[0m \u001b[0;34m!=\u001b[0m \u001b[0ma2\u001b[0m\u001b[0;34m.\u001b[0m\u001b[0mshape\u001b[0m\u001b[0;34m:\u001b[0m\u001b[0;34m\u001b[0m\u001b[0m\n\u001b[1;32m   2396\u001b[0m         \u001b[0;32mreturn\u001b[0m \u001b[0;32mFalse\u001b[0m\u001b[0;34m\u001b[0m\u001b[0m\n\u001b[0;32m-> 2397\u001b[0;31m     \u001b[0;32mreturn\u001b[0m \u001b[0mbool\u001b[0m\u001b[0;34m(\u001b[0m\u001b[0masarray\u001b[0m\u001b[0;34m(\u001b[0m\u001b[0ma1\u001b[0m \u001b[0;34m==\u001b[0m \u001b[0ma2\u001b[0m\u001b[0;34m)\u001b[0m\u001b[0;34m.\u001b[0m\u001b[0mall\u001b[0m\u001b[0;34m(\u001b[0m\u001b[0;34m)\u001b[0m\u001b[0;34m)\u001b[0m\u001b[0;34m\u001b[0m\u001b[0m\n\u001b[0m\u001b[1;32m   2398\u001b[0m \u001b[0;34m\u001b[0m\u001b[0m\n\u001b[1;32m   2399\u001b[0m \u001b[0;34m\u001b[0m\u001b[0m\n",
      "\u001b[0;32m/anaconda3/lib/python3.6/site-packages/numpy/core/_methods.py\u001b[0m in \u001b[0;36m_all\u001b[0;34m(a, axis, dtype, out, keepdims)\u001b[0m\n\u001b[1;32m     39\u001b[0m \u001b[0;34m\u001b[0m\u001b[0m\n\u001b[1;32m     40\u001b[0m \u001b[0;32mdef\u001b[0m \u001b[0m_all\u001b[0m\u001b[0;34m(\u001b[0m\u001b[0ma\u001b[0m\u001b[0;34m,\u001b[0m \u001b[0maxis\u001b[0m\u001b[0;34m=\u001b[0m\u001b[0;32mNone\u001b[0m\u001b[0;34m,\u001b[0m \u001b[0mdtype\u001b[0m\u001b[0;34m=\u001b[0m\u001b[0;32mNone\u001b[0m\u001b[0;34m,\u001b[0m \u001b[0mout\u001b[0m\u001b[0;34m=\u001b[0m\u001b[0;32mNone\u001b[0m\u001b[0;34m,\u001b[0m \u001b[0mkeepdims\u001b[0m\u001b[0;34m=\u001b[0m\u001b[0;32mFalse\u001b[0m\u001b[0;34m)\u001b[0m\u001b[0;34m:\u001b[0m\u001b[0;34m\u001b[0m\u001b[0m\n\u001b[0;32m---> 41\u001b[0;31m     \u001b[0;32mreturn\u001b[0m \u001b[0mumr_all\u001b[0m\u001b[0;34m(\u001b[0m\u001b[0ma\u001b[0m\u001b[0;34m,\u001b[0m \u001b[0maxis\u001b[0m\u001b[0;34m,\u001b[0m \u001b[0mdtype\u001b[0m\u001b[0;34m,\u001b[0m \u001b[0mout\u001b[0m\u001b[0;34m,\u001b[0m \u001b[0mkeepdims\u001b[0m\u001b[0;34m)\u001b[0m\u001b[0;34m\u001b[0m\u001b[0m\n\u001b[0m\u001b[1;32m     42\u001b[0m \u001b[0;34m\u001b[0m\u001b[0m\n\u001b[1;32m     43\u001b[0m \u001b[0;32mdef\u001b[0m \u001b[0m_count_reduce_items\u001b[0m\u001b[0;34m(\u001b[0m\u001b[0marr\u001b[0m\u001b[0;34m,\u001b[0m \u001b[0maxis\u001b[0m\u001b[0;34m)\u001b[0m\u001b[0;34m:\u001b[0m\u001b[0;34m\u001b[0m\u001b[0m\n",
      "\u001b[0;31mKeyboardInterrupt\u001b[0m: "
     ]
    }
   ],
   "source": [
    "def check_different(array):\n",
    "    i = 0\n",
    "    while i < len(array):\n",
    "        j = i + 1\n",
    "        while j < len(array):\n",
    "            if DTWDistance(array[i], array[j]) < 0.3: # if any two items are too similar, return false\n",
    "                return False\n",
    "            j += 1\n",
    "        i += 1\n",
    "    return True\n",
    "\n",
    "def equal_array(a1, a2):\n",
    "    for i in a1:\n",
    "        for j in a2:\n",
    "            if i != j:\n",
    "                return False\n",
    "            j += 1\n",
    "        i += 1\n",
    "    return True\n",
    "\n",
    "def removearray(L,arr):\n",
    "    ind = 0\n",
    "    size = len(L)\n",
    "    while ind != size and not np.array_equal(L[ind],arr):\n",
    "        ind += 1\n",
    "    if ind != size:\n",
    "        L.pop(ind)\n",
    "    else:\n",
    "        raise ValueError('array not found in list.')\n",
    "\n",
    "# most_different_value = 0\n",
    "# most_different_index = 0\n",
    "# print(len(combined_ss))\n",
    "# for i in combined_ss:\n",
    "#     if check_different(combined_ss):\n",
    "#         break \n",
    "#     else:\n",
    "#         for j in combined_ss:\n",
    "#             #print(j)\n",
    "#             if not equal_array(i, j) and DTWDistance(i, j) < 0.3:\n",
    "#                 removearray(combined_ss, j)\n",
    "    \n",
    "# print(len(combined_ss))\n",
    "# use np\n",
    "next_array = []\n",
    "def examplek(i):\n",
    "    global next_array\n",
    "#     if check_different(combined_ss):\n",
    "#         return len(combined_ss)\n",
    "    max_difference = 0\n",
    "    j = i + 1\n",
    "    while j < len(combined_ss):\n",
    "        #print(next_array)\n",
    "        difference = DTWDistance(combined_ss[i], combined_ss[j])\n",
    "        if difference > max_difference:\n",
    "            max_difference = difference\n",
    "            next_array = combined_ss[j]\n",
    "        if difference < 0.3:\n",
    "            removearray(combined_ss, combined_ss[j])\n",
    "        j += 1\n",
    "\n",
    "examplek(0)\n",
    "\n",
    "\n",
    "\n",
    "#next_array = []\n",
    "def k_center(i):\n",
    "    global next_array\n",
    "    if i >= len(combined_ss):\n",
    "        return print(\"done\")\n",
    "    if check_different(combined_ss):\n",
    "        return len(combined_ss)\n",
    "    max_difference = 0\n",
    "    j = i + 1\n",
    "    while j < len(combined_ss):\n",
    "        #print(next_array)\n",
    "        difference = DTWDistance(combined_ss[i], combined_ss[j])\n",
    "        if difference > max_difference:\n",
    "            max_difference = difference\n",
    "            next_array = combined_ss[j]\n",
    "        if difference < 0.3:\n",
    "            removearray(combined_ss, combined_ss[j])\n",
    "        j += 1\n",
    "    # Finish comparing one round\n",
    "    next_index = combined_ss.index(next_array)\n",
    "    if next_index == i:\n",
    "        k_center(next_index + 1)\n",
    "    else:\n",
    "        k_center(next_index)\n",
    "    \n",
    "#k_center(0)\n",
    "            \n"
   ]
  },
  {
   "cell_type": "code",
   "execution_count": 1,
   "metadata": {
    "collapsed": false
   },
   "outputs": [
    {
     "ename": "NameError",
     "evalue": "name 'combined_ss' is not defined",
     "output_type": "error",
     "traceback": [
      "\u001b[0;31m---------------------------------------------------------------------------\u001b[0m",
      "\u001b[0;31mNameError\u001b[0m                                 Traceback (most recent call last)",
      "\u001b[0;32m<ipython-input-1-d71cb74d7c8d>\u001b[0m in \u001b[0;36m<module>\u001b[0;34m()\u001b[0m\n\u001b[0;32m----> 1\u001b[0;31m \u001b[0mprint\u001b[0m\u001b[0;34m(\u001b[0m\u001b[0mlen\u001b[0m\u001b[0;34m(\u001b[0m\u001b[0mcombined_ss\u001b[0m\u001b[0;34m)\u001b[0m\u001b[0;34m)\u001b[0m\u001b[0;34m\u001b[0m\u001b[0m\n\u001b[0m",
      "\u001b[0;31mNameError\u001b[0m: name 'combined_ss' is not defined"
     ]
    }
   ],
   "source": [
    "print(len(combined_ss))"
   ]
  },
  {
   "cell_type": "markdown",
   "metadata": {},
   "source": [
    "## Clustering Algorithm"
   ]
  },
  {
   "cell_type": "code",
   "execution_count": 24,
   "metadata": {
    "ExecuteTime": {
     "end_time": "2018-05-28T17:00:37.035935Z",
     "start_time": "2018-05-28T17:00:37.026891Z"
    },
    "collapsed": false
   },
   "outputs": [
    {
     "name": "stdout",
     "output_type": "stream",
     "text": [
      "Total subsequences 6243\n",
      "Total sampled n= 124 1.9862245715201023 %\n"
     ]
    }
   ],
   "source": [
    "L = 16\n",
    "ss = subsequences(np.array(y_gauss), L)\n",
    "print(\"Total subsequences\", len(ss))\n",
    "\n",
    "sample_proportion = 0.02\n",
    "sample_n = int(sample_proportion * len(ss))\n",
    "sample_idxs = np.random.choice(ss.shape[0], sample_n, replace=False)\n",
    "sample = ss[sample_idxs]\n",
    "print(\"Total sampled n=\", len(sample), sample_n/len(ss) * 100, \"%\")"
   ]
  },
  {
   "cell_type": "code",
   "execution_count": 20,
   "metadata": {
    "ExecuteTime": {
     "end_time": "2018-05-28T15:50:13.556762Z",
     "start_time": "2018-05-28T15:50:10.312650Z"
    },
    "collapsed": false
   },
   "outputs": [
    {
     "data": {
      "text/plain": [
       "<matplotlib.image.AxesImage at 0x18189d6470>"
      ]
     },
     "execution_count": 20,
     "metadata": {},
     "output_type": "execute_result"
    },
    {
     "data": {
      "image/png": "[encoded data removed]",
      "text/plain": [
       "<matplotlib.figure.Figure at 0x107a7b0f0>"
      ]
     },
     "metadata": {},
     "output_type": "display_data"
    }
   ],
   "source": [
    "Y = squareform(distance.pdist(sample, DTWDistance))\n",
    "plt.imshow(Y,interpolation='none',cmap='Blues')"
   ]
  },
  {
   "cell_type": "code",
   "execution_count": 22,
   "metadata": {
    "ExecuteTime": {
     "end_time": "2018-05-28T17:00:38.375967Z",
     "start_time": "2018-05-28T17:00:38.026116Z"
    },
    "collapsed": true
   },
   "outputs": [],
   "source": [
    "# generate the linkage matrix\n",
    "Z = linkage(sample, method='single', metric=DTWDistance)"
   ]
  },
  {
   "cell_type": "code",
   "execution_count": 23,
   "metadata": {
    "ExecuteTime": {
     "end_time": "2018-05-28T17:00:47.360148Z",
     "start_time": "2018-05-28T17:00:47.022295Z"
    },
    "collapsed": false
   },
   "outputs": [
    {
     "data": {
      "image/png": "[encoded data removed]",
      "text/plain": [
       "<matplotlib.figure.Figure at 0x1818a6beb8>"
      ]
     },
     "metadata": {},
     "output_type": "display_data"
    }
   ],
   "source": [
    "plt.title('Hierarchical Clustering Dendrogram (truncated)')\n",
    "plt.xlabel('sample index or (cluster size)')\n",
    "plt.ylabel('distance')\n",
    "dendrogram(\n",
    "    Z,\n",
    "    truncate_mode='lastp',  # show only the last p merged clusters\n",
    "    p=12,  # show only the last p merged clusters\n",
    "    leaf_rotation=90.,\n",
    "    leaf_font_size=12.,\n",
    "    show_contracted=True,  # to get a distribution impression in truncated branches\n",
    ")\n",
    "plt.show()"
   ]
  },
  {
   "cell_type": "code",
   "execution_count": 25,
   "metadata": {
    "ExecuteTime": {
     "end_time": "2018-05-28T15:51:15.839221Z",
     "start_time": "2018-05-28T22:51:14.184Z"
    },
    "collapsed": true
   },
   "outputs": [],
   "source": [
    "# set cut-off to 50\n",
    "max_d = 0.4  # max_d as in max_distance"
   ]
  },
  {
   "cell_type": "code",
   "execution_count": 26,
   "metadata": {
    "ExecuteTime": {
     "end_time": "2018-05-28T15:51:15.839483Z",
     "start_time": "2018-05-28T22:51:14.906Z"
    },
    "collapsed": false
   },
   "outputs": [
    {
     "data": {
      "image/png": "[encoded data removed]",
      "text/plain": [
       "<matplotlib.figure.Figure at 0x1818a78da0>"
      ]
     },
     "metadata": {},
     "output_type": "display_data"
    }
   ],
   "source": [
    "fancy_dendrogram(\n",
    "    Z,\n",
    "    truncate_mode='lastp',\n",
    "    p=12,\n",
    "    leaf_rotation=90.,\n",
    "    leaf_font_size=12.,\n",
    "    show_contracted=True,\n",
    "    annotate_above= 0.4,  # useful in small plots so annotations don't overlap\n",
    "    max_d=max_d,\n",
    ")\n",
    "plt.show()"
   ]
  },
  {
   "cell_type": "code",
   "execution_count": 27,
   "metadata": {
    "ExecuteTime": {
     "end_time": "2018-05-28T17:01:09.234208Z",
     "start_time": "2018-05-28T17:01:09.222003Z"
    },
    "collapsed": false
   },
   "outputs": [
    {
     "name": "stdout",
     "output_type": "stream",
     "text": [
      "Samples  124\n",
      "Clusters found 30\n"
     ]
    },
    {
     "data": {
      "text/plain": [
       "array([ 8, 13, 13,  7,  4, 21,  3,  7, 13, 13, 13, 11,  3, 13, 21,  6,  7,\n",
       "        3, 27, 15,  6, 13,  7,  6,  7, 23,  5,  6,  7,  3, 13, 10, 10,  6,\n",
       "       21,  6, 13, 30,  7,  5,  6,  7, 20, 22, 13,  7, 26,  6, 13,  3, 29,\n",
       "       21, 13, 13, 12,  6,  6,  6,  7, 19,  6,  6,  7, 13,  1,  7, 21, 21,\n",
       "       21,  6, 13, 25, 13, 13,  6,  3,  6,  7, 21, 21, 21,  6,  2, 13, 14,\n",
       "        7,  6,  7, 13,  3,  7,  6,  7,  7,  6, 13,  6, 21, 13, 13, 21, 28,\n",
       "        7,  6, 18, 13,  7, 16,  6,  9,  7, 21, 24,  7, 21,  6, 12, 17, 21,\n",
       "       13,  6, 13, 13,  7], dtype=int32)"
      ]
     },
     "execution_count": 27,
     "metadata": {},
     "output_type": "execute_result"
    }
   ],
   "source": [
    "max_d = 0.3\n",
    "clusters = fcluster(Z, max_d, criterion='distance')\n",
    "clusters\n",
    "print(\"Samples \", len(sample))\n",
    "n_clusters = np.max(clusters)\n",
    "print(\"Clusters found\", n_clusters)\n",
    "clusters"
   ]
  },
  {
   "cell_type": "code",
   "execution_count": 28,
   "metadata": {
    "ExecuteTime": {
     "end_time": "2018-05-28T17:01:11.384798Z",
     "start_time": "2018-05-28T17:01:10.074117Z"
    },
    "collapsed": false
   },
   "outputs": [
    {
     "name": "stdout",
     "output_type": "stream",
     "text": [
      "L 16\n"
     ]
    },
    {
     "ename": "NameError",
     "evalue": "name 'avg_clusters' is not defined",
     "output_type": "error",
     "traceback": [
      "\u001b[0;31m---------------------------------------------------------------------------\u001b[0m",
      "\u001b[0;31mNameError\u001b[0m                                 Traceback (most recent call last)",
      "\u001b[0;32m<ipython-input-28-b732f73dd6a4>\u001b[0m in \u001b[0;36m<module>\u001b[0;34m()\u001b[0m\n\u001b[1;32m      6\u001b[0m     \u001b[0mwindow\u001b[0m \u001b[0;34m=\u001b[0m \u001b[0my_gauss\u001b[0m\u001b[0;34m[\u001b[0m\u001b[0mi\u001b[0m\u001b[0;34m:\u001b[0m\u001b[0mi\u001b[0m\u001b[0;34m+\u001b[0m\u001b[0mw\u001b[0m\u001b[0;34m]\u001b[0m\u001b[0;34m\u001b[0m\u001b[0m\n\u001b[1;32m      7\u001b[0m     \u001b[0mdistances\u001b[0m \u001b[0;34m=\u001b[0m \u001b[0;34m[\u001b[0m\u001b[0;34m]\u001b[0m\u001b[0;34m\u001b[0m\u001b[0m\n\u001b[0;32m----> 8\u001b[0;31m     \u001b[0;32mfor\u001b[0m \u001b[0mcluster\u001b[0m \u001b[0;32min\u001b[0m \u001b[0mavg_clusters\u001b[0m\u001b[0;34m:\u001b[0m\u001b[0;34m\u001b[0m\u001b[0m\n\u001b[0m\u001b[1;32m      9\u001b[0m         \u001b[0md\u001b[0m \u001b[0;34m=\u001b[0m \u001b[0mDTWDistance\u001b[0m\u001b[0;34m(\u001b[0m\u001b[0mwindow\u001b[0m\u001b[0;34m,\u001b[0m \u001b[0mcluster\u001b[0m\u001b[0;34m)\u001b[0m\u001b[0;34m\u001b[0m\u001b[0m\n\u001b[1;32m     10\u001b[0m         \u001b[0mdistances\u001b[0m\u001b[0;34m.\u001b[0m\u001b[0mappend\u001b[0m\u001b[0;34m(\u001b[0m\u001b[0md\u001b[0m\u001b[0;34m)\u001b[0m\u001b[0;34m\u001b[0m\u001b[0m\n",
      "\u001b[0;31mNameError\u001b[0m: name 'avg_clusters' is not defined"
     ]
    }
   ],
   "source": [
    "codes = []\n",
    "print(\"L\", L)\n",
    "w = int(L/2)\n",
    "classification = []\n",
    "for i in range(0, len(y_gauss), w):\n",
    "    window = y_gauss[i:i+w]\n",
    "    distances = []\n",
    "    for cluster in avg_clusters:\n",
    "        d = DTWDistance(window, cluster)\n",
    "        distances.append(d)\n",
    "    classification.append(np.argmin(distances))\n",
    "plt.plot(range(0, len(y), w), classification)\n",
    "plt.plot(range(0, len(y)), y)\n",
    "\n",
    "start = 0\n",
    "end = 0\n",
    "code = 0\n",
    "prev_code = classification[0]\n",
    "codes = []\n",
    "time = data['time']\n",
    "classification = np.array(classification).astype(int)\n",
    "print(classification)\n",
    "for i in range(len(classification)):\n",
    "    t = i * w\n",
    "    code = classification[i]\n",
    "    change_detected = code != prev_code\n",
    "    if change_detected:\n",
    "        codes.append({\n",
    "            'actor': 'iron',\n",
    "            'codes': [int(prev_code)],\n",
    "            'start': time[start],\n",
    "            'end': time[end]\n",
    "        })\n",
    "        start = t\n",
    "    prev_code = code \n",
    "    end = t + w\n",
    "codes.append({\n",
    "            'actor': 'iron',\n",
    "            'codes': [int(prev_code)],\n",
    "            'start': time[start],\n",
    "            'end': time[end-w]\n",
    "        })\n",
    "print(codes)    \n",
    "    "
   ]
  },
  {
   "cell_type": "code",
   "execution_count": 272,
   "metadata": {
    "ExecuteTime": {
     "end_time": "2018-05-28T17:01:18.428880Z",
     "start_time": "2018-05-28T17:01:18.421226Z"
    },
    "collapsed": false
   },
   "outputs": [
    {
     "name": "stdout",
     "output_type": "stream",
     "text": [
      "File saved! data/sensor_data/acc_coded_cesar.json\n"
     ]
    }
   ],
   "source": [
    "save_jsonfile('data/sensor_data/acc_coded_cesar.json', codes)"
   ]
  },
  {
   "cell_type": "code",
   "execution_count": null,
   "metadata": {
    "collapsed": true
   },
   "outputs": [],
   "source": []
  },
  {
   "cell_type": "code",
   "execution_count": null,
   "metadata": {
    "collapsed": true
   },
   "outputs": [],
   "source": []
  }
 ],
 "metadata": {
  "kernelspec": {
   "display_name": "Python 3",
   "language": "python",
   "name": "python3"
  },
  "language_info": {
   "codemirror_mode": {
    "name": "ipython",
    "version": 3
   },
   "file_extension": ".py",
   "mimetype": "text/x-python",
   "name": "python",
   "nbconvert_exporter": "python",
   "pygments_lexer": "ipython3",
   "version": "3.6.0"
  },
  "toc": {
   "base_numbering": 1,
   "nav_menu": {},
   "number_sections": true,
   "sideBar": true,
   "skip_h1_title": false,
   "title_cell": "Table of Contents",
   "title_sidebar": "Contents",
   "toc_cell": false,
   "toc_position": {},
   "toc_section_display": true,
   "toc_window_display": false
  }
 },
 "nbformat": 4,
 "nbformat_minor": 2
}
